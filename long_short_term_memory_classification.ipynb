{
 "cells": [
  {
   "cell_type": "markdown",
   "id": "22387cbc",
   "metadata": {},
   "source": [
    "# Data Loading and Imports"
   ]
  },
  {
   "cell_type": "code",
   "execution_count": 2,
   "id": "ab465900",
   "metadata": {},
   "outputs": [],
   "source": [
    "import pandas as pd\n",
    "import matplotlib.pyplot as plt\n",
    "import seaborn as sns\n",
    "import numpy as np\n",
    "from dython import nominal\n",
    "from sklearn.model_selection import train_test_split, KFold\n",
    "from sklearn import preprocessing\n",
    "from sklearn.pipeline import make_pipeline\n",
    "from sklearn.metrics import precision_score, recall_score, f1_score, roc_curve, auc, accuracy_score, confusion_matrix, classification_report\n",
    "import pickle\n",
    "from tensorflow import keras\n",
    "from keras.models import Sequential\n",
    "from keras.layers import Dense, LSTM, Dropout, Flatten, BatchNormalization, Activation\n",
    "from tensorflow.keras.utils import to_categorical\n",
    "from scikeras.wrappers import KerasClassifier"
   ]
  },
  {
   "cell_type": "code",
   "execution_count": 3,
   "id": "3a8509aa",
   "metadata": {},
   "outputs": [],
   "source": [
    "data_dir = './data/'"
   ]
  },
  {
   "cell_type": "code",
   "execution_count": 4,
   "id": "cf9f7a31",
   "metadata": {},
   "outputs": [],
   "source": [
    "results_dir = './data/results/'"
   ]
  },
  {
   "cell_type": "code",
   "execution_count": 5,
   "id": "2ee14d73",
   "metadata": {},
   "outputs": [],
   "source": [
    "models_dir = './models/'"
   ]
  },
  {
   "cell_type": "code",
   "execution_count": 6,
   "id": "1facc565",
   "metadata": {},
   "outputs": [],
   "source": [
    "model_name = 'long_short_term_memory_classification'"
   ]
  },
  {
   "cell_type": "code",
   "execution_count": 7,
   "id": "f6f0095a",
   "metadata": {},
   "outputs": [],
   "source": [
    "classification_data = pd.read_csv(data_dir+'classification_data.csv', index_col=[0])"
   ]
  },
  {
   "cell_type": "markdown",
   "id": "2d91fb03",
   "metadata": {},
   "source": [
    "# LSTM (Classification)"
   ]
  },
  {
   "cell_type": "markdown",
   "id": "05ffce14",
   "metadata": {},
   "source": [
    "## Functions"
   ]
  },
  {
   "cell_type": "code",
   "execution_count": 1,
   "id": "2e109239",
   "metadata": {},
   "outputs": [],
   "source": [
    "def build_model_LSTM(hid_layer_nums = 1, units=100, input_shape=(1, 19)):\n",
    "    # LSTM model\n",
    "    clf = Sequential()\n",
    "\n",
    "    # First LSTM layer with Dropout regularisation\n",
    "    clf.add(LSTM(units=units, return_sequences=True, input_shape=input_shape))\n",
    "    clf.add(Activation(\"relu\"))\n",
    "    clf.add(BatchNormalization())\n",
    "    clf.add(Dropout(0.2))\n",
    "\n",
    "    # Hidden LSTM layers\n",
    "    for hid_layer_num in range(hid_layer_nums-1):\n",
    "        clf.add(LSTM(units=units, return_sequences=True))\n",
    "        clf.add(Activation(\"relu\"))\n",
    "        clf.add(BatchNormalization())\n",
    "        clf.add(Dropout(0.2))\n",
    "\n",
    "    # Last LSTM layer\n",
    "    clf.add(LSTM(units=units))\n",
    "    clf.add(Activation(\"relu\"))\n",
    "    clf.add(BatchNormalization())\n",
    "    clf.add(Dropout(0.2))\n",
    "\n",
    "    # The output layer\n",
    "    clf.add(Dense(units=2, activation='sigmoid'))\n",
    "\n",
    "    return clf"
   ]
  },
  {
   "cell_type": "code",
   "execution_count": 9,
   "id": "82a92f6b",
   "metadata": {},
   "outputs": [],
   "source": [
    "def obtain_metrics(y, predictions):\n",
    "    matrix = classification_report(y, predictions, output_dict=True)\n",
    "    # accuracy \n",
    "    accuracy = round(accuracy_score(y, predictions), 3)\n",
    "    # AUROC\n",
    "    fpr, tpr, threshold = roc_curve(y, predictions)\n",
    "    auroc = round(auc(fpr, tpr), 3)\n",
    "    # precision\n",
    "    prec_0 = round(matrix['0']['precision'], 3)\n",
    "    prec_1 = round(matrix['1']['precision'], 3)\n",
    "    prec = recall_score(y, predictions)\n",
    "    # recall\n",
    "    rec_0 = round(matrix['0']['recall'], 3)\n",
    "    rec_1 = round(matrix['1']['recall'], 3)\n",
    "    rec = recall_score(y, predictions)\n",
    "    # f-1 score\n",
    "    f1_0 = round(matrix['0']['f1-score'], 3)\n",
    "    f1_1 = round(matrix['1']['f1-score'], 3)\n",
    "    f1 = (f1_0 + f1_1)/2\n",
    "    return accuracy, auroc, prec_0, prec_1, prec, rec_0, rec_1, rec, f1_0, f1_1, f1"
   ]
  },
  {
   "cell_type": "markdown",
   "id": "bb23dcb4",
   "metadata": {},
   "source": [
    "## Implementation"
   ]
  },
  {
   "cell_type": "code",
   "execution_count": 10,
   "id": "5bf45272",
   "metadata": {},
   "outputs": [
    {
     "data": {
      "text/html": [
       "<div>\n",
       "<style scoped>\n",
       "    .dataframe tbody tr th:only-of-type {\n",
       "        vertical-align: middle;\n",
       "    }\n",
       "\n",
       "    .dataframe tbody tr th {\n",
       "        vertical-align: top;\n",
       "    }\n",
       "\n",
       "    .dataframe thead th {\n",
       "        text-align: right;\n",
       "    }\n",
       "</style>\n",
       "<table border=\"1\" class=\"dataframe\">\n",
       "  <thead>\n",
       "    <tr style=\"text-align: right;\">\n",
       "      <th></th>\n",
       "      <th>edible</th>\n",
       "      <th>cap-shape</th>\n",
       "      <th>cap-surface</th>\n",
       "      <th>cap-color</th>\n",
       "      <th>bruises</th>\n",
       "      <th>odor</th>\n",
       "      <th>gill-attachment</th>\n",
       "      <th>gill-spacing</th>\n",
       "      <th>gill-size</th>\n",
       "      <th>gill-color</th>\n",
       "      <th>stalk-shape</th>\n",
       "      <th>stalk-root</th>\n",
       "      <th>stalk-surface-above-ring</th>\n",
       "      <th>stalk-surface-below-ring</th>\n",
       "      <th>veil-color</th>\n",
       "      <th>ring-number</th>\n",
       "      <th>ring-type</th>\n",
       "      <th>spore-print-color</th>\n",
       "      <th>population</th>\n",
       "      <th>habitat</th>\n",
       "    </tr>\n",
       "  </thead>\n",
       "  <tbody>\n",
       "    <tr>\n",
       "      <th>0</th>\n",
       "      <td>poisonous</td>\n",
       "      <td>convex</td>\n",
       "      <td>smooth</td>\n",
       "      <td>brown</td>\n",
       "      <td>yes</td>\n",
       "      <td>pungent</td>\n",
       "      <td>free</td>\n",
       "      <td>close</td>\n",
       "      <td>narrow</td>\n",
       "      <td>black</td>\n",
       "      <td>enlarging</td>\n",
       "      <td>equal</td>\n",
       "      <td>smooth</td>\n",
       "      <td>smooth</td>\n",
       "      <td>white</td>\n",
       "      <td>1</td>\n",
       "      <td>pendant</td>\n",
       "      <td>black</td>\n",
       "      <td>scattered</td>\n",
       "      <td>urban</td>\n",
       "    </tr>\n",
       "    <tr>\n",
       "      <th>1</th>\n",
       "      <td>edible</td>\n",
       "      <td>convex</td>\n",
       "      <td>smooth</td>\n",
       "      <td>yellow</td>\n",
       "      <td>yes</td>\n",
       "      <td>almond</td>\n",
       "      <td>free</td>\n",
       "      <td>close</td>\n",
       "      <td>broad</td>\n",
       "      <td>black</td>\n",
       "      <td>enlarging</td>\n",
       "      <td>club</td>\n",
       "      <td>smooth</td>\n",
       "      <td>smooth</td>\n",
       "      <td>white</td>\n",
       "      <td>1</td>\n",
       "      <td>pendant</td>\n",
       "      <td>brown</td>\n",
       "      <td>numerous</td>\n",
       "      <td>grasses</td>\n",
       "    </tr>\n",
       "    <tr>\n",
       "      <th>2</th>\n",
       "      <td>edible</td>\n",
       "      <td>bell</td>\n",
       "      <td>smooth</td>\n",
       "      <td>white</td>\n",
       "      <td>yes</td>\n",
       "      <td>anise</td>\n",
       "      <td>free</td>\n",
       "      <td>close</td>\n",
       "      <td>broad</td>\n",
       "      <td>brown</td>\n",
       "      <td>enlarging</td>\n",
       "      <td>club</td>\n",
       "      <td>smooth</td>\n",
       "      <td>smooth</td>\n",
       "      <td>white</td>\n",
       "      <td>1</td>\n",
       "      <td>pendant</td>\n",
       "      <td>brown</td>\n",
       "      <td>numerous</td>\n",
       "      <td>meadows</td>\n",
       "    </tr>\n",
       "    <tr>\n",
       "      <th>3</th>\n",
       "      <td>poisonous</td>\n",
       "      <td>convex</td>\n",
       "      <td>scaly</td>\n",
       "      <td>white</td>\n",
       "      <td>yes</td>\n",
       "      <td>pungent</td>\n",
       "      <td>free</td>\n",
       "      <td>close</td>\n",
       "      <td>narrow</td>\n",
       "      <td>brown</td>\n",
       "      <td>enlarging</td>\n",
       "      <td>equal</td>\n",
       "      <td>smooth</td>\n",
       "      <td>smooth</td>\n",
       "      <td>white</td>\n",
       "      <td>1</td>\n",
       "      <td>pendant</td>\n",
       "      <td>black</td>\n",
       "      <td>scattered</td>\n",
       "      <td>urban</td>\n",
       "    </tr>\n",
       "    <tr>\n",
       "      <th>4</th>\n",
       "      <td>edible</td>\n",
       "      <td>convex</td>\n",
       "      <td>smooth</td>\n",
       "      <td>gray</td>\n",
       "      <td>no</td>\n",
       "      <td>none</td>\n",
       "      <td>free</td>\n",
       "      <td>crowded</td>\n",
       "      <td>broad</td>\n",
       "      <td>black</td>\n",
       "      <td>tapering</td>\n",
       "      <td>equal</td>\n",
       "      <td>smooth</td>\n",
       "      <td>smooth</td>\n",
       "      <td>white</td>\n",
       "      <td>1</td>\n",
       "      <td>evanescent</td>\n",
       "      <td>brown</td>\n",
       "      <td>abundant</td>\n",
       "      <td>grasses</td>\n",
       "    </tr>\n",
       "    <tr>\n",
       "      <th>...</th>\n",
       "      <td>...</td>\n",
       "      <td>...</td>\n",
       "      <td>...</td>\n",
       "      <td>...</td>\n",
       "      <td>...</td>\n",
       "      <td>...</td>\n",
       "      <td>...</td>\n",
       "      <td>...</td>\n",
       "      <td>...</td>\n",
       "      <td>...</td>\n",
       "      <td>...</td>\n",
       "      <td>...</td>\n",
       "      <td>...</td>\n",
       "      <td>...</td>\n",
       "      <td>...</td>\n",
       "      <td>...</td>\n",
       "      <td>...</td>\n",
       "      <td>...</td>\n",
       "      <td>...</td>\n",
       "      <td>...</td>\n",
       "    </tr>\n",
       "    <tr>\n",
       "      <th>8119</th>\n",
       "      <td>edible</td>\n",
       "      <td>knobbed</td>\n",
       "      <td>smooth</td>\n",
       "      <td>brown</td>\n",
       "      <td>no</td>\n",
       "      <td>none</td>\n",
       "      <td>attached</td>\n",
       "      <td>close</td>\n",
       "      <td>broad</td>\n",
       "      <td>yellow</td>\n",
       "      <td>enlarging</td>\n",
       "      <td>unknown</td>\n",
       "      <td>smooth</td>\n",
       "      <td>smooth</td>\n",
       "      <td>orange</td>\n",
       "      <td>1</td>\n",
       "      <td>pendant</td>\n",
       "      <td>buff</td>\n",
       "      <td>clustered</td>\n",
       "      <td>leaves</td>\n",
       "    </tr>\n",
       "    <tr>\n",
       "      <th>8120</th>\n",
       "      <td>edible</td>\n",
       "      <td>convex</td>\n",
       "      <td>smooth</td>\n",
       "      <td>brown</td>\n",
       "      <td>no</td>\n",
       "      <td>none</td>\n",
       "      <td>attached</td>\n",
       "      <td>close</td>\n",
       "      <td>broad</td>\n",
       "      <td>yellow</td>\n",
       "      <td>enlarging</td>\n",
       "      <td>unknown</td>\n",
       "      <td>smooth</td>\n",
       "      <td>smooth</td>\n",
       "      <td>brown</td>\n",
       "      <td>1</td>\n",
       "      <td>pendant</td>\n",
       "      <td>buff</td>\n",
       "      <td>several</td>\n",
       "      <td>leaves</td>\n",
       "    </tr>\n",
       "    <tr>\n",
       "      <th>8121</th>\n",
       "      <td>edible</td>\n",
       "      <td>flat</td>\n",
       "      <td>smooth</td>\n",
       "      <td>brown</td>\n",
       "      <td>no</td>\n",
       "      <td>none</td>\n",
       "      <td>attached</td>\n",
       "      <td>close</td>\n",
       "      <td>broad</td>\n",
       "      <td>brown</td>\n",
       "      <td>enlarging</td>\n",
       "      <td>unknown</td>\n",
       "      <td>smooth</td>\n",
       "      <td>smooth</td>\n",
       "      <td>orange</td>\n",
       "      <td>1</td>\n",
       "      <td>pendant</td>\n",
       "      <td>buff</td>\n",
       "      <td>clustered</td>\n",
       "      <td>leaves</td>\n",
       "    </tr>\n",
       "    <tr>\n",
       "      <th>8122</th>\n",
       "      <td>poisonous</td>\n",
       "      <td>knobbed</td>\n",
       "      <td>scaly</td>\n",
       "      <td>brown</td>\n",
       "      <td>no</td>\n",
       "      <td>fishy</td>\n",
       "      <td>free</td>\n",
       "      <td>close</td>\n",
       "      <td>narrow</td>\n",
       "      <td>buff</td>\n",
       "      <td>tapering</td>\n",
       "      <td>unknown</td>\n",
       "      <td>smooth</td>\n",
       "      <td>silky</td>\n",
       "      <td>white</td>\n",
       "      <td>1</td>\n",
       "      <td>evanescent</td>\n",
       "      <td>white</td>\n",
       "      <td>several</td>\n",
       "      <td>leaves</td>\n",
       "    </tr>\n",
       "    <tr>\n",
       "      <th>8123</th>\n",
       "      <td>edible</td>\n",
       "      <td>convex</td>\n",
       "      <td>smooth</td>\n",
       "      <td>brown</td>\n",
       "      <td>no</td>\n",
       "      <td>none</td>\n",
       "      <td>attached</td>\n",
       "      <td>close</td>\n",
       "      <td>broad</td>\n",
       "      <td>yellow</td>\n",
       "      <td>enlarging</td>\n",
       "      <td>unknown</td>\n",
       "      <td>smooth</td>\n",
       "      <td>smooth</td>\n",
       "      <td>orange</td>\n",
       "      <td>1</td>\n",
       "      <td>pendant</td>\n",
       "      <td>orange</td>\n",
       "      <td>clustered</td>\n",
       "      <td>leaves</td>\n",
       "    </tr>\n",
       "  </tbody>\n",
       "</table>\n",
       "<p>8124 rows × 20 columns</p>\n",
       "</div>"
      ],
      "text/plain": [
       "         edible cap-shape cap-surface cap-color bruises     odor  \\\n",
       "0     poisonous    convex      smooth     brown     yes  pungent   \n",
       "1        edible    convex      smooth    yellow     yes   almond   \n",
       "2        edible      bell      smooth     white     yes    anise   \n",
       "3     poisonous    convex       scaly     white     yes  pungent   \n",
       "4        edible    convex      smooth      gray      no     none   \n",
       "...         ...       ...         ...       ...     ...      ...   \n",
       "8119     edible   knobbed      smooth     brown      no     none   \n",
       "8120     edible    convex      smooth     brown      no     none   \n",
       "8121     edible      flat      smooth     brown      no     none   \n",
       "8122  poisonous   knobbed       scaly     brown      no    fishy   \n",
       "8123     edible    convex      smooth     brown      no     none   \n",
       "\n",
       "     gill-attachment gill-spacing gill-size gill-color stalk-shape stalk-root  \\\n",
       "0               free        close    narrow      black   enlarging      equal   \n",
       "1               free        close     broad      black   enlarging       club   \n",
       "2               free        close     broad      brown   enlarging       club   \n",
       "3               free        close    narrow      brown   enlarging      equal   \n",
       "4               free      crowded     broad      black    tapering      equal   \n",
       "...              ...          ...       ...        ...         ...        ...   \n",
       "8119        attached        close     broad     yellow   enlarging    unknown   \n",
       "8120        attached        close     broad     yellow   enlarging    unknown   \n",
       "8121        attached        close     broad      brown   enlarging    unknown   \n",
       "8122            free        close    narrow       buff    tapering    unknown   \n",
       "8123        attached        close     broad     yellow   enlarging    unknown   \n",
       "\n",
       "     stalk-surface-above-ring stalk-surface-below-ring veil-color  \\\n",
       "0                      smooth                   smooth      white   \n",
       "1                      smooth                   smooth      white   \n",
       "2                      smooth                   smooth      white   \n",
       "3                      smooth                   smooth      white   \n",
       "4                      smooth                   smooth      white   \n",
       "...                       ...                      ...        ...   \n",
       "8119                   smooth                   smooth     orange   \n",
       "8120                   smooth                   smooth      brown   \n",
       "8121                   smooth                   smooth     orange   \n",
       "8122                   smooth                    silky      white   \n",
       "8123                   smooth                   smooth     orange   \n",
       "\n",
       "      ring-number   ring-type spore-print-color population  habitat  \n",
       "0               1     pendant             black  scattered    urban  \n",
       "1               1     pendant             brown   numerous  grasses  \n",
       "2               1     pendant             brown   numerous  meadows  \n",
       "3               1     pendant             black  scattered    urban  \n",
       "4               1  evanescent             brown   abundant  grasses  \n",
       "...           ...         ...               ...        ...      ...  \n",
       "8119            1     pendant              buff  clustered   leaves  \n",
       "8120            1     pendant              buff    several   leaves  \n",
       "8121            1     pendant              buff  clustered   leaves  \n",
       "8122            1  evanescent             white    several   leaves  \n",
       "8123            1     pendant            orange  clustered   leaves  \n",
       "\n",
       "[8124 rows x 20 columns]"
      ]
     },
     "execution_count": 10,
     "metadata": {},
     "output_type": "execute_result"
    }
   ],
   "source": [
    "classification_data"
   ]
  },
  {
   "cell_type": "code",
   "execution_count": 11,
   "id": "eb442556",
   "metadata": {},
   "outputs": [
    {
     "data": {
      "text/plain": [
       "(8124, 20)"
      ]
     },
     "execution_count": 11,
     "metadata": {},
     "output_type": "execute_result"
    }
   ],
   "source": [
    "classification_data.shape"
   ]
  },
  {
   "cell_type": "code",
   "execution_count": 12,
   "id": "7fb1c2f5",
   "metadata": {},
   "outputs": [],
   "source": [
    "dep_var = 'edible'"
   ]
  },
  {
   "cell_type": "code",
   "execution_count": 13,
   "id": "fe1fef21",
   "metadata": {},
   "outputs": [],
   "source": [
    "X = classification_data.iloc[:,classification_data.columns != dep_var]"
   ]
  },
  {
   "cell_type": "code",
   "execution_count": 14,
   "id": "b3a556e6",
   "metadata": {},
   "outputs": [],
   "source": [
    "y = classification_data[dep_var]"
   ]
  },
  {
   "cell_type": "code",
   "execution_count": 15,
   "id": "a5f4b2e8",
   "metadata": {},
   "outputs": [
    {
     "data": {
      "text/plain": [
       "0       poisonous\n",
       "1          edible\n",
       "2          edible\n",
       "3       poisonous\n",
       "4          edible\n",
       "          ...    \n",
       "8119       edible\n",
       "8120       edible\n",
       "8121       edible\n",
       "8122    poisonous\n",
       "8123       edible\n",
       "Name: edible, Length: 8124, dtype: object"
      ]
     },
     "execution_count": 15,
     "metadata": {},
     "output_type": "execute_result"
    }
   ],
   "source": [
    "y"
   ]
  },
  {
   "cell_type": "code",
   "execution_count": 16,
   "id": "6fe4ac8a",
   "metadata": {},
   "outputs": [],
   "source": [
    "# Random 6-digit seed\n",
    "test_seed = 513370"
   ]
  },
  {
   "cell_type": "code",
   "execution_count": 17,
   "id": "7d452f5f",
   "metadata": {},
   "outputs": [],
   "source": [
    "X_train, X_test, y_train, y_test = train_test_split(X, y, test_size=0.20, random_state=test_seed, stratify=y)"
   ]
  },
  {
   "cell_type": "markdown",
   "id": "5a504bca",
   "metadata": {},
   "source": [
    "Initialise the dataframe that holds the results of the datasets"
   ]
  },
  {
   "cell_type": "code",
   "execution_count": 18,
   "id": "2bb2913e",
   "metadata": {},
   "outputs": [],
   "source": [
    "columns = ['task', 'model', 'seed', 'split', 'optimizer', 'hidden_layers_no', 'units', 'train_accuracy', 'valid_accuracy', 'valid_precision', 'valid_recall', 'valid_f1_score', 'valid_auroc']\n",
    "long_short_term_memory_classification_results_df = pd.DataFrame(columns=columns)\n",
    "df_rows = 0"
   ]
  },
  {
   "cell_type": "code",
   "execution_count": 19,
   "id": "2de0694e",
   "metadata": {},
   "outputs": [],
   "source": [
    "# 5 random 6 digit numbers\n",
    "seeds = [660108, 720389, 193768, 586930, 327407]"
   ]
  },
  {
   "cell_type": "markdown",
   "id": "77276259",
   "metadata": {},
   "source": [
    "Now we need to prepare our data and the cross-validation process so that we can start training."
   ]
  },
  {
   "cell_type": "code",
   "execution_count": 20,
   "id": "19c7b575",
   "metadata": {},
   "outputs": [],
   "source": [
    "adam = keras.optimizers.Adam(learning_rate=0.0001)\n",
    "optimizers = {'adam': adam}"
   ]
  },
  {
   "cell_type": "code",
   "execution_count": null,
   "id": "13ea3dda",
   "metadata": {
    "scrolled": true
   },
   "outputs": [],
   "source": [
    "pd.options.mode.chained_assignment = None  # default='warn'\n",
    "# Cross-Validation Pipeline\n",
    "\n",
    "for seed in seeds:\n",
    "    print(f'Starting training for seed {seed}')\n",
    "    # assign the tuned parameters\n",
    "    split = 0\n",
    "    num_of_hidden_layers = [5, 6, 7]\n",
    "    num_of_units = [32, 64, 128, 256] \n",
    "    \n",
    "    X_train, X_test, y_train, y_test = train_test_split(X, y, test_size=0.20, random_state=seed, stratify=y)\n",
    "    for train_index, valid_index in KFold(n_splits=5, shuffle=False).split(X_train):\n",
    "        # Data Split\n",
    "        split += 1\n",
    "        X_train_curr_split = X_train.iloc[train_index]\n",
    "        X_valid_curr_split = X_train.iloc[valid_index]\n",
    "        y_train_curr_split = y_train.iloc[train_index]\n",
    "        y_valid_curr_split = y_train.iloc[valid_index]\n",
    "        \n",
    "        # Encode the data\n",
    "        enc = preprocessing.OrdinalEncoder(handle_unknown='use_encoded_value', unknown_value=100)\n",
    "        X_train_curr_split = enc.fit_transform(X_train_curr_split)\n",
    "        X_valid_curr_split = enc.transform(X_valid_curr_split)\n",
    "        \n",
    "#         # Scale the data        \n",
    "#         scaler = preprocessing.StandardScaler()\n",
    "#         X_train_curr_split = scaler.fit_transform(X_train_curr_split)\n",
    "#         X_valid_curr_split = scaler.transform(X_valid_curr_split)\n",
    "        \n",
    "        # Reshape the data\n",
    "        X_train_curr_split_transformed = X_train_curr_split.reshape(X_train_curr_split.shape[0], 1, X_train_curr_split.shape[1])\n",
    "        X_valid_curr_split_transformed = X_valid_curr_split.reshape(X_valid_curr_split.shape[0], 1, X_valid_curr_split.shape[1])\n",
    "\n",
    "        # as output varaibles are stratified on, there is not any unknowon variable, therefore no possibility of data leakage\n",
    "        encoder_dict = {'edible': 1,\n",
    "                        'poisonous': 0}\n",
    "        \n",
    "        # transform the output into the right format\n",
    "        y_train_curr_split = y_train_curr_split.replace(encoder_dict).values\n",
    "        y_valid_curr_split = y_valid_curr_split.replace(encoder_dict).values\n",
    "        y_train_curr_split_transformed = to_categorical(y_train_curr_split, 2)\n",
    "        y_valid_curr_split_transformed = to_categorical(y_valid_curr_split, 2)\n",
    "\n",
    "        \n",
    "        for hidden_layers in num_of_hidden_layers:\n",
    "            for units in num_of_units:\n",
    "                model = build_model_LSTM(hid_layer_nums = hidden_layers, units=units)\n",
    "                model.compile(optimizer=optimizers['adam'], loss='binary_crossentropy', metrics=['accuracy' , \n",
    "                                                                                                 keras.metrics.Precision(), \n",
    "                                                                                                 keras.metrics.Recall()])\n",
    "                \n",
    "                # train the model\n",
    "                model.fit(X_train_curr_split_transformed, y_train_curr_split_transformed, epochs=10, batch_size=32, verbose=1,\n",
    "                          validation_data=(X_valid_curr_split_transformed, y_valid_curr_split_transformed)) \n",
    "                \n",
    "                # Obtain metric scores\n",
    "                train_predictions = np.argmax(model.predict(X_train_curr_split_transformed), axis=1)\n",
    "                valid_predictions = np.argmax(model.predict(X_valid_curr_split_transformed), axis=1)\n",
    "                \n",
    "                train_accuracy, _, _, _, _, _, _, _, _, _, _ = obtain_metrics(y_train_curr_split, train_predictions)\n",
    "                valid_accuracy, valid_auroc, _, _, valid_prec_score, _, _, valid_rec_score, _, _, valid_f1_score = obtain_metrics(y_valid_curr_split, valid_predictions)\n",
    "                  \n",
    "                long_short_term_memory_classification_results_df.loc[df_rows] = ['classification', \n",
    "                                                                                 'LSTM', \n",
    "                                                                                 seed,\n",
    "                                                                                 split,\n",
    "                                                                                 'adam',\n",
    "                                                                                 hidden_layers,\n",
    "                                                                                 units,\n",
    "                                                                                 train_accuracy,\n",
    "                                                                                 valid_accuracy,\n",
    "                                                                                 valid_prec_score,\n",
    "                                                                                 valid_rec_score,\n",
    "                                                                                 valid_f1_score,\n",
    "                                                                                 valid_auroc]\n",
    "                # increment the rows variable\n",
    "                df_rows +=1\n",
    "    print(f'Done training for seed {seed}')     "
   ]
  },
  {
   "cell_type": "markdown",
   "id": "aa3d1773",
   "metadata": {},
   "source": [
    "## Functions"
   ]
  },
  {
   "cell_type": "code",
   "execution_count": 21,
   "id": "f2820bae",
   "metadata": {},
   "outputs": [],
   "source": [
    "def group_seeded_data(data, groupby_columns, droped_cols=['seed', 'split']):\n",
    "    grouped_data = data.groupby(groupby_columns).agg('mean').reset_index().drop(droped_cols, axis=1)\n",
    "    return grouped_data"
   ]
  },
  {
   "cell_type": "code",
   "execution_count": 25,
   "id": "5a941c9b",
   "metadata": {},
   "outputs": [
    {
     "data": {
      "text/html": [
       "<div>\n",
       "<style scoped>\n",
       "    .dataframe tbody tr th:only-of-type {\n",
       "        vertical-align: middle;\n",
       "    }\n",
       "\n",
       "    .dataframe tbody tr th {\n",
       "        vertical-align: top;\n",
       "    }\n",
       "\n",
       "    .dataframe thead th {\n",
       "        text-align: right;\n",
       "    }\n",
       "</style>\n",
       "<table border=\"1\" class=\"dataframe\">\n",
       "  <thead>\n",
       "    <tr style=\"text-align: right;\">\n",
       "      <th></th>\n",
       "      <th>task</th>\n",
       "      <th>model</th>\n",
       "      <th>seed</th>\n",
       "      <th>split</th>\n",
       "      <th>optimizer</th>\n",
       "      <th>hidden_layers_no</th>\n",
       "      <th>units</th>\n",
       "      <th>train_accuracy</th>\n",
       "      <th>valid_accuracy</th>\n",
       "      <th>valid_precision</th>\n",
       "      <th>valid_recall</th>\n",
       "      <th>valid_f1_score</th>\n",
       "      <th>valid_auroc</th>\n",
       "    </tr>\n",
       "  </thead>\n",
       "  <tbody>\n",
       "    <tr>\n",
       "      <th>0</th>\n",
       "      <td>classification</td>\n",
       "      <td>LSTM</td>\n",
       "      <td>660108</td>\n",
       "      <td>1</td>\n",
       "      <td>adam</td>\n",
       "      <td>5</td>\n",
       "      <td>32</td>\n",
       "      <td>0.939</td>\n",
       "      <td>0.920</td>\n",
       "      <td>0.968300</td>\n",
       "      <td>0.968300</td>\n",
       "      <td>0.9190</td>\n",
       "      <td>0.916</td>\n",
       "    </tr>\n",
       "    <tr>\n",
       "      <th>1</th>\n",
       "      <td>classification</td>\n",
       "      <td>LSTM</td>\n",
       "      <td>660108</td>\n",
       "      <td>1</td>\n",
       "      <td>adam</td>\n",
       "      <td>5</td>\n",
       "      <td>64</td>\n",
       "      <td>0.997</td>\n",
       "      <td>0.995</td>\n",
       "      <td>0.997118</td>\n",
       "      <td>0.997118</td>\n",
       "      <td>0.9955</td>\n",
       "      <td>0.995</td>\n",
       "    </tr>\n",
       "    <tr>\n",
       "      <th>2</th>\n",
       "      <td>classification</td>\n",
       "      <td>LSTM</td>\n",
       "      <td>660108</td>\n",
       "      <td>1</td>\n",
       "      <td>adam</td>\n",
       "      <td>5</td>\n",
       "      <td>128</td>\n",
       "      <td>1.000</td>\n",
       "      <td>1.000</td>\n",
       "      <td>1.000000</td>\n",
       "      <td>1.000000</td>\n",
       "      <td>1.0000</td>\n",
       "      <td>1.000</td>\n",
       "    </tr>\n",
       "    <tr>\n",
       "      <th>3</th>\n",
       "      <td>classification</td>\n",
       "      <td>LSTM</td>\n",
       "      <td>660108</td>\n",
       "      <td>1</td>\n",
       "      <td>adam</td>\n",
       "      <td>5</td>\n",
       "      <td>256</td>\n",
       "      <td>1.000</td>\n",
       "      <td>1.000</td>\n",
       "      <td>1.000000</td>\n",
       "      <td>1.000000</td>\n",
       "      <td>1.0000</td>\n",
       "      <td>1.000</td>\n",
       "    </tr>\n",
       "    <tr>\n",
       "      <th>4</th>\n",
       "      <td>classification</td>\n",
       "      <td>LSTM</td>\n",
       "      <td>660108</td>\n",
       "      <td>1</td>\n",
       "      <td>adam</td>\n",
       "      <td>6</td>\n",
       "      <td>32</td>\n",
       "      <td>0.988</td>\n",
       "      <td>0.980</td>\n",
       "      <td>0.988473</td>\n",
       "      <td>0.988473</td>\n",
       "      <td>0.9795</td>\n",
       "      <td>0.979</td>\n",
       "    </tr>\n",
       "    <tr>\n",
       "      <th>...</th>\n",
       "      <td>...</td>\n",
       "      <td>...</td>\n",
       "      <td>...</td>\n",
       "      <td>...</td>\n",
       "      <td>...</td>\n",
       "      <td>...</td>\n",
       "      <td>...</td>\n",
       "      <td>...</td>\n",
       "      <td>...</td>\n",
       "      <td>...</td>\n",
       "      <td>...</td>\n",
       "      <td>...</td>\n",
       "      <td>...</td>\n",
       "    </tr>\n",
       "    <tr>\n",
       "      <th>295</th>\n",
       "      <td>classification</td>\n",
       "      <td>LSTM</td>\n",
       "      <td>327407</td>\n",
       "      <td>5</td>\n",
       "      <td>adam</td>\n",
       "      <td>6</td>\n",
       "      <td>256</td>\n",
       "      <td>1.000</td>\n",
       "      <td>1.000</td>\n",
       "      <td>1.000000</td>\n",
       "      <td>1.000000</td>\n",
       "      <td>1.0000</td>\n",
       "      <td>1.000</td>\n",
       "    </tr>\n",
       "    <tr>\n",
       "      <th>296</th>\n",
       "      <td>classification</td>\n",
       "      <td>LSTM</td>\n",
       "      <td>327407</td>\n",
       "      <td>5</td>\n",
       "      <td>adam</td>\n",
       "      <td>7</td>\n",
       "      <td>32</td>\n",
       "      <td>0.933</td>\n",
       "      <td>0.941</td>\n",
       "      <td>0.991004</td>\n",
       "      <td>0.991004</td>\n",
       "      <td>0.9405</td>\n",
       "      <td>0.939</td>\n",
       "    </tr>\n",
       "    <tr>\n",
       "      <th>297</th>\n",
       "      <td>classification</td>\n",
       "      <td>LSTM</td>\n",
       "      <td>327407</td>\n",
       "      <td>5</td>\n",
       "      <td>adam</td>\n",
       "      <td>7</td>\n",
       "      <td>64</td>\n",
       "      <td>0.994</td>\n",
       "      <td>0.988</td>\n",
       "      <td>0.997001</td>\n",
       "      <td>0.997001</td>\n",
       "      <td>0.9885</td>\n",
       "      <td>0.988</td>\n",
       "    </tr>\n",
       "    <tr>\n",
       "      <th>298</th>\n",
       "      <td>classification</td>\n",
       "      <td>LSTM</td>\n",
       "      <td>327407</td>\n",
       "      <td>5</td>\n",
       "      <td>adam</td>\n",
       "      <td>7</td>\n",
       "      <td>128</td>\n",
       "      <td>0.999</td>\n",
       "      <td>0.997</td>\n",
       "      <td>0.994003</td>\n",
       "      <td>0.994003</td>\n",
       "      <td>0.9970</td>\n",
       "      <td>0.997</td>\n",
       "    </tr>\n",
       "    <tr>\n",
       "      <th>299</th>\n",
       "      <td>classification</td>\n",
       "      <td>LSTM</td>\n",
       "      <td>327407</td>\n",
       "      <td>5</td>\n",
       "      <td>adam</td>\n",
       "      <td>7</td>\n",
       "      <td>256</td>\n",
       "      <td>1.000</td>\n",
       "      <td>0.999</td>\n",
       "      <td>1.000000</td>\n",
       "      <td>1.000000</td>\n",
       "      <td>0.9990</td>\n",
       "      <td>0.999</td>\n",
       "    </tr>\n",
       "  </tbody>\n",
       "</table>\n",
       "<p>300 rows × 13 columns</p>\n",
       "</div>"
      ],
      "text/plain": [
       "               task model    seed  split optimizer  hidden_layers_no  units  \\\n",
       "0    classification  LSTM  660108      1      adam                 5     32   \n",
       "1    classification  LSTM  660108      1      adam                 5     64   \n",
       "2    classification  LSTM  660108      1      adam                 5    128   \n",
       "3    classification  LSTM  660108      1      adam                 5    256   \n",
       "4    classification  LSTM  660108      1      adam                 6     32   \n",
       "..              ...   ...     ...    ...       ...               ...    ...   \n",
       "295  classification  LSTM  327407      5      adam                 6    256   \n",
       "296  classification  LSTM  327407      5      adam                 7     32   \n",
       "297  classification  LSTM  327407      5      adam                 7     64   \n",
       "298  classification  LSTM  327407      5      adam                 7    128   \n",
       "299  classification  LSTM  327407      5      adam                 7    256   \n",
       "\n",
       "     train_accuracy  valid_accuracy  valid_precision  valid_recall  \\\n",
       "0             0.939           0.920         0.968300      0.968300   \n",
       "1             0.997           0.995         0.997118      0.997118   \n",
       "2             1.000           1.000         1.000000      1.000000   \n",
       "3             1.000           1.000         1.000000      1.000000   \n",
       "4             0.988           0.980         0.988473      0.988473   \n",
       "..              ...             ...              ...           ...   \n",
       "295           1.000           1.000         1.000000      1.000000   \n",
       "296           0.933           0.941         0.991004      0.991004   \n",
       "297           0.994           0.988         0.997001      0.997001   \n",
       "298           0.999           0.997         0.994003      0.994003   \n",
       "299           1.000           0.999         1.000000      1.000000   \n",
       "\n",
       "     valid_f1_score  valid_auroc  \n",
       "0            0.9190        0.916  \n",
       "1            0.9955        0.995  \n",
       "2            1.0000        1.000  \n",
       "3            1.0000        1.000  \n",
       "4            0.9795        0.979  \n",
       "..              ...          ...  \n",
       "295          1.0000        1.000  \n",
       "296          0.9405        0.939  \n",
       "297          0.9885        0.988  \n",
       "298          0.9970        0.997  \n",
       "299          0.9990        0.999  \n",
       "\n",
       "[300 rows x 13 columns]"
      ]
     },
     "execution_count": 25,
     "metadata": {},
     "output_type": "execute_result"
    }
   ],
   "source": [
    "long_short_term_memory_classification_results_df"
   ]
  },
  {
   "cell_type": "markdown",
   "id": "14cb1633",
   "metadata": {},
   "source": [
    "Aggregate the values so that we average the results for each random seed"
   ]
  },
  {
   "cell_type": "code",
   "execution_count": 26,
   "id": "ea87a137",
   "metadata": {},
   "outputs": [],
   "source": [
    "grouped_long_short_term_memory_classification_results_df = group_seeded_data(long_short_term_memory_classification_results_df, \n",
    "                                                                            ['optimizer', 'hidden_layers_no','units'],\n",
    "                                                                            )"
   ]
  },
  {
   "cell_type": "code",
   "execution_count": 27,
   "id": "42c114cd",
   "metadata": {},
   "outputs": [],
   "source": [
    "grouped_long_short_term_memory_classification_results_df.to_csv(results_dir + 'grouped_long_short_term_memory_classification_results_df.csv')"
   ]
  },
  {
   "cell_type": "code",
   "execution_count": 28,
   "id": "8a464fa0",
   "metadata": {
    "scrolled": false
   },
   "outputs": [
    {
     "data": {
      "text/html": [
       "<div>\n",
       "<style scoped>\n",
       "    .dataframe tbody tr th:only-of-type {\n",
       "        vertical-align: middle;\n",
       "    }\n",
       "\n",
       "    .dataframe tbody tr th {\n",
       "        vertical-align: top;\n",
       "    }\n",
       "\n",
       "    .dataframe thead th {\n",
       "        text-align: right;\n",
       "    }\n",
       "</style>\n",
       "<table border=\"1\" class=\"dataframe\">\n",
       "  <thead>\n",
       "    <tr style=\"text-align: right;\">\n",
       "      <th></th>\n",
       "      <th>optimizer</th>\n",
       "      <th>hidden_layers_no</th>\n",
       "      <th>units</th>\n",
       "      <th>train_accuracy</th>\n",
       "      <th>valid_accuracy</th>\n",
       "      <th>valid_precision</th>\n",
       "      <th>valid_recall</th>\n",
       "      <th>valid_f1_score</th>\n",
       "      <th>valid_auroc</th>\n",
       "    </tr>\n",
       "  </thead>\n",
       "  <tbody>\n",
       "    <tr>\n",
       "      <th>0</th>\n",
       "      <td>adam</td>\n",
       "      <td>5</td>\n",
       "      <td>32</td>\n",
       "      <td>0.98440</td>\n",
       "      <td>0.98128</td>\n",
       "      <td>0.985656</td>\n",
       "      <td>0.985656</td>\n",
       "      <td>0.98116</td>\n",
       "      <td>0.98108</td>\n",
       "    </tr>\n",
       "    <tr>\n",
       "      <th>1</th>\n",
       "      <td>adam</td>\n",
       "      <td>5</td>\n",
       "      <td>64</td>\n",
       "      <td>0.99876</td>\n",
       "      <td>0.99796</td>\n",
       "      <td>0.998877</td>\n",
       "      <td>0.998877</td>\n",
       "      <td>0.99808</td>\n",
       "      <td>0.99800</td>\n",
       "    </tr>\n",
       "    <tr>\n",
       "      <th>2</th>\n",
       "      <td>adam</td>\n",
       "      <td>5</td>\n",
       "      <td>128</td>\n",
       "      <td>0.99992</td>\n",
       "      <td>0.99972</td>\n",
       "      <td>1.000000</td>\n",
       "      <td>1.000000</td>\n",
       "      <td>0.99974</td>\n",
       "      <td>0.99972</td>\n",
       "    </tr>\n",
       "    <tr>\n",
       "      <th>3</th>\n",
       "      <td>adam</td>\n",
       "      <td>5</td>\n",
       "      <td>256</td>\n",
       "      <td>0.99992</td>\n",
       "      <td>0.99980</td>\n",
       "      <td>0.999939</td>\n",
       "      <td>0.999939</td>\n",
       "      <td>0.99980</td>\n",
       "      <td>0.99980</td>\n",
       "    </tr>\n",
       "    <tr>\n",
       "      <th>4</th>\n",
       "      <td>adam</td>\n",
       "      <td>6</td>\n",
       "      <td>32</td>\n",
       "      <td>0.97492</td>\n",
       "      <td>0.97260</td>\n",
       "      <td>0.976132</td>\n",
       "      <td>0.976132</td>\n",
       "      <td>0.97258</td>\n",
       "      <td>0.97252</td>\n",
       "    </tr>\n",
       "    <tr>\n",
       "      <th>5</th>\n",
       "      <td>adam</td>\n",
       "      <td>6</td>\n",
       "      <td>64</td>\n",
       "      <td>0.99688</td>\n",
       "      <td>0.99596</td>\n",
       "      <td>0.995519</td>\n",
       "      <td>0.995519</td>\n",
       "      <td>0.99594</td>\n",
       "      <td>0.99596</td>\n",
       "    </tr>\n",
       "    <tr>\n",
       "      <th>6</th>\n",
       "      <td>adam</td>\n",
       "      <td>6</td>\n",
       "      <td>128</td>\n",
       "      <td>0.99984</td>\n",
       "      <td>0.99952</td>\n",
       "      <td>0.999706</td>\n",
       "      <td>0.999706</td>\n",
       "      <td>0.99958</td>\n",
       "      <td>0.99956</td>\n",
       "    </tr>\n",
       "    <tr>\n",
       "      <th>7</th>\n",
       "      <td>adam</td>\n",
       "      <td>6</td>\n",
       "      <td>256</td>\n",
       "      <td>0.99996</td>\n",
       "      <td>0.99996</td>\n",
       "      <td>1.000000</td>\n",
       "      <td>1.000000</td>\n",
       "      <td>0.99996</td>\n",
       "      <td>0.99996</td>\n",
       "    </tr>\n",
       "    <tr>\n",
       "      <th>8</th>\n",
       "      <td>adam</td>\n",
       "      <td>7</td>\n",
       "      <td>32</td>\n",
       "      <td>0.95192</td>\n",
       "      <td>0.95116</td>\n",
       "      <td>0.958313</td>\n",
       "      <td>0.958313</td>\n",
       "      <td>0.95106</td>\n",
       "      <td>0.95092</td>\n",
       "    </tr>\n",
       "    <tr>\n",
       "      <th>9</th>\n",
       "      <td>adam</td>\n",
       "      <td>7</td>\n",
       "      <td>64</td>\n",
       "      <td>0.99456</td>\n",
       "      <td>0.99308</td>\n",
       "      <td>0.992176</td>\n",
       "      <td>0.992176</td>\n",
       "      <td>0.99320</td>\n",
       "      <td>0.99320</td>\n",
       "    </tr>\n",
       "    <tr>\n",
       "      <th>10</th>\n",
       "      <td>adam</td>\n",
       "      <td>7</td>\n",
       "      <td>128</td>\n",
       "      <td>0.99972</td>\n",
       "      <td>0.99952</td>\n",
       "      <td>0.999456</td>\n",
       "      <td>0.999456</td>\n",
       "      <td>0.99954</td>\n",
       "      <td>0.99952</td>\n",
       "    </tr>\n",
       "    <tr>\n",
       "      <th>11</th>\n",
       "      <td>adam</td>\n",
       "      <td>7</td>\n",
       "      <td>256</td>\n",
       "      <td>0.99992</td>\n",
       "      <td>0.99956</td>\n",
       "      <td>1.000000</td>\n",
       "      <td>1.000000</td>\n",
       "      <td>0.99960</td>\n",
       "      <td>0.99956</td>\n",
       "    </tr>\n",
       "  </tbody>\n",
       "</table>\n",
       "</div>"
      ],
      "text/plain": [
       "   optimizer  hidden_layers_no  units  train_accuracy  valid_accuracy  \\\n",
       "0       adam                 5     32         0.98440         0.98128   \n",
       "1       adam                 5     64         0.99876         0.99796   \n",
       "2       adam                 5    128         0.99992         0.99972   \n",
       "3       adam                 5    256         0.99992         0.99980   \n",
       "4       adam                 6     32         0.97492         0.97260   \n",
       "5       adam                 6     64         0.99688         0.99596   \n",
       "6       adam                 6    128         0.99984         0.99952   \n",
       "7       adam                 6    256         0.99996         0.99996   \n",
       "8       adam                 7     32         0.95192         0.95116   \n",
       "9       adam                 7     64         0.99456         0.99308   \n",
       "10      adam                 7    128         0.99972         0.99952   \n",
       "11      adam                 7    256         0.99992         0.99956   \n",
       "\n",
       "    valid_precision  valid_recall  valid_f1_score  valid_auroc  \n",
       "0          0.985656      0.985656         0.98116      0.98108  \n",
       "1          0.998877      0.998877         0.99808      0.99800  \n",
       "2          1.000000      1.000000         0.99974      0.99972  \n",
       "3          0.999939      0.999939         0.99980      0.99980  \n",
       "4          0.976132      0.976132         0.97258      0.97252  \n",
       "5          0.995519      0.995519         0.99594      0.99596  \n",
       "6          0.999706      0.999706         0.99958      0.99956  \n",
       "7          1.000000      1.000000         0.99996      0.99996  \n",
       "8          0.958313      0.958313         0.95106      0.95092  \n",
       "9          0.992176      0.992176         0.99320      0.99320  \n",
       "10         0.999456      0.999456         0.99954      0.99952  \n",
       "11         1.000000      1.000000         0.99960      0.99956  "
      ]
     },
     "execution_count": 28,
     "metadata": {},
     "output_type": "execute_result"
    }
   ],
   "source": [
    "grouped_long_short_term_memory_classification_results_df"
   ]
  },
  {
   "cell_type": "markdown",
   "id": "55da6b45",
   "metadata": {},
   "source": [
    "## Functions"
   ]
  },
  {
   "cell_type": "code",
   "execution_count": 29,
   "id": "918205ee",
   "metadata": {},
   "outputs": [],
   "source": [
    "def plot_line(data, x_column='units', groupby_column = 'hidden_layers_no', title='Line graph', title_size=25, axes_size=15, tick_size=12, acc = 'valid_accuracy'):\n",
    "    grouped_data = data.groupby([x_column, groupby_column]).agg(acc=(acc, 'mean')).reset_index()\n",
    "\n",
    "    fig, ax = plt.subplots(figsize=(10, 5))\n",
    "    for feat in grouped_data[groupby_column].unique():\n",
    "        feat_data = grouped_data[grouped_data[groupby_column]==feat].copy()\n",
    "        X = feat_data[x_column]\n",
    "        y = feat_data['acc'].copy()\n",
    "        plt.plot(X, y, label=f'{groupby_column}_{feat}')\n",
    "    \n",
    "    acc_label = acc\n",
    "    fig.legend(bbox_to_anchor=(0.9, 0.9))\n",
    "    fig.suptitle(title + f' for {acc} change in regards to {x_column} for each value of {groupby_column}', fontsize=title_size,  y=1.02)\n",
    "    ax.set_xlabel(f'{x_column}', fontsize=axes_size)\n",
    "    ax.set_ylabel(f'{acc_label}'.capitalize(), fontsize=axes_size)\n",
    "    ax.set_xticks(grouped_data[x_column].unique())  # Set label locations.\n",
    "    ax.tick_params(axis='x', which='major', labelsize=tick_size)\n",
    "    ax.tick_params(axis='y', which='major', labelsize=tick_size)\n",
    "    plt.show()"
   ]
  },
  {
   "cell_type": "code",
   "execution_count": 46,
   "id": "e456c09c",
   "metadata": {},
   "outputs": [],
   "source": [
    "def plot_history(history, metric='loss'):\n",
    "    # summarize history for loss\n",
    "    plt.plot(history[f'{metric}'], label='train')\n",
    "    plt.plot(history[f'val_{metric}'], label='test')\n",
    "    plt.title(f'model {metric}')\n",
    "    plt.ylabel(f'{metric}')\n",
    "    plt.xlabel('epoch')\n",
    "    plt.legend(loc='upper left')\n",
    "    plt.show()"
   ]
  },
  {
   "cell_type": "code",
   "execution_count": 31,
   "id": "d090a006",
   "metadata": {},
   "outputs": [],
   "source": [
    "def plot_conf_matrix(y_test, test_predictions, tick_size=12):\n",
    "    conf_matrix = confusion_matrix(y_test, test_predictions)\n",
    "    fig, ax = plt.subplots(figsize=(15, 10))\n",
    "    sns.heatmap(conf_matrix, annot=True,linewidths=0.5,linecolor=\"red\", fmt=\".0f\")\n",
    "    plt.xlabel(\"Predicted\")\n",
    "    plt.ylabel(\"Actual\")\n",
    "    ax.tick_params(axis='x', which='major', labelsize=tick_size)\n",
    "    ax.tick_params(axis='y', which='major', labelsize=tick_size, labelrotation=90)\n",
    "    plt.show()"
   ]
  },
  {
   "cell_type": "markdown",
   "id": "f1aa3aa2",
   "metadata": {},
   "source": [
    "## Overal results demonstration"
   ]
  },
  {
   "cell_type": "code",
   "execution_count": 32,
   "id": "7e1ae25d",
   "metadata": {},
   "outputs": [
    {
     "data": {
      "image/png": "[encoded data removed]",
      "text/plain": [
       "<Figure size 720x360 with 1 Axes>"
      ]
     },
     "metadata": {
      "needs_background": "light"
     },
     "output_type": "display_data"
    }
   ],
   "source": [
    "plot_line(grouped_long_short_term_memory_classification_results_df, acc='train_accuracy')"
   ]
  },
  {
   "cell_type": "code",
   "execution_count": 33,
   "id": "c9b39e70",
   "metadata": {},
   "outputs": [
    {
     "data": {
      "image/png": "[encoded data removed]",
      "text/plain": [
       "<Figure size 720x360 with 1 Axes>"
      ]
     },
     "metadata": {
      "needs_background": "light"
     },
     "output_type": "display_data"
    }
   ],
   "source": [
    "plot_line(grouped_long_short_term_memory_classification_results_df, acc='valid_accuracy')"
   ]
  },
  {
   "cell_type": "markdown",
   "id": "96c5bff3",
   "metadata": {},
   "source": [
    "From the two line graphs available above, it can be seen that neither of the models overfit on the training data. Also as the number of units in the hidden layers increase, the accuracy also does. In the beggining the model with 5 hidden layers does the best."
   ]
  },
  {
   "cell_type": "code",
   "execution_count": 34,
   "id": "a236c4d9",
   "metadata": {},
   "outputs": [
    {
     "data": {
      "image/png": "[encoded data removed]",
      "text/plain": [
       "<Figure size 720x360 with 1 Axes>"
      ]
     },
     "metadata": {
      "needs_background": "light"
     },
     "output_type": "display_data"
    }
   ],
   "source": [
    "plot_line(grouped_long_short_term_memory_classification_results_df, acc='valid_recall')"
   ]
  },
  {
   "cell_type": "code",
   "execution_count": 35,
   "id": "2ea35303",
   "metadata": {},
   "outputs": [
    {
     "data": {
      "image/png": "[encoded data removed]",
      "text/plain": [
       "<Figure size 720x360 with 1 Axes>"
      ]
     },
     "metadata": {
      "needs_background": "light"
     },
     "output_type": "display_data"
    }
   ],
   "source": [
    "plot_line(grouped_long_short_term_memory_classification_results_df, acc='valid_precision')"
   ]
  },
  {
   "cell_type": "markdown",
   "id": "b782a424",
   "metadata": {},
   "source": [
    "It seems that recall and precision metric values increase accordingly. Again the metric that we are going to use, to determine the predictive capabilities of our model is going to be precision as it is important not to classify a posinous mushroom (0) as an edible one. "
   ]
  },
  {
   "cell_type": "code",
   "execution_count": 36,
   "id": "8736de07",
   "metadata": {},
   "outputs": [
    {
     "data": {
      "text/html": [
       "<div>\n",
       "<style scoped>\n",
       "    .dataframe tbody tr th:only-of-type {\n",
       "        vertical-align: middle;\n",
       "    }\n",
       "\n",
       "    .dataframe tbody tr th {\n",
       "        vertical-align: top;\n",
       "    }\n",
       "\n",
       "    .dataframe thead th {\n",
       "        text-align: right;\n",
       "    }\n",
       "</style>\n",
       "<table border=\"1\" class=\"dataframe\">\n",
       "  <thead>\n",
       "    <tr style=\"text-align: right;\">\n",
       "      <th></th>\n",
       "      <th>optimizer</th>\n",
       "      <th>hidden_layers_no</th>\n",
       "      <th>units</th>\n",
       "      <th>train_accuracy</th>\n",
       "      <th>valid_accuracy</th>\n",
       "      <th>valid_precision</th>\n",
       "      <th>valid_recall</th>\n",
       "      <th>valid_f1_score</th>\n",
       "      <th>valid_auroc</th>\n",
       "    </tr>\n",
       "  </thead>\n",
       "  <tbody>\n",
       "    <tr>\n",
       "      <th>2</th>\n",
       "      <td>adam</td>\n",
       "      <td>5</td>\n",
       "      <td>128</td>\n",
       "      <td>0.99992</td>\n",
       "      <td>0.99972</td>\n",
       "      <td>1.0</td>\n",
       "      <td>1.0</td>\n",
       "      <td>0.99974</td>\n",
       "      <td>0.99972</td>\n",
       "    </tr>\n",
       "    <tr>\n",
       "      <th>7</th>\n",
       "      <td>adam</td>\n",
       "      <td>6</td>\n",
       "      <td>256</td>\n",
       "      <td>0.99996</td>\n",
       "      <td>0.99996</td>\n",
       "      <td>1.0</td>\n",
       "      <td>1.0</td>\n",
       "      <td>0.99996</td>\n",
       "      <td>0.99996</td>\n",
       "    </tr>\n",
       "    <tr>\n",
       "      <th>11</th>\n",
       "      <td>adam</td>\n",
       "      <td>7</td>\n",
       "      <td>256</td>\n",
       "      <td>0.99992</td>\n",
       "      <td>0.99956</td>\n",
       "      <td>1.0</td>\n",
       "      <td>1.0</td>\n",
       "      <td>0.99960</td>\n",
       "      <td>0.99956</td>\n",
       "    </tr>\n",
       "  </tbody>\n",
       "</table>\n",
       "</div>"
      ],
      "text/plain": [
       "   optimizer  hidden_layers_no  units  train_accuracy  valid_accuracy  \\\n",
       "2       adam                 5    128         0.99992         0.99972   \n",
       "7       adam                 6    256         0.99996         0.99996   \n",
       "11      adam                 7    256         0.99992         0.99956   \n",
       "\n",
       "    valid_precision  valid_recall  valid_f1_score  valid_auroc  \n",
       "2               1.0           1.0         0.99974      0.99972  \n",
       "7               1.0           1.0         0.99996      0.99996  \n",
       "11              1.0           1.0         0.99960      0.99956  "
      ]
     },
     "execution_count": 36,
     "metadata": {},
     "output_type": "execute_result"
    }
   ],
   "source": [
    "grouped_long_short_term_memory_classification_results_df[grouped_long_short_term_memory_classification_results_df['valid_precision'] == grouped_long_short_term_memory_classification_results_df['valid_precision'].max()]"
   ]
  },
  {
   "cell_type": "code",
   "execution_count": 63,
   "id": "3878bdd8",
   "metadata": {},
   "outputs": [],
   "source": [
    "model = build_model_LSTM(hid_layer_nums = 6, units=256)\n",
    "\n",
    "model.compile(optimizer=optimizers['adam'], loss='binary_crossentropy', metrics=['accuracy' , \n",
    "                                                                                 keras.metrics.Precision(), \n",
    "                                                                                 keras.metrics.Recall()])\n"
   ]
  },
  {
   "cell_type": "code",
   "execution_count": 38,
   "id": "7a079cc0",
   "metadata": {},
   "outputs": [],
   "source": [
    "# Encode the data\n",
    "enc = preprocessing.OrdinalEncoder(handle_unknown='use_encoded_value', unknown_value=100)\n",
    "X_train_enc = enc.fit_transform(X_train)\n",
    "X_test_enc = enc.transform(X_test)\n",
    "\n",
    "# # Scale the data        \n",
    "# scaler = preprocessing.StandardScaler()\n",
    "# X_train_enc = scaler.fit_transform(X_train_enc)\n",
    "# X_test_enc = scaler.transform(X_test_enc)\n",
    "\n",
    "# Reshape the data\n",
    "X_train_enc_transformed = X_train_enc.reshape(X_train_enc.shape[0], 1, X_train_enc.shape[1])\n",
    "X_test_enc_transformed = X_test_enc.reshape(X_test_enc.shape[0], 1, X_test_enc.shape[1])\n",
    "\n",
    "# as output varaibles are stratified on, there is not any unknowon variable, therefore no possibility of data leakage\n",
    "encoder_dict = {'edible': 1,\n",
    "                'poisonous': 0}\n",
    "\n",
    "# transform the output into the right format\n",
    "y_train_enc = y_train.replace(encoder_dict).values\n",
    "y_test_enc = y_test.replace(encoder_dict).values\n",
    "y_train_enc_transformed = to_categorical(y_train_enc, 2)\n",
    "y_test_enc_transformed = to_categorical(y_test_enc, 2)\n"
   ]
  },
  {
   "cell_type": "code",
   "execution_count": 39,
   "id": "9aaaa649",
   "metadata": {},
   "outputs": [],
   "source": [
    "# as output varaibles are stratified on, there is not any unknowon variable, therefore no possibility of data leakage\n",
    "encoder_dict = {'edible': 1,\n",
    "                'poisonous': 0}\n",
    "\n",
    "# transform the output into the right format\n",
    "y_train_enc = y_train.replace(encoder_dict).values\n",
    "y_test_enc = y_test.replace(encoder_dict).values\n",
    "y_train_enc_transformed = to_categorical(y_train_enc, 2)\n",
    "y_test_enc_transformed = to_categorical(y_test_enc, 2)\n"
   ]
  },
  {
   "cell_type": "code",
   "execution_count": 64,
   "id": "271d3b5f",
   "metadata": {
    "scrolled": true
   },
   "outputs": [
    {
     "name": "stdout",
     "output_type": "stream",
     "text": [
      "Epoch 1/10\n",
      "204/204 [==============================] - 25s 54ms/step - loss: 0.2456 - accuracy: 0.9029 - precision_1: 0.8945 - recall_1: 0.8924 - val_loss: 0.6922 - val_accuracy: 0.5182 - val_precision_1: 0.5182 - val_recall_1: 0.5182\n",
      "Epoch 2/10\n",
      "204/204 [==============================] - 8s 39ms/step - loss: 0.0871 - accuracy: 0.9697 - precision_1: 0.9691 - recall_1: 0.9695 - val_loss: 0.5668 - val_accuracy: 0.5446 - val_precision_1: 0.5795 - val_recall_1: 0.5182\n",
      "Epoch 3/10\n",
      "204/204 [==============================] - 8s 38ms/step - loss: 0.0560 - accuracy: 0.9809 - precision_1: 0.9794 - recall_1: 0.9800 - val_loss: 0.0040 - val_accuracy: 0.9994 - val_precision_1: 0.9988 - val_recall_1: 0.9994\n",
      "Epoch 4/10\n",
      "204/204 [==============================] - 8s 41ms/step - loss: 0.0358 - accuracy: 0.9882 - precision_1: 0.9891 - recall_1: 0.9869 - val_loss: 0.0011 - val_accuracy: 0.9994 - val_precision_1: 0.9994 - val_recall_1: 0.9994\n",
      "Epoch 5/10\n",
      "204/204 [==============================] - 8s 40ms/step - loss: 0.0336 - accuracy: 0.9889 - precision_1: 0.9889 - recall_1: 0.9885 - val_loss: 8.2326e-05 - val_accuracy: 1.0000 - val_precision_1: 1.0000 - val_recall_1: 1.0000\n",
      "Epoch 6/10\n",
      "204/204 [==============================] - 8s 41ms/step - loss: 0.0397 - accuracy: 0.9865 - precision_1: 0.9869 - recall_1: 0.9866 - val_loss: 4.3771e-05 - val_accuracy: 1.0000 - val_precision_1: 1.0000 - val_recall_1: 1.0000\n",
      "Epoch 7/10\n",
      "204/204 [==============================] - 9s 44ms/step - loss: 0.0259 - accuracy: 0.9914 - precision_1: 0.9918 - recall_1: 0.9914 - val_loss: 3.0298e-05 - val_accuracy: 1.0000 - val_precision_1: 1.0000 - val_recall_1: 1.0000\n",
      "Epoch 8/10\n",
      "204/204 [==============================] - 9s 44ms/step - loss: 0.0223 - accuracy: 0.9922 - precision_1: 0.9920 - recall_1: 0.9931 - val_loss: 2.0668e-05 - val_accuracy: 1.0000 - val_precision_1: 1.0000 - val_recall_1: 1.0000\n",
      "Epoch 9/10\n",
      "204/204 [==============================] - 10s 51ms/step - loss: 0.0239 - accuracy: 0.9920 - precision_1: 0.9917 - recall_1: 0.9917 - val_loss: 1.4587e-05 - val_accuracy: 1.0000 - val_precision_1: 1.0000 - val_recall_1: 1.0000\n",
      "Epoch 10/10\n",
      "204/204 [==============================] - 9s 42ms/step - loss: 0.0207 - accuracy: 0.9923 - precision_1: 0.9923 - recall_1: 0.9925 - val_loss: 2.8272e-05 - val_accuracy: 1.0000 - val_precision_1: 1.0000 - val_recall_1: 1.0000\n"
     ]
    }
   ],
   "source": [
    "# train the model\n",
    "history = model.fit(X_train_enc_transformed, y_train_enc_transformed, epochs=10, batch_size=32, verbose=1,\n",
    "                    validation_data=(X_test_enc_transformed, y_test_enc_transformed)) "
   ]
  },
  {
   "cell_type": "code",
   "execution_count": 41,
   "id": "c6d606fb",
   "metadata": {
    "scrolled": true
   },
   "outputs": [],
   "source": [
    "hist_dict = history.history"
   ]
  },
  {
   "cell_type": "markdown",
   "id": "b4a7d9eb",
   "metadata": {},
   "source": [
    "### History plots"
   ]
  },
  {
   "cell_type": "code",
   "execution_count": 47,
   "id": "9f9967b1",
   "metadata": {},
   "outputs": [
    {
     "data": {
      "image/png": "[encoded data removed]",
      "text/plain": [
       "<Figure size 432x288 with 1 Axes>"
      ]
     },
     "metadata": {
      "needs_background": "light"
     },
     "output_type": "display_data"
    }
   ],
   "source": [
    "plot_history(hist_dict, metric='loss')"
   ]
  },
  {
   "cell_type": "code",
   "execution_count": 48,
   "id": "fd7283ed",
   "metadata": {},
   "outputs": [
    {
     "data": {
      "image/png": "[encoded data removed]",
      "text/plain": [
       "<Figure size 432x288 with 1 Axes>"
      ]
     },
     "metadata": {
      "needs_background": "light"
     },
     "output_type": "display_data"
    }
   ],
   "source": [
    "plot_history(hist_dict, metric='precision')"
   ]
  },
  {
   "cell_type": "code",
   "execution_count": 49,
   "id": "93568c10",
   "metadata": {},
   "outputs": [
    {
     "data": {
      "image/png": "[encoded data removed]",
      "text/plain": [
       "<Figure size 432x288 with 1 Axes>"
      ]
     },
     "metadata": {
      "needs_background": "light"
     },
     "output_type": "display_data"
    }
   ],
   "source": [
    "plot_history(hist_dict, metric='recall')"
   ]
  },
  {
   "cell_type": "code",
   "execution_count": 50,
   "id": "836d632c",
   "metadata": {},
   "outputs": [
    {
     "data": {
      "image/png": "[encoded data removed]",
      "text/plain": [
       "<Figure size 432x288 with 1 Axes>"
      ]
     },
     "metadata": {
      "needs_background": "light"
     },
     "output_type": "display_data"
    }
   ],
   "source": [
    "plot_history(hist_dict, metric='accuracy')"
   ]
  },
  {
   "cell_type": "code",
   "execution_count": 51,
   "id": "7d1ae7f5",
   "metadata": {},
   "outputs": [],
   "source": [
    "# Obtain metric scores\n",
    "train_predictions = np.argmax(model.predict(X_train_enc_transformed), axis=1)\n",
    "test_predictions = np.argmax(model.predict(X_test_enc_transformed), axis=1)\n",
    "\n",
    "train_accuracy, _, _, _, _, _, _, _, _, _, _ = obtain_metrics(y_train_enc, train_predictions)\n",
    "test_accuracy, test_auroc, _, _, test_prec_score, _, _, test_rec_score, _, _, test_f1_score = obtain_metrics(y_test_enc, test_predictions)\n"
   ]
  },
  {
   "cell_type": "markdown",
   "id": "f498ae2a",
   "metadata": {},
   "source": [
    "### Results on test set"
   ]
  },
  {
   "cell_type": "code",
   "execution_count": 52,
   "id": "b03cf244",
   "metadata": {},
   "outputs": [
    {
     "name": "stdout",
     "output_type": "stream",
     "text": [
      "The precision score on the test set for the best model is 1.0 \n",
      "\n"
     ]
    }
   ],
   "source": [
    "print(f\"The precision score on the test set for the best model is {round(test_prec_score, 3)} \\n\")"
   ]
  },
  {
   "cell_type": "code",
   "execution_count": 53,
   "id": "284f35d9",
   "metadata": {},
   "outputs": [
    {
     "name": "stdout",
     "output_type": "stream",
     "text": [
      "The recall score on the test set for the best model is 1.0 \n",
      "\n"
     ]
    }
   ],
   "source": [
    "print(f\"The recall score on the test set for the best model is {round(test_rec_score, 3)} \\n\")"
   ]
  },
  {
   "cell_type": "code",
   "execution_count": 54,
   "id": "4f3ca960",
   "metadata": {},
   "outputs": [
    {
     "name": "stdout",
     "output_type": "stream",
     "text": [
      "The f1-score on the test set for the best model is 1.0 \n",
      "\n"
     ]
    }
   ],
   "source": [
    "print(f\"The f1-score on the test set for the best model is {round(test_f1_score, 3)} \\n\")"
   ]
  },
  {
   "cell_type": "code",
   "execution_count": 55,
   "id": "51761925",
   "metadata": {},
   "outputs": [
    {
     "name": "stdout",
     "output_type": "stream",
     "text": [
      "The auroc score on the test set for the best model is 1.0 \n",
      "\n"
     ]
    }
   ],
   "source": [
    "print(f\"The auroc score on the test set for the best model is {round(test_auroc, 3)} \\n\")"
   ]
  },
  {
   "cell_type": "code",
   "execution_count": 56,
   "id": "90482a73",
   "metadata": {},
   "outputs": [
    {
     "name": "stdout",
     "output_type": "stream",
     "text": [
      "The accuracy on the test set for the best model is 1.0 \n",
      "\n"
     ]
    }
   ],
   "source": [
    "print(f\"The accuracy on the test set for the best model is {round(test_accuracy, 3)} \\n\")"
   ]
  },
  {
   "cell_type": "code",
   "execution_count": 57,
   "id": "697ec19f",
   "metadata": {},
   "outputs": [
    {
     "data": {
      "image/png": "[encoded data removed]",
      "text/plain": [
       "<Figure size 1080x720 with 2 Axes>"
      ]
     },
     "metadata": {
      "needs_background": "light"
     },
     "output_type": "display_data"
    }
   ],
   "source": [
    "plot_conf_matrix(y_test_enc, test_predictions)"
   ]
  },
  {
   "cell_type": "markdown",
   "id": "396b114a",
   "metadata": {},
   "source": [
    "Save the model on disc"
   ]
  },
  {
   "cell_type": "code",
   "execution_count": 58,
   "id": "7a65297d",
   "metadata": {
    "scrolled": true
   },
   "outputs": [],
   "source": [
    "model.save_weights(models_dir+model_name+'.h5')"
   ]
  },
  {
   "cell_type": "markdown",
   "id": "9d1390ee",
   "metadata": {},
   "source": [
    "Load the model from disk"
   ]
  },
  {
   "cell_type": "code",
   "execution_count": 59,
   "id": "ed15c67e",
   "metadata": {},
   "outputs": [],
   "source": [
    "model = build_model_LSTM(hid_layer_nums = 6, units=256)\n",
    "model.load_weights(models_dir+model_name+'.h5')"
   ]
  },
  {
   "cell_type": "code",
   "execution_count": null,
   "id": "35252a0a",
   "metadata": {
    "scrolled": true
   },
   "outputs": [],
   "source": [
    "model.summary()"
   ]
  },
  {
   "cell_type": "code",
   "execution_count": null,
   "id": "2bd405bf",
   "metadata": {},
   "outputs": [],
   "source": []
  }
 ],
 "metadata": {
  "kernelspec": {
   "display_name": "Python 3 (ipykernel)",
   "language": "python",
   "name": "python3"
  },
  "language_info": {
   "codemirror_mode": {
    "name": "ipython",
    "version": 3
   },
   "file_extension": ".py",
   "mimetype": "text/x-python",
   "name": "python",
   "nbconvert_exporter": "python",
   "pygments_lexer": "ipython3",
   "version": "3.8.8"
  }
 },
 "nbformat": 4,
 "nbformat_minor": 5
}
