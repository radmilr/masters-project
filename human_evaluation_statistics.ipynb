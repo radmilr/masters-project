{
 "cells": [
  {
   "cell_type": "code",
   "execution_count": 1,
   "id": "0cdea2da",
   "metadata": {},
   "outputs": [],
   "source": [
    "import pandas as pd\n",
    "import matplotlib.pyplot as plt\n",
    "import seaborn as sns\n",
    "import numpy as np\n",
    "from dython import nominal\n",
    "from sklearn.svm import SVC\n",
    "from sklearn.model_selection import train_test_split, KFold\n",
    "from sklearn import preprocessing\n",
    "from sklearn.pipeline import make_pipeline\n",
    "from sklearn.metrics import precision_score, recall_score, f1_score, roc_curve, auc, confusion_matrix\n",
    "import pickle \n",
    "import statsmodels\n",
    "from scipy import stats"
   ]
  },
  {
   "cell_type": "code",
   "execution_count": 2,
   "id": "a2b20a74",
   "metadata": {},
   "outputs": [],
   "source": [
    "results_dir = './data/results/'"
   ]
  },
  {
   "cell_type": "code",
   "execution_count": 3,
   "id": "e3cf0fd2",
   "metadata": {},
   "outputs": [],
   "source": [
    "results_df = pd.read_excel(results_dir+'human_eval.xlsx')"
   ]
  },
  {
   "cell_type": "code",
   "execution_count": 4,
   "id": "78c4afd3",
   "metadata": {
    "scrolled": true
   },
   "outputs": [
    {
     "data": {
      "text/html": [
       "<div>\n",
       "<style scoped>\n",
       "    .dataframe tbody tr th:only-of-type {\n",
       "        vertical-align: middle;\n",
       "    }\n",
       "\n",
       "    .dataframe tbody tr th {\n",
       "        vertical-align: top;\n",
       "    }\n",
       "\n",
       "    .dataframe thead th {\n",
       "        text-align: right;\n",
       "    }\n",
       "</style>\n",
       "<table border=\"1\" class=\"dataframe\">\n",
       "  <thead>\n",
       "    <tr style=\"text-align: right;\">\n",
       "      <th></th>\n",
       "      <th>ID</th>\n",
       "      <th>Start time</th>\n",
       "      <th>Completion time</th>\n",
       "      <th>What is your age group?</th>\n",
       "      <th>Have you ever heard of artificial intelligence (AI)?</th>\n",
       "      <th>Have you ever worked on a project related to AI?</th>\n",
       "      <th>Have you ever heard of explainable AI (XAI)?</th>\n",
       "      <th>Explanation</th>\n",
       "      <th>Explanation2</th>\n",
       "      <th>Explanation3</th>\n",
       "      <th>...</th>\n",
       "      <th>Explanation15</th>\n",
       "      <th>Explanation16</th>\n",
       "      <th>Explanation17</th>\n",
       "      <th>Explanation18</th>\n",
       "      <th>Explanation19</th>\n",
       "      <th>Explanation20</th>\n",
       "      <th>Explanation21</th>\n",
       "      <th>Explanation22</th>\n",
       "      <th>Explanation23</th>\n",
       "      <th>Explanation24</th>\n",
       "    </tr>\n",
       "  </thead>\n",
       "  <tbody>\n",
       "    <tr>\n",
       "      <th>0</th>\n",
       "      <td>2</td>\n",
       "      <td>2022-04-17 13:25:20</td>\n",
       "      <td>2022-04-17 13:43:26</td>\n",
       "      <td>26-35</td>\n",
       "      <td>Yes</td>\n",
       "      <td>No</td>\n",
       "      <td>Yes</td>\n",
       "      <td>Very Bad</td>\n",
       "      <td>Bad</td>\n",
       "      <td>Very good</td>\n",
       "      <td>...</td>\n",
       "      <td>Very good</td>\n",
       "      <td>Very Bad</td>\n",
       "      <td>Very Bad</td>\n",
       "      <td>2.1.3</td>\n",
       "      <td>Very Bad</td>\n",
       "      <td>Bad</td>\n",
       "      <td>Very good</td>\n",
       "      <td>Very Bad</td>\n",
       "      <td>Very Bad</td>\n",
       "      <td>2.2.3</td>\n",
       "    </tr>\n",
       "    <tr>\n",
       "      <th>1</th>\n",
       "      <td>3</td>\n",
       "      <td>2022-04-17 12:10:20</td>\n",
       "      <td>2022-04-17 13:53:27</td>\n",
       "      <td>18-25</td>\n",
       "      <td>Yes</td>\n",
       "      <td>No</td>\n",
       "      <td>No</td>\n",
       "      <td>Very Bad</td>\n",
       "      <td>Bad</td>\n",
       "      <td>Good</td>\n",
       "      <td>...</td>\n",
       "      <td>Very good</td>\n",
       "      <td>Bad</td>\n",
       "      <td>Good</td>\n",
       "      <td>2.1.3</td>\n",
       "      <td>Neither bad nor good</td>\n",
       "      <td>Bad</td>\n",
       "      <td>Very good</td>\n",
       "      <td>Very good</td>\n",
       "      <td>Good</td>\n",
       "      <td>2.2.3</td>\n",
       "    </tr>\n",
       "    <tr>\n",
       "      <th>2</th>\n",
       "      <td>4</td>\n",
       "      <td>2022-04-17 13:37:39</td>\n",
       "      <td>2022-04-17 14:10:01</td>\n",
       "      <td>18-25</td>\n",
       "      <td>Yes</td>\n",
       "      <td>No</td>\n",
       "      <td>No</td>\n",
       "      <td>Neither bad nor good</td>\n",
       "      <td>Bad</td>\n",
       "      <td>Good</td>\n",
       "      <td>...</td>\n",
       "      <td>Very good</td>\n",
       "      <td>Very good</td>\n",
       "      <td>Neither bad nor good</td>\n",
       "      <td>2.1.3</td>\n",
       "      <td>Very good</td>\n",
       "      <td>Good</td>\n",
       "      <td>Good</td>\n",
       "      <td>Very good</td>\n",
       "      <td>Neither bad nor good</td>\n",
       "      <td>2.2.4</td>\n",
       "    </tr>\n",
       "    <tr>\n",
       "      <th>3</th>\n",
       "      <td>5</td>\n",
       "      <td>2022-04-17 17:42:19</td>\n",
       "      <td>2022-04-17 17:52:22</td>\n",
       "      <td>18-25</td>\n",
       "      <td>Yes</td>\n",
       "      <td>Yes</td>\n",
       "      <td>Yes</td>\n",
       "      <td>Good</td>\n",
       "      <td>Bad</td>\n",
       "      <td>Good</td>\n",
       "      <td>...</td>\n",
       "      <td>Good</td>\n",
       "      <td>Good</td>\n",
       "      <td>Good</td>\n",
       "      <td>2.1.4</td>\n",
       "      <td>Good</td>\n",
       "      <td>Neither bad nor good</td>\n",
       "      <td>Good</td>\n",
       "      <td>Good</td>\n",
       "      <td>Good</td>\n",
       "      <td>2.2.4</td>\n",
       "    </tr>\n",
       "    <tr>\n",
       "      <th>4</th>\n",
       "      <td>6</td>\n",
       "      <td>2022-04-17 19:24:05</td>\n",
       "      <td>2022-04-17 19:26:02</td>\n",
       "      <td>18-25</td>\n",
       "      <td>Yes</td>\n",
       "      <td>Yes</td>\n",
       "      <td>Yes</td>\n",
       "      <td>Bad</td>\n",
       "      <td>Good</td>\n",
       "      <td>Very good</td>\n",
       "      <td>...</td>\n",
       "      <td>Very good</td>\n",
       "      <td>Very good</td>\n",
       "      <td>Good</td>\n",
       "      <td>2.1.4</td>\n",
       "      <td>Very good</td>\n",
       "      <td>Very good</td>\n",
       "      <td>Very good</td>\n",
       "      <td>Very good</td>\n",
       "      <td>Very good</td>\n",
       "      <td>2.2.4</td>\n",
       "    </tr>\n",
       "    <tr>\n",
       "      <th>5</th>\n",
       "      <td>7</td>\n",
       "      <td>2022-04-18 11:05:09</td>\n",
       "      <td>2022-04-18 11:47:52</td>\n",
       "      <td>18-25</td>\n",
       "      <td>Yes</td>\n",
       "      <td>No</td>\n",
       "      <td>Yes</td>\n",
       "      <td>Good</td>\n",
       "      <td>Bad</td>\n",
       "      <td>Bad</td>\n",
       "      <td>...</td>\n",
       "      <td>Good</td>\n",
       "      <td>Bad</td>\n",
       "      <td>Neither bad nor good</td>\n",
       "      <td>2.1.3</td>\n",
       "      <td>Good</td>\n",
       "      <td>Neither bad nor good</td>\n",
       "      <td>Very good</td>\n",
       "      <td>Very good</td>\n",
       "      <td>Bad</td>\n",
       "      <td>2.2.3</td>\n",
       "    </tr>\n",
       "    <tr>\n",
       "      <th>6</th>\n",
       "      <td>8</td>\n",
       "      <td>2022-04-18 10:45:22</td>\n",
       "      <td>2022-04-18 12:12:38</td>\n",
       "      <td>18-25</td>\n",
       "      <td>Yes</td>\n",
       "      <td>No</td>\n",
       "      <td>No</td>\n",
       "      <td>Very Bad</td>\n",
       "      <td>Very Bad</td>\n",
       "      <td>Good</td>\n",
       "      <td>...</td>\n",
       "      <td>Bad</td>\n",
       "      <td>Bad</td>\n",
       "      <td>Good</td>\n",
       "      <td>2.1.3</td>\n",
       "      <td>Good</td>\n",
       "      <td>Good</td>\n",
       "      <td>Good</td>\n",
       "      <td>Very good</td>\n",
       "      <td>Very good</td>\n",
       "      <td>2.2.3</td>\n",
       "    </tr>\n",
       "    <tr>\n",
       "      <th>7</th>\n",
       "      <td>9</td>\n",
       "      <td>2022-04-18 11:47:52</td>\n",
       "      <td>2022-04-18 13:00:17</td>\n",
       "      <td>18-25</td>\n",
       "      <td>Yes</td>\n",
       "      <td>Yes</td>\n",
       "      <td>Yes</td>\n",
       "      <td>Bad</td>\n",
       "      <td>Good</td>\n",
       "      <td>Very good</td>\n",
       "      <td>...</td>\n",
       "      <td>Very good</td>\n",
       "      <td>Very good</td>\n",
       "      <td>Neither bad nor good</td>\n",
       "      <td>2.1.3</td>\n",
       "      <td>Good</td>\n",
       "      <td>Neither bad nor good</td>\n",
       "      <td>Very good</td>\n",
       "      <td>Very good</td>\n",
       "      <td>Very good</td>\n",
       "      <td>2.2.3</td>\n",
       "    </tr>\n",
       "    <tr>\n",
       "      <th>8</th>\n",
       "      <td>10</td>\n",
       "      <td>2022-04-18 14:49:48</td>\n",
       "      <td>2022-04-18 15:06:46</td>\n",
       "      <td>18-25</td>\n",
       "      <td>Yes</td>\n",
       "      <td>No</td>\n",
       "      <td>No</td>\n",
       "      <td>Bad</td>\n",
       "      <td>Bad</td>\n",
       "      <td>Good</td>\n",
       "      <td>...</td>\n",
       "      <td>Good</td>\n",
       "      <td>Neither bad nor good</td>\n",
       "      <td>Neither bad nor good</td>\n",
       "      <td>2.1.3</td>\n",
       "      <td>Good</td>\n",
       "      <td>Neither bad nor good</td>\n",
       "      <td>Good</td>\n",
       "      <td>Good</td>\n",
       "      <td>Good</td>\n",
       "      <td>2.2.3</td>\n",
       "    </tr>\n",
       "    <tr>\n",
       "      <th>9</th>\n",
       "      <td>11</td>\n",
       "      <td>2022-04-18 15:29:33</td>\n",
       "      <td>2022-04-18 15:43:18</td>\n",
       "      <td>18-25</td>\n",
       "      <td>Yes</td>\n",
       "      <td>Yes</td>\n",
       "      <td>Yes</td>\n",
       "      <td>Good</td>\n",
       "      <td>Very good</td>\n",
       "      <td>Very good</td>\n",
       "      <td>...</td>\n",
       "      <td>Good</td>\n",
       "      <td>Good</td>\n",
       "      <td>Good</td>\n",
       "      <td>2.1.3</td>\n",
       "      <td>Good</td>\n",
       "      <td>Good</td>\n",
       "      <td>Good</td>\n",
       "      <td>Good</td>\n",
       "      <td>Very good</td>\n",
       "      <td>2.2.3</td>\n",
       "    </tr>\n",
       "    <tr>\n",
       "      <th>10</th>\n",
       "      <td>12</td>\n",
       "      <td>2022-04-18 16:10:56</td>\n",
       "      <td>2022-04-18 16:14:34</td>\n",
       "      <td>26-35</td>\n",
       "      <td>Yes</td>\n",
       "      <td>Yes</td>\n",
       "      <td>No</td>\n",
       "      <td>Bad</td>\n",
       "      <td>Very Bad</td>\n",
       "      <td>Neither bad nor good</td>\n",
       "      <td>...</td>\n",
       "      <td>Neither bad nor good</td>\n",
       "      <td>Bad</td>\n",
       "      <td>Good</td>\n",
       "      <td>2.1.5</td>\n",
       "      <td>Good</td>\n",
       "      <td>Neither bad nor good</td>\n",
       "      <td>Very good</td>\n",
       "      <td>Very good</td>\n",
       "      <td>Good</td>\n",
       "      <td>2.2.3</td>\n",
       "    </tr>\n",
       "    <tr>\n",
       "      <th>11</th>\n",
       "      <td>13</td>\n",
       "      <td>2022-04-17 22:03:31</td>\n",
       "      <td>2022-04-18 19:20:15</td>\n",
       "      <td>18-25</td>\n",
       "      <td>Yes</td>\n",
       "      <td>Yes</td>\n",
       "      <td>No</td>\n",
       "      <td>Good</td>\n",
       "      <td>Neither bad nor good</td>\n",
       "      <td>Very good</td>\n",
       "      <td>...</td>\n",
       "      <td>Good</td>\n",
       "      <td>Good</td>\n",
       "      <td>Good</td>\n",
       "      <td>2.1.4</td>\n",
       "      <td>Neither bad nor good</td>\n",
       "      <td>Very good</td>\n",
       "      <td>Good</td>\n",
       "      <td>Very good</td>\n",
       "      <td>Good</td>\n",
       "      <td>2.2.3</td>\n",
       "    </tr>\n",
       "    <tr>\n",
       "      <th>12</th>\n",
       "      <td>14</td>\n",
       "      <td>2022-04-18 20:52:46</td>\n",
       "      <td>2022-04-18 20:58:43</td>\n",
       "      <td>18-25</td>\n",
       "      <td>Yes</td>\n",
       "      <td>Yes</td>\n",
       "      <td>No</td>\n",
       "      <td>Bad</td>\n",
       "      <td>Bad</td>\n",
       "      <td>Bad</td>\n",
       "      <td>...</td>\n",
       "      <td>Good</td>\n",
       "      <td>Good</td>\n",
       "      <td>Good</td>\n",
       "      <td>2.1.4</td>\n",
       "      <td>Very Bad</td>\n",
       "      <td>Very good</td>\n",
       "      <td>Very good</td>\n",
       "      <td>Very good</td>\n",
       "      <td>Very good</td>\n",
       "      <td>2.2.3</td>\n",
       "    </tr>\n",
       "    <tr>\n",
       "      <th>13</th>\n",
       "      <td>15</td>\n",
       "      <td>2022-04-19 09:37:17</td>\n",
       "      <td>2022-04-19 09:50:19</td>\n",
       "      <td>18-25</td>\n",
       "      <td>Yes</td>\n",
       "      <td>No</td>\n",
       "      <td>No</td>\n",
       "      <td>Neither bad nor good</td>\n",
       "      <td>Bad</td>\n",
       "      <td>Very good</td>\n",
       "      <td>...</td>\n",
       "      <td>Very good</td>\n",
       "      <td>Good</td>\n",
       "      <td>Neither bad nor good</td>\n",
       "      <td>2.1.3</td>\n",
       "      <td>Good</td>\n",
       "      <td>Good</td>\n",
       "      <td>Very good</td>\n",
       "      <td>Very good</td>\n",
       "      <td>Neither bad nor good</td>\n",
       "      <td>2.2.3</td>\n",
       "    </tr>\n",
       "    <tr>\n",
       "      <th>14</th>\n",
       "      <td>16</td>\n",
       "      <td>2022-04-19 20:42:31</td>\n",
       "      <td>2022-04-19 20:45:07</td>\n",
       "      <td>18-25</td>\n",
       "      <td>Yes</td>\n",
       "      <td>No</td>\n",
       "      <td>Yes</td>\n",
       "      <td>Good</td>\n",
       "      <td>Good</td>\n",
       "      <td>Good</td>\n",
       "      <td>...</td>\n",
       "      <td>Very good</td>\n",
       "      <td>Good</td>\n",
       "      <td>Very good</td>\n",
       "      <td>2.1.3</td>\n",
       "      <td>Neither bad nor good</td>\n",
       "      <td>Neither bad nor good</td>\n",
       "      <td>Very good</td>\n",
       "      <td>Very good</td>\n",
       "      <td>Very good</td>\n",
       "      <td>2.2.3</td>\n",
       "    </tr>\n",
       "    <tr>\n",
       "      <th>15</th>\n",
       "      <td>17</td>\n",
       "      <td>2022-04-20 12:13:53</td>\n",
       "      <td>2022-04-20 13:12:08</td>\n",
       "      <td>18-25</td>\n",
       "      <td>Yes</td>\n",
       "      <td>No</td>\n",
       "      <td>No</td>\n",
       "      <td>Bad</td>\n",
       "      <td>Bad</td>\n",
       "      <td>Bad</td>\n",
       "      <td>...</td>\n",
       "      <td>Good</td>\n",
       "      <td>Bad</td>\n",
       "      <td>Good</td>\n",
       "      <td>2.1.3</td>\n",
       "      <td>Very Bad</td>\n",
       "      <td>Neither bad nor good</td>\n",
       "      <td>Very good</td>\n",
       "      <td>Very good</td>\n",
       "      <td>Good</td>\n",
       "      <td>2.2.3</td>\n",
       "    </tr>\n",
       "    <tr>\n",
       "      <th>16</th>\n",
       "      <td>18</td>\n",
       "      <td>2022-04-21 15:08:10</td>\n",
       "      <td>2022-04-21 15:25:24</td>\n",
       "      <td>18-25</td>\n",
       "      <td>Yes</td>\n",
       "      <td>No</td>\n",
       "      <td>Yes</td>\n",
       "      <td>Very Bad</td>\n",
       "      <td>Very Bad</td>\n",
       "      <td>Good</td>\n",
       "      <td>...</td>\n",
       "      <td>Very good</td>\n",
       "      <td>Very good</td>\n",
       "      <td>Bad</td>\n",
       "      <td>2.1.4</td>\n",
       "      <td>Very Bad</td>\n",
       "      <td>Neither bad nor good</td>\n",
       "      <td>Good</td>\n",
       "      <td>Very good</td>\n",
       "      <td>Bad</td>\n",
       "      <td>2.2.4</td>\n",
       "    </tr>\n",
       "    <tr>\n",
       "      <th>17</th>\n",
       "      <td>19</td>\n",
       "      <td>2022-04-23 13:46:15</td>\n",
       "      <td>2022-04-23 13:56:16</td>\n",
       "      <td>18-25</td>\n",
       "      <td>Yes</td>\n",
       "      <td>Yes</td>\n",
       "      <td>Yes</td>\n",
       "      <td>Bad</td>\n",
       "      <td>Neither bad nor good</td>\n",
       "      <td>Good</td>\n",
       "      <td>...</td>\n",
       "      <td>Good</td>\n",
       "      <td>Good</td>\n",
       "      <td>Good</td>\n",
       "      <td>2.1.4</td>\n",
       "      <td>Very Bad</td>\n",
       "      <td>Good</td>\n",
       "      <td>Very good</td>\n",
       "      <td>Very good</td>\n",
       "      <td>Very good</td>\n",
       "      <td>2.2.4</td>\n",
       "    </tr>\n",
       "    <tr>\n",
       "      <th>18</th>\n",
       "      <td>20</td>\n",
       "      <td>2022-04-23 13:56:18</td>\n",
       "      <td>2022-04-23 14:00:08</td>\n",
       "      <td>18-25</td>\n",
       "      <td>Yes</td>\n",
       "      <td>Yes</td>\n",
       "      <td>Yes</td>\n",
       "      <td>Very Bad</td>\n",
       "      <td>Bad</td>\n",
       "      <td>Neither bad nor good</td>\n",
       "      <td>...</td>\n",
       "      <td>Neither bad nor good</td>\n",
       "      <td>Good</td>\n",
       "      <td>Neither bad nor good</td>\n",
       "      <td>2.1.4</td>\n",
       "      <td>Neither bad nor good</td>\n",
       "      <td>Neither bad nor good</td>\n",
       "      <td>Very good</td>\n",
       "      <td>Very good</td>\n",
       "      <td>Good</td>\n",
       "      <td>2.2.3</td>\n",
       "    </tr>\n",
       "    <tr>\n",
       "      <th>19</th>\n",
       "      <td>21</td>\n",
       "      <td>2022-04-23 17:37:36</td>\n",
       "      <td>2022-04-23 17:38:53</td>\n",
       "      <td>36-49</td>\n",
       "      <td>Yes</td>\n",
       "      <td>Yes</td>\n",
       "      <td>Yes</td>\n",
       "      <td>Very Bad</td>\n",
       "      <td>Very Bad</td>\n",
       "      <td>Bad</td>\n",
       "      <td>...</td>\n",
       "      <td>Neither bad nor good</td>\n",
       "      <td>Bad</td>\n",
       "      <td>Neither bad nor good</td>\n",
       "      <td>2.1.3</td>\n",
       "      <td>Very Bad</td>\n",
       "      <td>Good</td>\n",
       "      <td>Very good</td>\n",
       "      <td>Very good</td>\n",
       "      <td>Very good</td>\n",
       "      <td>2.2.3</td>\n",
       "    </tr>\n",
       "    <tr>\n",
       "      <th>20</th>\n",
       "      <td>22</td>\n",
       "      <td>2022-04-23 17:38:55</td>\n",
       "      <td>2022-04-23 17:41:21</td>\n",
       "      <td>26-35</td>\n",
       "      <td>Yes</td>\n",
       "      <td>Yes</td>\n",
       "      <td>Yes</td>\n",
       "      <td>Bad</td>\n",
       "      <td>Bad</td>\n",
       "      <td>Bad</td>\n",
       "      <td>...</td>\n",
       "      <td>Bad</td>\n",
       "      <td>Bad</td>\n",
       "      <td>Bad</td>\n",
       "      <td>2.1.3</td>\n",
       "      <td>Neither bad nor good</td>\n",
       "      <td>Neither bad nor good</td>\n",
       "      <td>Good</td>\n",
       "      <td>Good</td>\n",
       "      <td>Good</td>\n",
       "      <td>2.2.3</td>\n",
       "    </tr>\n",
       "    <tr>\n",
       "      <th>21</th>\n",
       "      <td>23</td>\n",
       "      <td>2022-04-23 19:08:49</td>\n",
       "      <td>2022-04-23 19:10:09</td>\n",
       "      <td>26-35</td>\n",
       "      <td>Yes</td>\n",
       "      <td>Yes</td>\n",
       "      <td>Yes</td>\n",
       "      <td>Neither bad nor good</td>\n",
       "      <td>Neither bad nor good</td>\n",
       "      <td>Good</td>\n",
       "      <td>...</td>\n",
       "      <td>Good</td>\n",
       "      <td>Good</td>\n",
       "      <td>Good</td>\n",
       "      <td>2.1.3</td>\n",
       "      <td>Good</td>\n",
       "      <td>Good</td>\n",
       "      <td>Very good</td>\n",
       "      <td>Very good</td>\n",
       "      <td>Good</td>\n",
       "      <td>2.2.3</td>\n",
       "    </tr>\n",
       "    <tr>\n",
       "      <th>22</th>\n",
       "      <td>24</td>\n",
       "      <td>2022-04-23 19:10:10</td>\n",
       "      <td>2022-04-23 19:11:27</td>\n",
       "      <td>26-35</td>\n",
       "      <td>Yes</td>\n",
       "      <td>No</td>\n",
       "      <td>No</td>\n",
       "      <td>Very Bad</td>\n",
       "      <td>Very Bad</td>\n",
       "      <td>Neither bad nor good</td>\n",
       "      <td>...</td>\n",
       "      <td>Good</td>\n",
       "      <td>Good</td>\n",
       "      <td>Neither bad nor good</td>\n",
       "      <td>2.1.4</td>\n",
       "      <td>Neither bad nor good</td>\n",
       "      <td>Neither bad nor good</td>\n",
       "      <td>Very good</td>\n",
       "      <td>Very good</td>\n",
       "      <td>Good</td>\n",
       "      <td>2.2.4</td>\n",
       "    </tr>\n",
       "    <tr>\n",
       "      <th>23</th>\n",
       "      <td>25</td>\n",
       "      <td>2022-04-23 19:11:29</td>\n",
       "      <td>2022-04-23 19:12:35</td>\n",
       "      <td>36-49</td>\n",
       "      <td>Yes</td>\n",
       "      <td>No</td>\n",
       "      <td>No</td>\n",
       "      <td>Very Bad</td>\n",
       "      <td>Very Bad</td>\n",
       "      <td>Bad</td>\n",
       "      <td>...</td>\n",
       "      <td>Bad</td>\n",
       "      <td>Bad</td>\n",
       "      <td>Bad</td>\n",
       "      <td>2.1.4</td>\n",
       "      <td>Neither bad nor good</td>\n",
       "      <td>Neither bad nor good</td>\n",
       "      <td>Good</td>\n",
       "      <td>Good</td>\n",
       "      <td>Neither bad nor good</td>\n",
       "      <td>2.2.4</td>\n",
       "    </tr>\n",
       "    <tr>\n",
       "      <th>24</th>\n",
       "      <td>26</td>\n",
       "      <td>2022-04-23 19:14:22</td>\n",
       "      <td>2022-04-23 19:15:39</td>\n",
       "      <td>26-35</td>\n",
       "      <td>Yes</td>\n",
       "      <td>Yes</td>\n",
       "      <td>Yes</td>\n",
       "      <td>Neither bad nor good</td>\n",
       "      <td>Neither bad nor good</td>\n",
       "      <td>Neither bad nor good</td>\n",
       "      <td>...</td>\n",
       "      <td>Neither bad nor good</td>\n",
       "      <td>Neither bad nor good</td>\n",
       "      <td>Neither bad nor good</td>\n",
       "      <td>2.1.4</td>\n",
       "      <td>Neither bad nor good</td>\n",
       "      <td>Neither bad nor good</td>\n",
       "      <td>Very good</td>\n",
       "      <td>Very good</td>\n",
       "      <td>Good</td>\n",
       "      <td>2.2.4</td>\n",
       "    </tr>\n",
       "    <tr>\n",
       "      <th>25</th>\n",
       "      <td>27</td>\n",
       "      <td>2022-04-23 19:34:54</td>\n",
       "      <td>2022-04-23 19:36:54</td>\n",
       "      <td>26-35</td>\n",
       "      <td>Yes</td>\n",
       "      <td>No</td>\n",
       "      <td>No</td>\n",
       "      <td>Bad</td>\n",
       "      <td>Bad</td>\n",
       "      <td>Neither bad nor good</td>\n",
       "      <td>...</td>\n",
       "      <td>Neither bad nor good</td>\n",
       "      <td>Neither bad nor good</td>\n",
       "      <td>Bad</td>\n",
       "      <td>2.1.4</td>\n",
       "      <td>Neither bad nor good</td>\n",
       "      <td>Neither bad nor good</td>\n",
       "      <td>Very good</td>\n",
       "      <td>Very good</td>\n",
       "      <td>Good</td>\n",
       "      <td>2.2.4</td>\n",
       "    </tr>\n",
       "    <tr>\n",
       "      <th>26</th>\n",
       "      <td>28</td>\n",
       "      <td>2022-04-23 19:36:55</td>\n",
       "      <td>2022-04-23 19:37:51</td>\n",
       "      <td>36-49</td>\n",
       "      <td>Yes</td>\n",
       "      <td>Yes</td>\n",
       "      <td>Yes</td>\n",
       "      <td>Neither bad nor good</td>\n",
       "      <td>Neither bad nor good</td>\n",
       "      <td>Good</td>\n",
       "      <td>...</td>\n",
       "      <td>Good</td>\n",
       "      <td>Good</td>\n",
       "      <td>Neither bad nor good</td>\n",
       "      <td>2.1.4</td>\n",
       "      <td>Good</td>\n",
       "      <td>Good</td>\n",
       "      <td>Very good</td>\n",
       "      <td>Very good</td>\n",
       "      <td>Very good</td>\n",
       "      <td>2.2.4</td>\n",
       "    </tr>\n",
       "    <tr>\n",
       "      <th>27</th>\n",
       "      <td>29</td>\n",
       "      <td>2022-04-23 19:37:52</td>\n",
       "      <td>2022-04-23 19:39:02</td>\n",
       "      <td>36-49</td>\n",
       "      <td>Yes</td>\n",
       "      <td>Yes</td>\n",
       "      <td>Yes</td>\n",
       "      <td>Neither bad nor good</td>\n",
       "      <td>Good</td>\n",
       "      <td>Very good</td>\n",
       "      <td>...</td>\n",
       "      <td>Good</td>\n",
       "      <td>Good</td>\n",
       "      <td>Good</td>\n",
       "      <td>2.1.4</td>\n",
       "      <td>Neither bad nor good</td>\n",
       "      <td>Good</td>\n",
       "      <td>Very good</td>\n",
       "      <td>Very good</td>\n",
       "      <td>Good</td>\n",
       "      <td>2.2.4</td>\n",
       "    </tr>\n",
       "    <tr>\n",
       "      <th>28</th>\n",
       "      <td>30</td>\n",
       "      <td>2022-04-23 19:52:07</td>\n",
       "      <td>2022-04-23 19:53:21</td>\n",
       "      <td>50+</td>\n",
       "      <td>Yes</td>\n",
       "      <td>Yes</td>\n",
       "      <td>Yes</td>\n",
       "      <td>Bad</td>\n",
       "      <td>Bad</td>\n",
       "      <td>Good</td>\n",
       "      <td>...</td>\n",
       "      <td>Good</td>\n",
       "      <td>Good</td>\n",
       "      <td>Bad</td>\n",
       "      <td>2.1.4</td>\n",
       "      <td>Neither bad nor good</td>\n",
       "      <td>Neither bad nor good</td>\n",
       "      <td>Good</td>\n",
       "      <td>Good</td>\n",
       "      <td>Good</td>\n",
       "      <td>2.2.4</td>\n",
       "    </tr>\n",
       "    <tr>\n",
       "      <th>29</th>\n",
       "      <td>31</td>\n",
       "      <td>2022-04-24 10:22:04</td>\n",
       "      <td>2022-04-24 10:23:29</td>\n",
       "      <td>18-25</td>\n",
       "      <td>Yes</td>\n",
       "      <td>Yes</td>\n",
       "      <td>Yes</td>\n",
       "      <td>Neither bad nor good</td>\n",
       "      <td>Neither bad nor good</td>\n",
       "      <td>Good</td>\n",
       "      <td>...</td>\n",
       "      <td>Good</td>\n",
       "      <td>Good</td>\n",
       "      <td>Good</td>\n",
       "      <td>2.1.3</td>\n",
       "      <td>Good</td>\n",
       "      <td>Good</td>\n",
       "      <td>Very good</td>\n",
       "      <td>Very good</td>\n",
       "      <td>Very good</td>\n",
       "      <td>2.2.3</td>\n",
       "    </tr>\n",
       "  </tbody>\n",
       "</table>\n",
       "<p>30 rows × 31 columns</p>\n",
       "</div>"
      ],
      "text/plain": [
       "    ID          Start time     Completion time What is your age group?  \\\n",
       "0    2 2022-04-17 13:25:20 2022-04-17 13:43:26                   26-35   \n",
       "1    3 2022-04-17 12:10:20 2022-04-17 13:53:27                   18-25   \n",
       "2    4 2022-04-17 13:37:39 2022-04-17 14:10:01                   18-25   \n",
       "3    5 2022-04-17 17:42:19 2022-04-17 17:52:22                   18-25   \n",
       "4    6 2022-04-17 19:24:05 2022-04-17 19:26:02                   18-25   \n",
       "5    7 2022-04-18 11:05:09 2022-04-18 11:47:52                   18-25   \n",
       "6    8 2022-04-18 10:45:22 2022-04-18 12:12:38                   18-25   \n",
       "7    9 2022-04-18 11:47:52 2022-04-18 13:00:17                   18-25   \n",
       "8   10 2022-04-18 14:49:48 2022-04-18 15:06:46                   18-25   \n",
       "9   11 2022-04-18 15:29:33 2022-04-18 15:43:18                   18-25   \n",
       "10  12 2022-04-18 16:10:56 2022-04-18 16:14:34                   26-35   \n",
       "11  13 2022-04-17 22:03:31 2022-04-18 19:20:15                   18-25   \n",
       "12  14 2022-04-18 20:52:46 2022-04-18 20:58:43                   18-25   \n",
       "13  15 2022-04-19 09:37:17 2022-04-19 09:50:19                   18-25   \n",
       "14  16 2022-04-19 20:42:31 2022-04-19 20:45:07                   18-25   \n",
       "15  17 2022-04-20 12:13:53 2022-04-20 13:12:08                   18-25   \n",
       "16  18 2022-04-21 15:08:10 2022-04-21 15:25:24                   18-25   \n",
       "17  19 2022-04-23 13:46:15 2022-04-23 13:56:16                   18-25   \n",
       "18  20 2022-04-23 13:56:18 2022-04-23 14:00:08                   18-25   \n",
       "19  21 2022-04-23 17:37:36 2022-04-23 17:38:53                   36-49   \n",
       "20  22 2022-04-23 17:38:55 2022-04-23 17:41:21                   26-35   \n",
       "21  23 2022-04-23 19:08:49 2022-04-23 19:10:09                   26-35   \n",
       "22  24 2022-04-23 19:10:10 2022-04-23 19:11:27                   26-35   \n",
       "23  25 2022-04-23 19:11:29 2022-04-23 19:12:35                   36-49   \n",
       "24  26 2022-04-23 19:14:22 2022-04-23 19:15:39                   26-35   \n",
       "25  27 2022-04-23 19:34:54 2022-04-23 19:36:54                   26-35   \n",
       "26  28 2022-04-23 19:36:55 2022-04-23 19:37:51                   36-49   \n",
       "27  29 2022-04-23 19:37:52 2022-04-23 19:39:02                   36-49   \n",
       "28  30 2022-04-23 19:52:07 2022-04-23 19:53:21                     50+   \n",
       "29  31 2022-04-24 10:22:04 2022-04-24 10:23:29                   18-25   \n",
       "\n",
       "   Have you ever heard of artificial intelligence (AI)?  \\\n",
       "0                                                 Yes     \n",
       "1                                                 Yes     \n",
       "2                                                 Yes     \n",
       "3                                                 Yes     \n",
       "4                                                 Yes     \n",
       "5                                                 Yes     \n",
       "6                                                 Yes     \n",
       "7                                                 Yes     \n",
       "8                                                 Yes     \n",
       "9                                                 Yes     \n",
       "10                                                Yes     \n",
       "11                                                Yes     \n",
       "12                                                Yes     \n",
       "13                                                Yes     \n",
       "14                                                Yes     \n",
       "15                                                Yes     \n",
       "16                                                Yes     \n",
       "17                                                Yes     \n",
       "18                                                Yes     \n",
       "19                                                Yes     \n",
       "20                                                Yes     \n",
       "21                                                Yes     \n",
       "22                                                Yes     \n",
       "23                                                Yes     \n",
       "24                                                Yes     \n",
       "25                                                Yes     \n",
       "26                                                Yes     \n",
       "27                                                Yes     \n",
       "28                                                Yes     \n",
       "29                                                Yes     \n",
       "\n",
       "   Have you ever worked on a project related to AI?  \\\n",
       "0                                                No   \n",
       "1                                                No   \n",
       "2                                                No   \n",
       "3                                               Yes   \n",
       "4                                               Yes   \n",
       "5                                                No   \n",
       "6                                                No   \n",
       "7                                               Yes   \n",
       "8                                                No   \n",
       "9                                               Yes   \n",
       "10                                              Yes   \n",
       "11                                              Yes   \n",
       "12                                              Yes   \n",
       "13                                               No   \n",
       "14                                               No   \n",
       "15                                               No   \n",
       "16                                               No   \n",
       "17                                              Yes   \n",
       "18                                              Yes   \n",
       "19                                              Yes   \n",
       "20                                              Yes   \n",
       "21                                              Yes   \n",
       "22                                               No   \n",
       "23                                               No   \n",
       "24                                              Yes   \n",
       "25                                               No   \n",
       "26                                              Yes   \n",
       "27                                              Yes   \n",
       "28                                              Yes   \n",
       "29                                              Yes   \n",
       "\n",
       "   Have you ever heard of explainable AI (XAI)?           Explanation  \\\n",
       "0                                           Yes              Very Bad   \n",
       "1                                            No              Very Bad   \n",
       "2                                            No  Neither bad nor good   \n",
       "3                                           Yes                  Good   \n",
       "4                                           Yes                   Bad   \n",
       "5                                           Yes                  Good   \n",
       "6                                            No              Very Bad   \n",
       "7                                           Yes                   Bad   \n",
       "8                                            No                   Bad   \n",
       "9                                           Yes                  Good   \n",
       "10                                           No                   Bad   \n",
       "11                                           No                  Good   \n",
       "12                                           No                   Bad   \n",
       "13                                           No  Neither bad nor good   \n",
       "14                                          Yes                  Good   \n",
       "15                                           No                   Bad   \n",
       "16                                          Yes              Very Bad   \n",
       "17                                          Yes                   Bad   \n",
       "18                                          Yes              Very Bad   \n",
       "19                                          Yes              Very Bad   \n",
       "20                                          Yes                   Bad   \n",
       "21                                          Yes  Neither bad nor good   \n",
       "22                                           No              Very Bad   \n",
       "23                                           No              Very Bad   \n",
       "24                                          Yes  Neither bad nor good   \n",
       "25                                           No                   Bad   \n",
       "26                                          Yes  Neither bad nor good   \n",
       "27                                          Yes  Neither bad nor good   \n",
       "28                                          Yes                   Bad   \n",
       "29                                          Yes  Neither bad nor good   \n",
       "\n",
       "            Explanation2          Explanation3  ...         Explanation15  \\\n",
       "0                    Bad             Very good  ...             Very good   \n",
       "1                    Bad                  Good  ...             Very good   \n",
       "2                    Bad                  Good  ...             Very good   \n",
       "3                    Bad                  Good  ...                  Good   \n",
       "4                   Good             Very good  ...             Very good   \n",
       "5                    Bad                   Bad  ...                  Good   \n",
       "6               Very Bad                  Good  ...                   Bad   \n",
       "7                   Good             Very good  ...             Very good   \n",
       "8                    Bad                  Good  ...                  Good   \n",
       "9              Very good             Very good  ...                  Good   \n",
       "10              Very Bad  Neither bad nor good  ...  Neither bad nor good   \n",
       "11  Neither bad nor good             Very good  ...                  Good   \n",
       "12                   Bad                   Bad  ...                  Good   \n",
       "13                   Bad             Very good  ...             Very good   \n",
       "14                  Good                  Good  ...             Very good   \n",
       "15                   Bad                   Bad  ...                  Good   \n",
       "16              Very Bad                  Good  ...             Very good   \n",
       "17  Neither bad nor good                  Good  ...                  Good   \n",
       "18                   Bad  Neither bad nor good  ...  Neither bad nor good   \n",
       "19              Very Bad                   Bad  ...  Neither bad nor good   \n",
       "20                   Bad                   Bad  ...                   Bad   \n",
       "21  Neither bad nor good                  Good  ...                  Good   \n",
       "22              Very Bad  Neither bad nor good  ...                  Good   \n",
       "23              Very Bad                   Bad  ...                   Bad   \n",
       "24  Neither bad nor good  Neither bad nor good  ...  Neither bad nor good   \n",
       "25                   Bad  Neither bad nor good  ...  Neither bad nor good   \n",
       "26  Neither bad nor good                  Good  ...                  Good   \n",
       "27                  Good             Very good  ...                  Good   \n",
       "28                   Bad                  Good  ...                  Good   \n",
       "29  Neither bad nor good                  Good  ...                  Good   \n",
       "\n",
       "           Explanation16         Explanation17 Explanation18  \\\n",
       "0               Very Bad              Very Bad         2.1.3   \n",
       "1                    Bad                  Good         2.1.3   \n",
       "2              Very good  Neither bad nor good         2.1.3   \n",
       "3                   Good                  Good         2.1.4   \n",
       "4              Very good                  Good         2.1.4   \n",
       "5                    Bad  Neither bad nor good         2.1.3   \n",
       "6                    Bad                  Good         2.1.3   \n",
       "7              Very good  Neither bad nor good         2.1.3   \n",
       "8   Neither bad nor good  Neither bad nor good         2.1.3   \n",
       "9                   Good                  Good         2.1.3   \n",
       "10                   Bad                  Good         2.1.5   \n",
       "11                  Good                  Good         2.1.4   \n",
       "12                  Good                  Good         2.1.4   \n",
       "13                  Good  Neither bad nor good         2.1.3   \n",
       "14                  Good             Very good         2.1.3   \n",
       "15                   Bad                  Good         2.1.3   \n",
       "16             Very good                   Bad         2.1.4   \n",
       "17                  Good                  Good         2.1.4   \n",
       "18                  Good  Neither bad nor good         2.1.4   \n",
       "19                   Bad  Neither bad nor good         2.1.3   \n",
       "20                   Bad                   Bad         2.1.3   \n",
       "21                  Good                  Good         2.1.3   \n",
       "22                  Good  Neither bad nor good         2.1.4   \n",
       "23                   Bad                   Bad         2.1.4   \n",
       "24  Neither bad nor good  Neither bad nor good         2.1.4   \n",
       "25  Neither bad nor good                   Bad         2.1.4   \n",
       "26                  Good  Neither bad nor good         2.1.4   \n",
       "27                  Good                  Good         2.1.4   \n",
       "28                  Good                   Bad         2.1.4   \n",
       "29                  Good                  Good         2.1.3   \n",
       "\n",
       "           Explanation19         Explanation20 Explanation21 Explanation22  \\\n",
       "0               Very Bad                   Bad     Very good      Very Bad   \n",
       "1   Neither bad nor good                   Bad     Very good     Very good   \n",
       "2              Very good                  Good          Good     Very good   \n",
       "3                   Good  Neither bad nor good          Good          Good   \n",
       "4              Very good             Very good     Very good     Very good   \n",
       "5                   Good  Neither bad nor good     Very good     Very good   \n",
       "6                   Good                  Good          Good     Very good   \n",
       "7                   Good  Neither bad nor good     Very good     Very good   \n",
       "8                   Good  Neither bad nor good          Good          Good   \n",
       "9                   Good                  Good          Good          Good   \n",
       "10                  Good  Neither bad nor good     Very good     Very good   \n",
       "11  Neither bad nor good             Very good          Good     Very good   \n",
       "12              Very Bad             Very good     Very good     Very good   \n",
       "13                  Good                  Good     Very good     Very good   \n",
       "14  Neither bad nor good  Neither bad nor good     Very good     Very good   \n",
       "15              Very Bad  Neither bad nor good     Very good     Very good   \n",
       "16              Very Bad  Neither bad nor good          Good     Very good   \n",
       "17              Very Bad                  Good     Very good     Very good   \n",
       "18  Neither bad nor good  Neither bad nor good     Very good     Very good   \n",
       "19              Very Bad                  Good     Very good     Very good   \n",
       "20  Neither bad nor good  Neither bad nor good          Good          Good   \n",
       "21                  Good                  Good     Very good     Very good   \n",
       "22  Neither bad nor good  Neither bad nor good     Very good     Very good   \n",
       "23  Neither bad nor good  Neither bad nor good          Good          Good   \n",
       "24  Neither bad nor good  Neither bad nor good     Very good     Very good   \n",
       "25  Neither bad nor good  Neither bad nor good     Very good     Very good   \n",
       "26                  Good                  Good     Very good     Very good   \n",
       "27  Neither bad nor good                  Good     Very good     Very good   \n",
       "28  Neither bad nor good  Neither bad nor good          Good          Good   \n",
       "29                  Good                  Good     Very good     Very good   \n",
       "\n",
       "           Explanation23 Explanation24  \n",
       "0               Very Bad         2.2.3  \n",
       "1                   Good         2.2.3  \n",
       "2   Neither bad nor good         2.2.4  \n",
       "3                   Good         2.2.4  \n",
       "4              Very good         2.2.4  \n",
       "5                    Bad         2.2.3  \n",
       "6              Very good         2.2.3  \n",
       "7              Very good         2.2.3  \n",
       "8                   Good         2.2.3  \n",
       "9              Very good         2.2.3  \n",
       "10                  Good         2.2.3  \n",
       "11                  Good         2.2.3  \n",
       "12             Very good         2.2.3  \n",
       "13  Neither bad nor good         2.2.3  \n",
       "14             Very good         2.2.3  \n",
       "15                  Good         2.2.3  \n",
       "16                   Bad         2.2.4  \n",
       "17             Very good         2.2.4  \n",
       "18                  Good         2.2.3  \n",
       "19             Very good         2.2.3  \n",
       "20                  Good         2.2.3  \n",
       "21                  Good         2.2.3  \n",
       "22                  Good         2.2.4  \n",
       "23  Neither bad nor good         2.2.4  \n",
       "24                  Good         2.2.4  \n",
       "25                  Good         2.2.4  \n",
       "26             Very good         2.2.4  \n",
       "27                  Good         2.2.4  \n",
       "28                  Good         2.2.4  \n",
       "29             Very good         2.2.3  \n",
       "\n",
       "[30 rows x 31 columns]"
      ]
     },
     "execution_count": 4,
     "metadata": {},
     "output_type": "execute_result"
    }
   ],
   "source": [
    "results_df"
   ]
  },
  {
   "cell_type": "code",
   "execution_count": 5,
   "id": "7e478045",
   "metadata": {},
   "outputs": [],
   "source": [
    "replace_dict = {'Very Bad': 1,\n",
    "                'Bad': 2,\n",
    "                'Neither bad nor good': 3,\n",
    "                'Good': 4,\n",
    "                'Very good': 5}"
   ]
  },
  {
   "cell_type": "code",
   "execution_count": 6,
   "id": "f49c2477",
   "metadata": {},
   "outputs": [],
   "source": [
    "replace_dict_1 = {'1.1.1': '1',\n",
    "                  '1.1.2': '2',\n",
    "                  '1.1.3': '3',\n",
    "                  '1.1.4': '4',\n",
    "                  '1.1.5': '5'}"
   ]
  },
  {
   "cell_type": "code",
   "execution_count": 7,
   "id": "828b6908",
   "metadata": {},
   "outputs": [],
   "source": [
    "replace_dict_2 = {'1.2.1': '1',\n",
    "                  '1.2.2': '2',\n",
    "                  '1.2.3': '3',\n",
    "                  '1.2.4': '4',\n",
    "                  '1.2.5': '5'}"
   ]
  },
  {
   "cell_type": "code",
   "execution_count": 8,
   "id": "197914be",
   "metadata": {},
   "outputs": [],
   "source": [
    "replace_dict_3 = {'2.1.1': '1',\n",
    "                  '2.1.2': '2',\n",
    "                  '2.1.3': '3',\n",
    "                  '2.1.4': '4',\n",
    "                  '2.1.5': '5'}"
   ]
  },
  {
   "cell_type": "code",
   "execution_count": 9,
   "id": "1faeb898",
   "metadata": {},
   "outputs": [],
   "source": [
    "replace_dict_4 = {'2.2.1': '1',\n",
    "                  '2.2.2': '2',\n",
    "                  '2.2.3': '3',\n",
    "                  '2.2.4': '4',\n",
    "                  '2.2.5': '5'}"
   ]
  },
  {
   "cell_type": "code",
   "execution_count": 10,
   "id": "2fdb44f4",
   "metadata": {},
   "outputs": [],
   "source": [
    "filtered_df = results_df.drop(['ID', 'Start time', 'Completion time', 'What is your age group?', 'Have you ever heard of artificial intelligence (AI)?', 'Have you ever worked on a project related to AI?', 'Have you ever heard of explainable AI (XAI)?'], axis=1).transpose()"
   ]
  },
  {
   "cell_type": "code",
   "execution_count": 11,
   "id": "de33de4c",
   "metadata": {},
   "outputs": [
    {
     "data": {
      "text/html": [
       "<div>\n",
       "<style scoped>\n",
       "    .dataframe tbody tr th:only-of-type {\n",
       "        vertical-align: middle;\n",
       "    }\n",
       "\n",
       "    .dataframe tbody tr th {\n",
       "        vertical-align: top;\n",
       "    }\n",
       "\n",
       "    .dataframe thead th {\n",
       "        text-align: right;\n",
       "    }\n",
       "</style>\n",
       "<table border=\"1\" class=\"dataframe\">\n",
       "  <thead>\n",
       "    <tr style=\"text-align: right;\">\n",
       "      <th></th>\n",
       "      <th>0</th>\n",
       "      <th>1</th>\n",
       "      <th>2</th>\n",
       "      <th>3</th>\n",
       "      <th>4</th>\n",
       "      <th>5</th>\n",
       "      <th>6</th>\n",
       "      <th>7</th>\n",
       "      <th>8</th>\n",
       "      <th>9</th>\n",
       "      <th>...</th>\n",
       "      <th>20</th>\n",
       "      <th>21</th>\n",
       "      <th>22</th>\n",
       "      <th>23</th>\n",
       "      <th>24</th>\n",
       "      <th>25</th>\n",
       "      <th>26</th>\n",
       "      <th>27</th>\n",
       "      <th>28</th>\n",
       "      <th>29</th>\n",
       "    </tr>\n",
       "  </thead>\n",
       "  <tbody>\n",
       "    <tr>\n",
       "      <th>Explanation6</th>\n",
       "      <td>1.1.3</td>\n",
       "      <td>1.1.3</td>\n",
       "      <td>1.1.3</td>\n",
       "      <td>1.1.3</td>\n",
       "      <td>1.1.4</td>\n",
       "      <td>1.1.4</td>\n",
       "      <td>1.1.4</td>\n",
       "      <td>1.1.3</td>\n",
       "      <td>1.1.4</td>\n",
       "      <td>1.1.3</td>\n",
       "      <td>...</td>\n",
       "      <td>1.1.3</td>\n",
       "      <td>1.1.3</td>\n",
       "      <td>1.1.3</td>\n",
       "      <td>1.1.4</td>\n",
       "      <td>1.1.3</td>\n",
       "      <td>1.1.3</td>\n",
       "      <td>1.1.3</td>\n",
       "      <td>1.1.4</td>\n",
       "      <td>1.1.3</td>\n",
       "      <td>1.1.3</td>\n",
       "    </tr>\n",
       "  </tbody>\n",
       "</table>\n",
       "<p>1 rows × 30 columns</p>\n",
       "</div>"
      ],
      "text/plain": [
       "                 0      1      2      3      4      5      6      7      8   \\\n",
       "Explanation6  1.1.3  1.1.3  1.1.3  1.1.3  1.1.4  1.1.4  1.1.4  1.1.3  1.1.4   \n",
       "\n",
       "                 9   ...     20     21     22     23     24     25     26  \\\n",
       "Explanation6  1.1.3  ...  1.1.3  1.1.3  1.1.3  1.1.4  1.1.3  1.1.3  1.1.3   \n",
       "\n",
       "                 27     28     29  \n",
       "Explanation6  1.1.4  1.1.3  1.1.3  \n",
       "\n",
       "[1 rows x 30 columns]"
      ]
     },
     "execution_count": 11,
     "metadata": {},
     "output_type": "execute_result"
    }
   ],
   "source": [
    "filtered_df.iloc[5:6,:]"
   ]
  },
  {
   "cell_type": "code",
   "execution_count": 12,
   "id": "fdc2221d",
   "metadata": {},
   "outputs": [],
   "source": [
    "filtered_df.to_csv(results_dir+'transposed_df.csv')"
   ]
  },
  {
   "cell_type": "markdown",
   "id": "0571ab02",
   "metadata": {},
   "source": [
    "---"
   ]
  },
  {
   "cell_type": "markdown",
   "id": "4cfa62bf",
   "metadata": {},
   "source": [
    "## Fleiss Kappa"
   ]
  },
  {
   "cell_type": "code",
   "execution_count": 13,
   "id": "2341396b",
   "metadata": {},
   "outputs": [],
   "source": [
    "# Adapted from https://gist.github.com/ShinNoNoir/4749548\n",
    "def fleiss_kappa(ratings, n):\n",
    "    '''\n",
    "    Computes the Fleiss' kappa measure for assessing the reliability of \n",
    "    agreement between a fixed number n of raters when assigning categorical\n",
    "    ratings to a number of items.\n",
    "    \n",
    "    Args:\n",
    "        ratings: a list of (item, category)-ratings\n",
    "        n: number of raters\n",
    "        k: number of categories\n",
    "    Returns:\n",
    "        the Fleiss' kappa score\n",
    "    \n",
    "    See also:\n",
    "        http://en.wikipedia.org/wiki/Fleiss'_kappa\n",
    "    '''\n",
    "    items = set()\n",
    "    categories = set()\n",
    "    n_ij = {}\n",
    "    \n",
    "    for i, c in ratings:\n",
    "        items.add(i)\n",
    "        categories.add(c)\n",
    "        n_ij[(i,c)] = n_ij.get((i,c), 0) + 1\n",
    "    \n",
    "    N = len(items)\n",
    "    \n",
    "    p_j = dict(((c, sum(n_ij.get((i, c), 0) for i in items) / (1.0 * n * N)) for c in categories))\n",
    "    P_i = dict(((i, (sum(n_ij.get((i, c), 0) ** 2 for c in categories) - n) / (n * (n - 1.0))) for i in items))\n",
    "\n",
    "    P_bar = sum(P_i.values()) / (1.0 * N)\n",
    "    P_e_bar = sum(value ** 2 for value in p_j.values())\n",
    "    \n",
    "    kappa = (P_bar - P_e_bar) / (1 - P_e_bar)\n",
    "    \n",
    "    return kappa"
   ]
  },
  {
   "cell_type": "code",
   "execution_count": 14,
   "id": "6e540a4f",
   "metadata": {},
   "outputs": [],
   "source": [
    "questions = [[7, 13, 19, 25],\n",
    "             [8, 14, 20, 26],\n",
    "             [9, 15, 21, 27],\n",
    "             [10, 16, 22, 28], \n",
    "             [11, 17, 23, 29], \n",
    "             [12, 18, 24, 30]]"
   ]
  },
  {
   "cell_type": "code",
   "execution_count": 15,
   "id": "1abe5813",
   "metadata": {},
   "outputs": [
    {
     "name": "stdout",
     "output_type": "stream",
     "text": [
      "Fleiss kappa is:  0.02126553056008321\n",
      "Fleiss kappa is:  0.07096573733032109\n",
      "Fleiss kappa is:  0.05741687125892853\n",
      "Fleiss kappa is:  0.12267983422013708\n",
      "Fleiss kappa is:  0.024050999710228938\n",
      "Fleiss kappa is:  0.4150706488066191\n"
     ]
    }
   ],
   "source": [
    "for question_type in range(len(questions)):\n",
    "    answers = []\n",
    "    for i in questions[question_type]:\n",
    "        for column in range(30):\n",
    "            answers.append((i, results_df.iloc[column,i]))\n",
    "    print('Fleiss kappa is: ', fleiss_kappa(answers, 30))"
   ]
  },
  {
   "cell_type": "markdown",
   "id": "762a5a9f",
   "metadata": {},
   "source": [
    "-----------"
   ]
  },
  {
   "cell_type": "markdown",
   "id": "66814f14",
   "metadata": {},
   "source": [
    "## Shapiro-Wilk"
   ]
  },
  {
   "cell_type": "code",
   "execution_count": 16,
   "id": "533fe825",
   "metadata": {},
   "outputs": [],
   "source": [
    "results_df = results_df.replace(replace_dict)\n",
    "results_df = results_df.replace(replace_dict_1)\n",
    "results_df = results_df.replace(replace_dict_2)\n",
    "results_df = results_df.replace(replace_dict_3)\n",
    "results_df = results_df.replace(replace_dict_4)"
   ]
  },
  {
   "cell_type": "code",
   "execution_count": 17,
   "id": "1b44aabd",
   "metadata": {},
   "outputs": [
    {
     "data": {
      "text/plain": [
       "array([1, 1, 3, 4, 2, 4, 1, 2, 2, 4, 2, 4, 2, 3, 4, 2, 1, 2, 1, 1, 2, 3,\n",
       "       1, 1, 3, 2, 3, 3, 2, 3], dtype=int64)"
      ]
     },
     "execution_count": 17,
     "metadata": {},
     "output_type": "execute_result"
    }
   ],
   "source": [
    "results_df.iloc[:,7].values"
   ]
  },
  {
   "cell_type": "code",
   "execution_count": 18,
   "id": "e0ce0277",
   "metadata": {},
   "outputs": [],
   "source": [
    "questions_two = [[7, 19], [13, 25],\n",
    "                 [8, 20], [14, 26],\n",
    "                 [9, 21], [15, 27],\n",
    "                 [10, 22], [16, 28], \n",
    "                 [11, 23], [17, 29], \n",
    "                 [12, 24], [18, 30]]"
   ]
  },
  {
   "cell_type": "code",
   "execution_count": 19,
   "id": "7dc28fde",
   "metadata": {},
   "outputs": [
    {
     "name": "stdout",
     "output_type": "stream",
     "text": [
      "Result is:  0.8977057337760925  and p-value is:  0.00010861604823730886\n",
      "Result is:  0.8857446908950806  and p-value is:  4.1349561797687784e-05\n",
      "Result is:  0.8679125905036926  and p-value is:  1.0734240277088247e-05\n",
      "Result is:  0.8882561922073364  and p-value is:  5.042620250605978e-05\n",
      "Result is:  0.8485623598098755  and p-value is:  2.7635248898150166e-06\n",
      "Result is:  0.6613222360610962  and p-value is:  1.7081897007997782e-10\n",
      "Result is:  0.8724643588066101  and p-value is:  1.500063717685407e-05\n",
      "Result is:  0.637178897857666  and p-value is:  6.506237215653243e-11\n",
      "Result is:  0.8886683583259583  and p-value is:  5.210665040067397e-05\n",
      "Result is:  0.8472611904144287  and p-value is:  2.531519157855655e-06\n",
      "Result is:  0.682121992111206  and p-value is:  4.074890425087574e-10\n",
      "Result is:  0.6762785315513611  and p-value is:  3.179875529557563e-10\n"
     ]
    }
   ],
   "source": [
    "for question_pair in questions_two:\n",
    "    data = np.concatenate((results_df.iloc[:,question_pair[0]].values, results_df.iloc[:,question_pair[1]].values))\n",
    "    shapiro_test = stats.shapiro(data)\n",
    "    print('Result is: ', shapiro_test.statistic, ' and p-value is: ', shapiro_test.pvalue)"
   ]
  },
  {
   "cell_type": "markdown",
   "id": "08130075",
   "metadata": {},
   "source": [
    "#### sample plot"
   ]
  },
  {
   "cell_type": "code",
   "execution_count": 20,
   "id": "33cc3867",
   "metadata": {},
   "outputs": [],
   "source": [
    "import matplotlib.pyplot as plt\n"
   ]
  },
  {
   "cell_type": "code",
   "execution_count": 22,
   "id": "9e09a265",
   "metadata": {
    "scrolled": true
   },
   "outputs": [
    {
     "data": {
      "image/png": "[encoded data removed]",
      "text/plain": [
       "<Figure size 432x288 with 1 Axes>"
      ]
     },
     "metadata": {
      "needs_background": "light"
     },
     "output_type": "display_data"
    },
    {
     "data": {
      "image/png": "[encoded data removed]",
      "text/plain": [
       "<Figure size 432x288 with 1 Axes>"
      ]
     },
     "metadata": {
      "needs_background": "light"
     },
     "output_type": "display_data"
    },
    {
     "name": "stdout",
     "output_type": "stream",
     "text": [
      " --------------------------- \n"
     ]
    },
    {
     "data": {
      "image/png": "[encoded data removed]",
      "text/plain": [
       "<Figure size 432x288 with 1 Axes>"
      ]
     },
     "metadata": {
      "needs_background": "light"
     },
     "output_type": "display_data"
    },
    {
     "data": {
      "image/png": "[encoded data removed]",
      "text/plain": [
       "<Figure size 432x288 with 1 Axes>"
      ]
     },
     "metadata": {
      "needs_background": "light"
     },
     "output_type": "display_data"
    },
    {
     "name": "stdout",
     "output_type": "stream",
     "text": [
      " --------------------------- \n"
     ]
    },
    {
     "data": {
      "image/png": "[encoded data removed]",
      "text/plain": [
       "<Figure size 432x288 with 1 Axes>"
      ]
     },
     "metadata": {
      "needs_background": "light"
     },
     "output_type": "display_data"
    },
    {
     "data": {
      "image/png": "[encoded data removed]",
      "text/plain": [
       "<Figure size 432x288 with 1 Axes>"
      ]
     },
     "metadata": {
      "needs_background": "light"
     },
     "output_type": "display_data"
    },
    {
     "name": "stdout",
     "output_type": "stream",
     "text": [
      " --------------------------- \n"
     ]
    },
    {
     "data": {
      "image/png": "[encoded data removed]",
      "text/plain": [
       "<Figure size 432x288 with 1 Axes>"
      ]
     },
     "metadata": {
      "needs_background": "light"
     },
     "output_type": "display_data"
    },
    {
     "data": {
      "image/png": "[encoded data removed]",
      "text/plain": [
       "<Figure size 432x288 with 1 Axes>"
      ]
     },
     "metadata": {
      "needs_background": "light"
     },
     "output_type": "display_data"
    },
    {
     "name": "stdout",
     "output_type": "stream",
     "text": [
      " --------------------------- \n"
     ]
    },
    {
     "data": {
      "image/png": "[encoded data removed]",
      "text/plain": [
       "<Figure size 432x288 with 1 Axes>"
      ]
     },
     "metadata": {
      "needs_background": "light"
     },
     "output_type": "display_data"
    },
    {
     "data": {
      "image/png": "[encoded data removed]",
      "text/plain": [
       "<Figure size 432x288 with 1 Axes>"
      ]
     },
     "metadata": {
      "needs_background": "light"
     },
     "output_type": "display_data"
    },
    {
     "name": "stdout",
     "output_type": "stream",
     "text": [
      " --------------------------- \n"
     ]
    }
   ],
   "source": [
    "count = 0\n",
    "for question_pair in questions[:-1]:\n",
    "    count +=1\n",
    "    data_subtask_no_exp = np.concatenate((results_df.iloc[:,question_pair[0]].values, results_df.iloc[:,question_pair[2]].values))\n",
    "    data_subtask_exp = np.concatenate((results_df.iloc[:,question_pair[1]].values, results_df.iloc[:,question_pair[3]].values))\n",
    "   \n",
    "    fig = plt.figure()\n",
    "    ax = fig.add_axes([0,0,1,1])\n",
    "    X_labels = [i for i in range(1,6)]\n",
    "    y_values = [np.count_nonzero(data_subtask_no_exp == i) for i in X_labels]\n",
    "#     X_labels = ['Very Bad', 'Bad', 'Neither Good nor Bad', 'Good', 'Very Good']\n",
    "    X_labels = ['Importance Plot', 'Decision Tree', 'Lime Plot', 'SHAP Plot', 'SHAP Importance']\n",
    "    ax.bar(X_labels, y_values)\n",
    "    ax.set_title(f'Anwsers Distribution for Subtask {count}', fontsize=20)\n",
    "    ax.set_ylabel('Frequency of Answers', fontsize=15)\n",
    "    ax.set_xlabel('Answers', fontsize=15)\n",
    "    plt.show()\n",
    "    \n",
    "    fig = plt.figure()\n",
    "    ax = fig.add_axes([0,0,1,1])\n",
    "    X_labels = [i for i in range(1,6)]\n",
    "    y_values = [np.count_nonzero(data_subtask_exp == i) for i in X_labels]\n",
    "#     X_labels = ['Very Bad', 'Bad', 'Neither Good nor Bad', 'Good', 'Very Good']\n",
    "    X_labels = ['Importance Plot', 'Decision Tree', 'Lime Plot', 'SHAP Plot', 'SHAP Importance']\n",
    "    ax.bar(X_labels, y_values)\n",
    "    ax.set_title(f'Anwsers Distribution for Subtask {count}', fontsize=20)\n",
    "    ax.set_ylabel('Frequency of Answers', fontsize=15)\n",
    "    ax.set_xlabel('Answers', fontsize=15)\n",
    "    plt.show()\n",
    "    \n",
    "    print(' --------------------------- ')"
   ]
  },
  {
   "cell_type": "code",
   "execution_count": 26,
   "id": "2ec08114",
   "metadata": {},
   "outputs": [
    {
     "data": {
      "image/png": "[encoded data removed]",
      "text/plain": [
       "<Figure size 432x288 with 1 Axes>"
      ]
     },
     "metadata": {
      "needs_background": "light"
     },
     "output_type": "display_data"
    },
    {
     "data": {
      "image/png": "[encoded data removed]",
      "text/plain": [
       "<Figure size 432x288 with 1 Axes>"
      ]
     },
     "metadata": {
      "needs_background": "light"
     },
     "output_type": "display_data"
    },
    {
     "name": "stdout",
     "output_type": "stream",
     "text": [
      " --------------------------- \n"
     ]
    }
   ],
   "source": [
    "count = 0\n",
    "for question_pair in [questions[-1]]:\n",
    "    count +=1\n",
    "    data_subtask_no_exp = np.concatenate((results_df.iloc[:,question_pair[0]].values, results_df.iloc[:,question_pair[2]].values))\n",
    "    data_subtask_exp = np.concatenate((results_df.iloc[:,question_pair[1]].values, results_df.iloc[:,question_pair[3]].values))\n",
    "   \n",
    "    fig = plt.figure()\n",
    "    ax = fig.add_axes([0,0,1,1])\n",
    "    X_labels = [i for i in range(1,6)]\n",
    "    y_values = [np.count_nonzero(data_subtask_no_exp == str(i)) for i in X_labels]\n",
    "#     X_labels = ['Very Bad', 'Bad', 'Neither Good nor Bad', 'Good', 'Very Good']\n",
    "    X_labels = ['Importance Plot', 'Decision Tree', 'Lime Plot', 'SHAP Plot', 'SHAP Importance']\n",
    "    ax.bar(X_labels, y_values)\n",
    "    ax.set_title(f'Anwsers Distribution for Subtask {count}', fontsize=20)\n",
    "    ax.set_ylabel('Frequency of Answers', fontsize=15)\n",
    "    ax.set_xlabel('Answers', fontsize=15)\n",
    "    plt.show()\n",
    "    \n",
    "    fig = plt.figure()\n",
    "    ax = fig.add_axes([0,0,1,1])\n",
    "    X_labels = [i for i in range(1,6)]\n",
    "    y_values = [np.count_nonzero(data_subtask_exp == str(i)) for i in X_labels]\n",
    "#     X_labels = ['Very Bad', 'Bad', 'Neither Good nor Bad', 'Good', 'Very Good']\n",
    "    X_labels = ['Importance Plot', 'Decision Tree', 'Lime Plot', 'SHAP Plot', 'SHAP Importance']\n",
    "    ax.bar(X_labels, y_values)\n",
    "    ax.set_title(f'Anwsers Distribution for Subtask {count}', fontsize=20)\n",
    "    ax.set_ylabel('Frequency of Answers', fontsize=15)\n",
    "    ax.set_xlabel('Answers', fontsize=15)\n",
    "    plt.show()\n",
    "    \n",
    "    print(' --------------------------- ')"
   ]
  },
  {
   "cell_type": "markdown",
   "id": "8005950e",
   "metadata": {},
   "source": [
    "----------"
   ]
  },
  {
   "cell_type": "markdown",
   "id": "780e64e2",
   "metadata": {},
   "source": [
    "## mann-whitney"
   ]
  },
  {
   "cell_type": "code",
   "execution_count": 30,
   "id": "5cc3e349",
   "metadata": {},
   "outputs": [
    {
     "name": "stdout",
     "output_type": "stream",
     "text": [
      "P value is:  0.005525298682862616\n",
      "Mean 1 is:  2.533333333333333 Mean 2 is:  3.1\n",
      "P value is:  7.472590042417587e-08\n",
      "Mean 1 is:  2.466666666666667 Mean 2 is:  3.4833333333333334\n",
      "P value is:  3.341315715132868e-06\n",
      "Mean 1 is:  3.783333333333333 Mean 2 is:  4.6\n",
      "P value is:  1.7525492691939806e-08\n",
      "Mean 1 is:  3.4 Mean 2 is:  4.433333333333334\n",
      "P value is:  7.1121064470951e-05\n",
      "Mean 1 is:  2.966666666666667 Mean 2 is:  3.783333333333333\n"
     ]
    }
   ],
   "source": [
    "for i in range(len(questions_two)//2-1):\n",
    "    data_1 = np.concatenate((results_df.iloc[:,questions_two[i*2][0]].values, results_df.iloc[:,questions_two[i*2][1]].values))\n",
    "    data_2 = np.concatenate((results_df.iloc[:,questions_two[i*2+1][0]].values, results_df.iloc[:,questions_two[i*2+1][1]].values))\n",
    "    mean_1 = data_1.mean()\n",
    "    mean_2 = data_2.mean()\n",
    "    U1, p = stats.mannwhitneyu(data_1, data_2, method=\"exact\")\n",
    "    print('P value is: ', p)\n",
    "    print('Mean 1 is: ', mean_1, 'Mean 2 is: ', mean_2)"
   ]
  },
  {
   "cell_type": "markdown",
   "id": "c098f7a4",
   "metadata": {},
   "source": [
    "### subtask 1 vs others"
   ]
  },
  {
   "cell_type": "markdown",
   "id": "18b0f015",
   "metadata": {},
   "source": [
    "### Anova"
   ]
  },
  {
   "cell_type": "code",
   "execution_count": 31,
   "id": "a34db239",
   "metadata": {},
   "outputs": [],
   "source": [
    "from scipy.stats import f_oneway"
   ]
  },
  {
   "cell_type": "code",
   "execution_count": 32,
   "id": "298afcb1",
   "metadata": {},
   "outputs": [],
   "source": [
    "data_1 = np.concatenate((results_df.iloc[:,7].values, results_df.iloc[:,13].values, results_df.iloc[:,19].values, results_df.iloc[:,25].values))\n",
    "data_2 = np.concatenate((results_df.iloc[:,8].values, results_df.iloc[:,14].values, results_df.iloc[:,20].values, results_df.iloc[:,26].values))\n",
    "data_3 = np.concatenate((results_df.iloc[:,9].values, results_df.iloc[:,15].values, results_df.iloc[:,21].values, results_df.iloc[:,27].values))\n",
    "data_4 = np.concatenate((results_df.iloc[:,10].values, results_df.iloc[:,16].values, results_df.iloc[:,22].values, results_df.iloc[:,28].values))\n",
    "data_5 = np.concatenate((results_df.iloc[:,11].values, results_df.iloc[:,17].values, results_df.iloc[:,23].values, results_df.iloc[:,29].values))"
   ]
  },
  {
   "cell_type": "code",
   "execution_count": 33,
   "id": "feabecd4",
   "metadata": {},
   "outputs": [],
   "source": [
    "F, p = f_oneway(data_1, data_2, data_3, data_4, data_5)"
   ]
  },
  {
   "cell_type": "code",
   "execution_count": 34,
   "id": "ad650f87",
   "metadata": {},
   "outputs": [
    {
     "data": {
      "text/plain": [
       "36.38962906337593"
      ]
     },
     "execution_count": 34,
     "metadata": {},
     "output_type": "execute_result"
    }
   ],
   "source": [
    "F"
   ]
  },
  {
   "cell_type": "code",
   "execution_count": 35,
   "id": "b45f370e",
   "metadata": {
    "scrolled": true
   },
   "outputs": [
    {
     "data": {
      "text/plain": [
       "3.1565385126312508e-27"
      ]
     },
     "execution_count": 35,
     "metadata": {},
     "output_type": "execute_result"
    }
   ],
   "source": [
    "p"
   ]
  },
  {
   "cell_type": "markdown",
   "id": "6ce40979",
   "metadata": {},
   "source": [
    "-------"
   ]
  },
  {
   "cell_type": "code",
   "execution_count": 36,
   "id": "1a96c412",
   "metadata": {},
   "outputs": [
    {
     "data": {
      "text/plain": [
       "[[7, 13, 19, 25],\n",
       " [8, 14, 20, 26],\n",
       " [9, 15, 21, 27],\n",
       " [10, 16, 22, 28],\n",
       " [11, 17, 23, 29],\n",
       " [12, 18, 24, 30]]"
      ]
     },
     "execution_count": 36,
     "metadata": {},
     "output_type": "execute_result"
    }
   ],
   "source": [
    "questions"
   ]
  },
  {
   "cell_type": "code",
   "execution_count": 37,
   "id": "6da442dd",
   "metadata": {},
   "outputs": [],
   "source": [
    "questions_three = [[8, 14, 20, 26],\n",
    "                   [9, 15, 21, 27],\n",
    "                   [10, 16, 22, 28],\n",
    "                   [11, 17, 23, 29]]"
   ]
  },
  {
   "cell_type": "code",
   "execution_count": 40,
   "id": "c24bd0d7",
   "metadata": {
    "scrolled": true
   },
   "outputs": [
    {
     "name": "stdout",
     "output_type": "stream",
     "text": [
      "P value is:  0.3492713873865476\n",
      "Mean 1 is:  2.816666666666667 Mean 2 is:  2.975\n",
      "P value is:  7.117485029658169e-19\n",
      "Mean 1 is:  2.816666666666667 Mean 2 is:  4.191666666666666\n",
      "P value is:  1.6922260995556727e-12\n",
      "Mean 1 is:  2.816666666666667 Mean 2 is:  3.9166666666666665\n",
      "P value is:  0.0001581837340117711\n",
      "Mean 1 is:  2.816666666666667 Mean 2 is:  3.375\n"
     ]
    }
   ],
   "source": [
    "data_1 = np.concatenate((results_df.iloc[:,7].values, results_df.iloc[:,13].values, results_df.iloc[:,19].values, results_df.iloc[:,25].values))\n",
    "mean_1 = data_1.mean()\n",
    "for question in questions_three:\n",
    "    data_2 = np.concatenate((results_df.iloc[:,question[0]].values, results_df.iloc[:,question[1]].values, results_df.iloc[:,question[2]].values, results_df.iloc[:,question[3]].values))\n",
    "    mean_2 = data_2.mean()\n",
    "    U1, p = stats.mannwhitneyu(data_1, data_2, method=\"exact\")\n",
    "    print('P value is: ', p)\n",
    "    print('Mean 1 is: ', mean_1, 'Mean 2 is: ', mean_2)"
   ]
  },
  {
   "cell_type": "markdown",
   "id": "74bcc28d",
   "metadata": {},
   "source": [
    "### subtask 2 vs others"
   ]
  },
  {
   "cell_type": "code",
   "execution_count": 41,
   "id": "4abf3f88",
   "metadata": {},
   "outputs": [],
   "source": [
    "questions_four = [[9, 15, 21, 27],\n",
    "                  [10, 16, 22, 28],\n",
    "                  [11, 17, 23, 29]]"
   ]
  },
  {
   "cell_type": "code",
   "execution_count": 42,
   "id": "f3d24275",
   "metadata": {},
   "outputs": [
    {
     "name": "stdout",
     "output_type": "stream",
     "text": [
      "P value is:  4.701638840472336e-17\n",
      "Mean 1 is:  2.975 Mean 2 is:  4.191666666666666\n",
      "P value is:  2.2365186257890455e-10\n",
      "Mean 1 is:  2.975 Mean 2 is:  3.9166666666666665\n",
      "P value is:  0.003955946557483186\n",
      "Mean 1 is:  2.975 Mean 2 is:  3.375\n"
     ]
    }
   ],
   "source": [
    "data_1 = np.concatenate((results_df.iloc[:,8].values, results_df.iloc[:,14].values, results_df.iloc[:,20].values, results_df.iloc[:,26].values))\n",
    "mean_1 = data_1.mean()\n",
    "for question in questions_four:\n",
    "    data_2 = np.concatenate((results_df.iloc[:,question[0]].values, results_df.iloc[:,question[1]].values, results_df.iloc[:,question[2]].values, results_df.iloc[:,question[3]].values))\n",
    "    mean_2 = data_2.mean()\n",
    "    U1, p = stats.mannwhitneyu(data_1, data_2, method=\"exact\")\n",
    "    print('P value is: ', p)\n",
    "    print('Mean 1 is: ', mean_1, 'Mean 2 is: ', mean_2)"
   ]
  },
  {
   "cell_type": "markdown",
   "id": "4e6aaa3c",
   "metadata": {},
   "source": [
    "### subtask 3 vs others"
   ]
  },
  {
   "cell_type": "code",
   "execution_count": 46,
   "id": "a85575d8",
   "metadata": {},
   "outputs": [],
   "source": [
    "questions_five = [[10, 16, 22, 28],\n",
    "                  [11, 17, 23, 29]]"
   ]
  },
  {
   "cell_type": "code",
   "execution_count": 45,
   "id": "42fc4a49",
   "metadata": {},
   "outputs": [
    {
     "name": "stdout",
     "output_type": "stream",
     "text": [
      "P value is:  0.08820463717736518\n",
      "Mean 1 is:  4.191666666666666 Mean 2 is:  3.9166666666666665\n",
      "P value is:  7.874321624105586e-09\n",
      "Mean 1 is:  4.191666666666666 Mean 2 is:  3.375\n"
     ]
    }
   ],
   "source": [
    "data_1 = np.concatenate((results_df.iloc[:,9].values, results_df.iloc[:,15].values, results_df.iloc[:,21].values, results_df.iloc[:,27].values))\n",
    "mean_1 = data_1.mean()\n",
    "for question in questions_five:\n",
    "    data_2 = np.concatenate((results_df.iloc[:,question[0]].values, results_df.iloc[:,question[1]].values, results_df.iloc[:,question[2]].values, results_df.iloc[:,question[3]].values))\n",
    "    mean_2 = data_2.mean()\n",
    "    U1, p = stats.mannwhitneyu(data_1, data_2, method=\"exact\")\n",
    "    print('P value is: ', p)\n",
    "    print('Mean 1 is: ', mean_1, 'Mean 2 is: ', mean_2)"
   ]
  },
  {
   "cell_type": "markdown",
   "id": "12520400",
   "metadata": {},
   "source": [
    "### Chi-sq"
   ]
  },
  {
   "cell_type": "code",
   "execution_count": 47,
   "id": "3d86e411",
   "metadata": {},
   "outputs": [
    {
     "data": {
      "text/plain": [
       "[[7, 13, 19, 25],\n",
       " [8, 14, 20, 26],\n",
       " [9, 15, 21, 27],\n",
       " [10, 16, 22, 28],\n",
       " [11, 17, 23, 29],\n",
       " [12, 18, 24, 30]]"
      ]
     },
     "execution_count": 47,
     "metadata": {},
     "output_type": "execute_result"
    }
   ],
   "source": [
    "questions"
   ]
  },
  {
   "cell_type": "code",
   "execution_count": 48,
   "id": "1e39cfd7",
   "metadata": {},
   "outputs": [],
   "source": [
    "data = np.concatenate((results_df.iloc[:,12].values, results_df.iloc[:,18].values, results_df.iloc[:,24].values, results_df.iloc[:,30].values))"
   ]
  },
  {
   "cell_type": "code",
   "execution_count": 49,
   "id": "b64c953b",
   "metadata": {},
   "outputs": [
    {
     "data": {
      "text/plain": [
       "array(['3', '3', '3', '3', '4', '4', '4', '3', '4', '3', '3', '4', '5',\n",
       "       '3', '4', '3', '3', '3', '3', '3', '3', '3', '3', '4', '3', '3',\n",
       "       '3', '4', '3', '3', '3', '3', '3', '3', '4', '3', '4', '3', '4',\n",
       "       '3', '3', '4', '4', '3', '4', '5', '4', '3', '3', '4', '3', '3',\n",
       "       '4', '3', '4', '4', '4', '4', '3', '3', '3', '3', '3', '4', '4',\n",
       "       '3', '3', '3', '3', '3', '5', '4', '4', '3', '3', '3', '4', '4',\n",
       "       '4', '3', '3', '3', '4', '4', '4', '4', '4', '4', '4', '3', '3',\n",
       "       '3', '4', '4', '4', '3', '3', '3', '3', '3', '3', '3', '3', '3',\n",
       "       '3', '3', '4', '4', '3', '3', '3', '3', '4', '4', '4', '4', '4',\n",
       "       '4', '4', '3'], dtype=object)"
      ]
     },
     "execution_count": 49,
     "metadata": {},
     "output_type": "execute_result"
    }
   ],
   "source": [
    "data"
   ]
  },
  {
   "cell_type": "code",
   "execution_count": 50,
   "id": "1606a057",
   "metadata": {},
   "outputs": [],
   "source": [
    "data = [np.count_nonzero(data == str(i)) for i in range(1,6)]"
   ]
  },
  {
   "cell_type": "code",
   "execution_count": 51,
   "id": "c2b28b81",
   "metadata": {},
   "outputs": [
    {
     "data": {
      "text/plain": [
       "[0, 0, 70, 47, 3]"
      ]
     },
     "execution_count": 51,
     "metadata": {},
     "output_type": "execute_result"
    }
   ],
   "source": [
    "data"
   ]
  },
  {
   "cell_type": "code",
   "execution_count": 52,
   "id": "538b2bb8",
   "metadata": {},
   "outputs": [
    {
     "data": {
      "text/plain": [
       "Power_divergenceResult(statistic=176.58333333333334, pvalue=4.038567053138933e-37)"
      ]
     },
     "execution_count": 52,
     "metadata": {},
     "output_type": "execute_result"
    }
   ],
   "source": [
    "stats.chisquare(data)"
   ]
  },
  {
   "cell_type": "markdown",
   "id": "4748ead4",
   "metadata": {},
   "source": [
    "1, 2 vs others"
   ]
  },
  {
   "cell_type": "code",
   "execution_count": 57,
   "id": "c92eb6c0",
   "metadata": {},
   "outputs": [
    {
     "data": {
      "text/plain": [
       "Power_divergenceResult(statistic=70.0, pvalue=5.930445850082478e-17)"
      ]
     },
     "execution_count": 57,
     "metadata": {},
     "output_type": "execute_result"
    }
   ],
   "source": [
    "stats.chisquare([0,70])"
   ]
  },
  {
   "cell_type": "code",
   "execution_count": 58,
   "id": "79422556",
   "metadata": {},
   "outputs": [
    {
     "data": {
      "text/plain": [
       "Power_divergenceResult(statistic=47.0, pvalue=7.098670445201034e-12)"
      ]
     },
     "execution_count": 58,
     "metadata": {},
     "output_type": "execute_result"
    }
   ],
   "source": [
    "stats.chisquare([0,47])"
   ]
  },
  {
   "cell_type": "code",
   "execution_count": 59,
   "id": "ac67166f",
   "metadata": {},
   "outputs": [
    {
     "data": {
      "text/plain": [
       "Power_divergenceResult(statistic=3.0, pvalue=0.08326451666355042)"
      ]
     },
     "execution_count": 59,
     "metadata": {},
     "output_type": "execute_result"
    }
   ],
   "source": [
    "stats.chisquare([0,3])"
   ]
  },
  {
   "cell_type": "markdown",
   "id": "0946db24",
   "metadata": {},
   "source": [
    "3 vs others"
   ]
  },
  {
   "cell_type": "code",
   "execution_count": 61,
   "id": "0d4cdfe4",
   "metadata": {},
   "outputs": [
    {
     "data": {
      "text/plain": [
       "Power_divergenceResult(statistic=4.521367521367521, pvalue=0.033474065109133526)"
      ]
     },
     "execution_count": 61,
     "metadata": {},
     "output_type": "execute_result"
    }
   ],
   "source": [
    "stats.chisquare([70,47])"
   ]
  },
  {
   "cell_type": "code",
   "execution_count": 62,
   "id": "b57ec0eb",
   "metadata": {},
   "outputs": [
    {
     "data": {
      "text/plain": [
       "Power_divergenceResult(statistic=61.49315068493151, pvalue=4.442859946816926e-15)"
      ]
     },
     "execution_count": 62,
     "metadata": {},
     "output_type": "execute_result"
    }
   ],
   "source": [
    "stats.chisquare([70,3])"
   ]
  },
  {
   "cell_type": "markdown",
   "id": "92a17ed7",
   "metadata": {},
   "source": [
    "4 vs others"
   ]
  },
  {
   "cell_type": "code",
   "execution_count": 63,
   "id": "da895372",
   "metadata": {},
   "outputs": [
    {
     "data": {
      "text/plain": [
       "Power_divergenceResult(statistic=38.72, pvalue=4.891710270605896e-10)"
      ]
     },
     "execution_count": 63,
     "metadata": {},
     "output_type": "execute_result"
    }
   ],
   "source": [
    "stats.chisquare([47,3])"
   ]
  },
  {
   "cell_type": "markdown",
   "id": "30937055",
   "metadata": {},
   "source": [
    "-----"
   ]
  },
  {
   "cell_type": "code",
   "execution_count": 34,
   "id": "59b2ff80",
   "metadata": {},
   "outputs": [],
   "source": [
    "xai_df = results_df[results_df['Have you ever heard of explainable AI (XAI)?']=='Yes']"
   ]
  },
  {
   "cell_type": "code",
   "execution_count": 35,
   "id": "6329f92e",
   "metadata": {},
   "outputs": [],
   "source": [
    "nonxai_df = results_df[~(results_df['Have you ever heard of explainable AI (XAI)?']=='Yes')]"
   ]
  },
  {
   "cell_type": "code",
   "execution_count": 36,
   "id": "db8a6240",
   "metadata": {},
   "outputs": [
    {
     "data": {
      "text/plain": [
       "[[7, 13, 19, 25],\n",
       " [8, 14, 20, 26],\n",
       " [9, 15, 21, 27],\n",
       " [10, 16, 22, 28],\n",
       " [11, 17, 23, 29],\n",
       " [12, 18, 24, 30]]"
      ]
     },
     "execution_count": 36,
     "metadata": {},
     "output_type": "execute_result"
    }
   ],
   "source": [
    "questions"
   ]
  },
  {
   "cell_type": "code",
   "execution_count": 37,
   "id": "a9f9d8b4",
   "metadata": {},
   "outputs": [],
   "source": [
    "data_xai = []\n",
    "data_nonxai = []\n",
    "for question_in in range(len(questions)-1):\n",
    "    data_xai = np.concatenate((data_xai, xai_df.iloc[:,questions[question_in][0]].values, xai_df.iloc[:,questions[question_in][1]].values, xai_df.iloc[:,questions[question_in][2]].values, xai_df.iloc[:,questions[question_in][3]].values))\n",
    "    data_nonxai = np.concatenate((data_nonxai, nonxai_df.iloc[:,questions[question_in][0]].values, nonxai_df.iloc[:,questions[question_in][1]].values, nonxai_df.iloc[:,questions[question_in][2]].values, nonxai_df.iloc[:,questions[question_in][3]].values))"
   ]
  },
  {
   "cell_type": "code",
   "execution_count": 38,
   "id": "45e5c0ef",
   "metadata": {},
   "outputs": [
    {
     "data": {
      "text/plain": [
       "(240,)"
      ]
     },
     "execution_count": 38,
     "metadata": {},
     "output_type": "execute_result"
    }
   ],
   "source": [
    "data_nonxai.shape"
   ]
  },
  {
   "cell_type": "code",
   "execution_count": 39,
   "id": "29612cf2",
   "metadata": {},
   "outputs": [
    {
     "data": {
      "text/plain": [
       "(360,)"
      ]
     },
     "execution_count": 39,
     "metadata": {},
     "output_type": "execute_result"
    }
   ],
   "source": [
    "data_xai.shape"
   ]
  },
  {
   "cell_type": "code",
   "execution_count": 40,
   "id": "15994f95",
   "metadata": {},
   "outputs": [
    {
     "name": "stdout",
     "output_type": "stream",
     "text": [
      "P value is:  0.002920806295274867\n",
      "Mean 1 is:  3.5722222222222224 Mean 2 is:  3.279166666666667\n"
     ]
    }
   ],
   "source": [
    "mean_1 = data_xai.mean()\n",
    "mean_2 = data_nonxai.mean()\n",
    "U, p = stats.mannwhitneyu(data_xai, data_nonxai)\n",
    "print('P value is: ', p)\n",
    "print('Mean 1 is: ', mean_1, 'Mean 2 is: ', mean_2)"
   ]
  },
  {
   "cell_type": "code",
   "execution_count": null,
   "id": "1051ed07",
   "metadata": {},
   "outputs": [],
   "source": []
  }
 ],
 "metadata": {
  "kernelspec": {
   "display_name": "Python 3 (ipykernel)",
   "language": "python",
   "name": "python3"
  },
  "language_info": {
   "codemirror_mode": {
    "name": "ipython",
    "version": 3
   },
   "file_extension": ".py",
   "mimetype": "text/x-python",
   "name": "python",
   "nbconvert_exporter": "python",
   "pygments_lexer": "ipython3",
   "version": "3.8.8"
  }
 },
 "nbformat": 4,
 "nbformat_minor": 5
}
