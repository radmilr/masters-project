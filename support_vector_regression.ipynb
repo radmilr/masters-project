{
 "cells": [
  {
   "cell_type": "markdown",
   "id": "a356339e",
   "metadata": {},
   "source": [
    "# Data Loading and Imports"
   ]
  },
  {
   "cell_type": "code",
   "execution_count": 1,
   "id": "072c81e9",
   "metadata": {},
   "outputs": [],
   "source": [
    "import pandas as pd\n",
    "import matplotlib.pyplot as plt\n",
    "import seaborn as sns\n",
    "import numpy as np\n",
    "from dython import nominal\n",
    "from sklearn.svm import SVR\n",
    "from sklearn.model_selection import TimeSeriesSplit\n",
    "from sklearn import preprocessing\n",
    "from sklearn.pipeline import make_pipeline\n",
    "from sklearn.decomposition import PCA\n",
    "from sklearn.metrics import mean_absolute_error, mean_squared_error, r2_score\n",
    "import pickle"
   ]
  },
  {
   "cell_type": "code",
   "execution_count": 2,
   "id": "ae7201e6",
   "metadata": {},
   "outputs": [],
   "source": [
    "data_dir = './data/'"
   ]
  },
  {
   "cell_type": "code",
   "execution_count": 3,
   "id": "fc33f723",
   "metadata": {},
   "outputs": [],
   "source": [
    "results_dir = './data/results/'"
   ]
  },
  {
   "cell_type": "code",
   "execution_count": 4,
   "id": "24b35f2c",
   "metadata": {},
   "outputs": [],
   "source": [
    "models_dir = './models/'"
   ]
  },
  {
   "cell_type": "code",
   "execution_count": 5,
   "id": "906aff38",
   "metadata": {},
   "outputs": [],
   "source": [
    "model_name = 'support_vector_regression'"
   ]
  },
  {
   "cell_type": "code",
   "execution_count": 6,
   "id": "9400abdb",
   "metadata": {},
   "outputs": [],
   "source": [
    "regression_data = pd.read_csv(data_dir+'regression_data.csv', index_col=[0])"
   ]
  },
  {
   "cell_type": "markdown",
   "id": "91f81b04",
   "metadata": {},
   "source": [
    "# SVM (Regression)"
   ]
  },
  {
   "cell_type": "markdown",
   "id": "27a24f9a",
   "metadata": {},
   "source": [
    "Sort the dataset so we can drop the date column"
   ]
  },
  {
   "cell_type": "code",
   "execution_count": 9,
   "id": "609da162",
   "metadata": {},
   "outputs": [],
   "source": [
    "regression_data = regression_data.sort_values(by=['date', 'team', 'department']).reset_index(drop=True)"
   ]
  },
  {
   "cell_type": "code",
   "execution_count": 10,
   "id": "e0667f1c",
   "metadata": {},
   "outputs": [],
   "source": [
    "dep_var = ['targeted_productivity']"
   ]
  },
  {
   "cell_type": "code",
   "execution_count": 11,
   "id": "aec9131f",
   "metadata": {},
   "outputs": [
    {
     "data": {
      "text/html": [
       "<div>\n",
       "<style scoped>\n",
       "    .dataframe tbody tr th:only-of-type {\n",
       "        vertical-align: middle;\n",
       "    }\n",
       "\n",
       "    .dataframe tbody tr th {\n",
       "        vertical-align: top;\n",
       "    }\n",
       "\n",
       "    .dataframe thead th {\n",
       "        text-align: right;\n",
       "    }\n",
       "</style>\n",
       "<table border=\"1\" class=\"dataframe\">\n",
       "  <thead>\n",
       "    <tr style=\"text-align: right;\">\n",
       "      <th></th>\n",
       "      <th>date</th>\n",
       "      <th>department</th>\n",
       "      <th>team</th>\n",
       "      <th>targeted_productivity</th>\n",
       "      <th>smv</th>\n",
       "      <th>wip</th>\n",
       "      <th>over_time</th>\n",
       "      <th>incentive</th>\n",
       "      <th>idle_time</th>\n",
       "      <th>idle_men</th>\n",
       "      <th>...</th>\n",
       "      <th>targeted_productivity_rmean_1_1</th>\n",
       "      <th>targeted_productivity_rmean_2_1</th>\n",
       "      <th>targeted_productivity_rmean_1_2</th>\n",
       "      <th>targeted_productivity_rmean_2_2</th>\n",
       "      <th>actual_productivity_lag_2</th>\n",
       "      <th>actual_productivity_lag_4</th>\n",
       "      <th>actual_productivity_rmean_2_1</th>\n",
       "      <th>actual_productivity_rmean_4_1</th>\n",
       "      <th>actual_productivity_rmean_2_2</th>\n",
       "      <th>actual_productivity_rmean_4_2</th>\n",
       "    </tr>\n",
       "  </thead>\n",
       "  <tbody>\n",
       "    <tr>\n",
       "      <th>0</th>\n",
       "      <td>2015-01-01</td>\n",
       "      <td>finishing</td>\n",
       "      <td>1</td>\n",
       "      <td>0.75</td>\n",
       "      <td>3.94</td>\n",
       "      <td>0.0</td>\n",
       "      <td>960</td>\n",
       "      <td>0</td>\n",
       "      <td>0.0</td>\n",
       "      <td>0</td>\n",
       "      <td>...</td>\n",
       "      <td>0.00</td>\n",
       "      <td>0.00</td>\n",
       "      <td>0.000</td>\n",
       "      <td>0.000</td>\n",
       "      <td>0.0000</td>\n",
       "      <td>0.0000</td>\n",
       "      <td>0.0000</td>\n",
       "      <td>0.0000</td>\n",
       "      <td>0.0000</td>\n",
       "      <td>0.0000</td>\n",
       "    </tr>\n",
       "    <tr>\n",
       "      <th>1</th>\n",
       "      <td>2015-01-01</td>\n",
       "      <td>sweing</td>\n",
       "      <td>1</td>\n",
       "      <td>0.75</td>\n",
       "      <td>28.08</td>\n",
       "      <td>681.0</td>\n",
       "      <td>6900</td>\n",
       "      <td>45</td>\n",
       "      <td>0.0</td>\n",
       "      <td>0</td>\n",
       "      <td>...</td>\n",
       "      <td>0.75</td>\n",
       "      <td>0.00</td>\n",
       "      <td>0.375</td>\n",
       "      <td>0.000</td>\n",
       "      <td>0.0000</td>\n",
       "      <td>0.0000</td>\n",
       "      <td>0.0000</td>\n",
       "      <td>0.0000</td>\n",
       "      <td>0.0000</td>\n",
       "      <td>0.0000</td>\n",
       "    </tr>\n",
       "    <tr>\n",
       "      <th>2</th>\n",
       "      <td>2015-01-01</td>\n",
       "      <td>finishing</td>\n",
       "      <td>2</td>\n",
       "      <td>0.75</td>\n",
       "      <td>3.94</td>\n",
       "      <td>0.0</td>\n",
       "      <td>960</td>\n",
       "      <td>0</td>\n",
       "      <td>0.0</td>\n",
       "      <td>0</td>\n",
       "      <td>...</td>\n",
       "      <td>0.00</td>\n",
       "      <td>0.00</td>\n",
       "      <td>0.000</td>\n",
       "      <td>0.000</td>\n",
       "      <td>0.0000</td>\n",
       "      <td>0.0000</td>\n",
       "      <td>0.0000</td>\n",
       "      <td>0.0000</td>\n",
       "      <td>0.0000</td>\n",
       "      <td>0.0000</td>\n",
       "    </tr>\n",
       "    <tr>\n",
       "      <th>3</th>\n",
       "      <td>2015-01-01</td>\n",
       "      <td>sweing</td>\n",
       "      <td>2</td>\n",
       "      <td>0.75</td>\n",
       "      <td>19.88</td>\n",
       "      <td>733.0</td>\n",
       "      <td>6000</td>\n",
       "      <td>34</td>\n",
       "      <td>0.0</td>\n",
       "      <td>0</td>\n",
       "      <td>...</td>\n",
       "      <td>0.75</td>\n",
       "      <td>0.00</td>\n",
       "      <td>0.375</td>\n",
       "      <td>0.000</td>\n",
       "      <td>0.0000</td>\n",
       "      <td>0.0000</td>\n",
       "      <td>0.0000</td>\n",
       "      <td>0.0000</td>\n",
       "      <td>0.0000</td>\n",
       "      <td>0.0000</td>\n",
       "    </tr>\n",
       "    <tr>\n",
       "      <th>4</th>\n",
       "      <td>2015-01-01</td>\n",
       "      <td>sweing</td>\n",
       "      <td>3</td>\n",
       "      <td>0.75</td>\n",
       "      <td>28.08</td>\n",
       "      <td>795.0</td>\n",
       "      <td>6900</td>\n",
       "      <td>45</td>\n",
       "      <td>0.0</td>\n",
       "      <td>0</td>\n",
       "      <td>...</td>\n",
       "      <td>0.00</td>\n",
       "      <td>0.00</td>\n",
       "      <td>0.000</td>\n",
       "      <td>0.000</td>\n",
       "      <td>0.0000</td>\n",
       "      <td>0.0000</td>\n",
       "      <td>0.0000</td>\n",
       "      <td>0.0000</td>\n",
       "      <td>0.0000</td>\n",
       "      <td>0.0000</td>\n",
       "    </tr>\n",
       "    <tr>\n",
       "      <th>...</th>\n",
       "      <td>...</td>\n",
       "      <td>...</td>\n",
       "      <td>...</td>\n",
       "      <td>...</td>\n",
       "      <td>...</td>\n",
       "      <td>...</td>\n",
       "      <td>...</td>\n",
       "      <td>...</td>\n",
       "      <td>...</td>\n",
       "      <td>...</td>\n",
       "      <td>...</td>\n",
       "      <td>...</td>\n",
       "      <td>...</td>\n",
       "      <td>...</td>\n",
       "      <td>...</td>\n",
       "      <td>...</td>\n",
       "      <td>...</td>\n",
       "      <td>...</td>\n",
       "      <td>...</td>\n",
       "      <td>...</td>\n",
       "      <td>...</td>\n",
       "    </tr>\n",
       "    <tr>\n",
       "      <th>1192</th>\n",
       "      <td>2015-03-11</td>\n",
       "      <td>sweing</td>\n",
       "      <td>10</td>\n",
       "      <td>0.75</td>\n",
       "      <td>21.81</td>\n",
       "      <td>1674.0</td>\n",
       "      <td>6000</td>\n",
       "      <td>34</td>\n",
       "      <td>0.0</td>\n",
       "      <td>0</td>\n",
       "      <td>...</td>\n",
       "      <td>0.70</td>\n",
       "      <td>0.75</td>\n",
       "      <td>0.725</td>\n",
       "      <td>0.725</td>\n",
       "      <td>0.7505</td>\n",
       "      <td>0.7000</td>\n",
       "      <td>0.7505</td>\n",
       "      <td>0.7000</td>\n",
       "      <td>0.6140</td>\n",
       "      <td>0.5710</td>\n",
       "    </tr>\n",
       "    <tr>\n",
       "      <th>1193</th>\n",
       "      <td>2015-03-11</td>\n",
       "      <td>finishing</td>\n",
       "      <td>11</td>\n",
       "      <td>0.80</td>\n",
       "      <td>2.90</td>\n",
       "      <td>0.0</td>\n",
       "      <td>2400</td>\n",
       "      <td>0</td>\n",
       "      <td>0.0</td>\n",
       "      <td>0</td>\n",
       "      <td>...</td>\n",
       "      <td>0.80</td>\n",
       "      <td>0.80</td>\n",
       "      <td>0.800</td>\n",
       "      <td>0.800</td>\n",
       "      <td>0.8000</td>\n",
       "      <td>0.9604</td>\n",
       "      <td>0.8000</td>\n",
       "      <td>0.9604</td>\n",
       "      <td>0.8000</td>\n",
       "      <td>0.8580</td>\n",
       "    </tr>\n",
       "    <tr>\n",
       "      <th>1194</th>\n",
       "      <td>2015-03-11</td>\n",
       "      <td>sweing</td>\n",
       "      <td>11</td>\n",
       "      <td>0.80</td>\n",
       "      <td>11.41</td>\n",
       "      <td>560.0</td>\n",
       "      <td>3420</td>\n",
       "      <td>50</td>\n",
       "      <td>0.0</td>\n",
       "      <td>0</td>\n",
       "      <td>...</td>\n",
       "      <td>0.80</td>\n",
       "      <td>0.80</td>\n",
       "      <td>0.800</td>\n",
       "      <td>0.800</td>\n",
       "      <td>0.7583</td>\n",
       "      <td>0.8000</td>\n",
       "      <td>0.7583</td>\n",
       "      <td>0.8000</td>\n",
       "      <td>0.7793</td>\n",
       "      <td>0.8800</td>\n",
       "    </tr>\n",
       "    <tr>\n",
       "      <th>1195</th>\n",
       "      <td>2015-03-11</td>\n",
       "      <td>finishing</td>\n",
       "      <td>12</td>\n",
       "      <td>0.80</td>\n",
       "      <td>4.60</td>\n",
       "      <td>0.0</td>\n",
       "      <td>2160</td>\n",
       "      <td>0</td>\n",
       "      <td>0.0</td>\n",
       "      <td>0</td>\n",
       "      <td>...</td>\n",
       "      <td>0.80</td>\n",
       "      <td>0.80</td>\n",
       "      <td>0.800</td>\n",
       "      <td>0.800</td>\n",
       "      <td>0.9200</td>\n",
       "      <td>0.9030</td>\n",
       "      <td>0.9200</td>\n",
       "      <td>0.9030</td>\n",
       "      <td>0.8604</td>\n",
       "      <td>0.8516</td>\n",
       "    </tr>\n",
       "    <tr>\n",
       "      <th>1196</th>\n",
       "      <td>2015-03-11</td>\n",
       "      <td>sweing</td>\n",
       "      <td>12</td>\n",
       "      <td>0.80</td>\n",
       "      <td>15.26</td>\n",
       "      <td>470.0</td>\n",
       "      <td>4080</td>\n",
       "      <td>63</td>\n",
       "      <td>0.0</td>\n",
       "      <td>0</td>\n",
       "      <td>...</td>\n",
       "      <td>0.80</td>\n",
       "      <td>0.80</td>\n",
       "      <td>0.800</td>\n",
       "      <td>0.800</td>\n",
       "      <td>0.8003</td>\n",
       "      <td>0.8003</td>\n",
       "      <td>0.8003</td>\n",
       "      <td>0.8003</td>\n",
       "      <td>0.8604</td>\n",
       "      <td>0.8516</td>\n",
       "    </tr>\n",
       "  </tbody>\n",
       "</table>\n",
       "<p>1197 rows × 28 columns</p>\n",
       "</div>"
      ],
      "text/plain": [
       "            date  department  team  targeted_productivity    smv     wip  \\\n",
       "0     2015-01-01  finishing      1                   0.75   3.94     0.0   \n",
       "1     2015-01-01      sweing     1                   0.75  28.08   681.0   \n",
       "2     2015-01-01  finishing      2                   0.75   3.94     0.0   \n",
       "3     2015-01-01      sweing     2                   0.75  19.88   733.0   \n",
       "4     2015-01-01      sweing     3                   0.75  28.08   795.0   \n",
       "...          ...         ...   ...                    ...    ...     ...   \n",
       "1192  2015-03-11      sweing    10                   0.75  21.81  1674.0   \n",
       "1193  2015-03-11   finishing    11                   0.80   2.90     0.0   \n",
       "1194  2015-03-11      sweing    11                   0.80  11.41   560.0   \n",
       "1195  2015-03-11   finishing    12                   0.80   4.60     0.0   \n",
       "1196  2015-03-11      sweing    12                   0.80  15.26   470.0   \n",
       "\n",
       "      over_time  incentive  idle_time  idle_men  ...  \\\n",
       "0           960          0        0.0         0  ...   \n",
       "1          6900         45        0.0         0  ...   \n",
       "2           960          0        0.0         0  ...   \n",
       "3          6000         34        0.0         0  ...   \n",
       "4          6900         45        0.0         0  ...   \n",
       "...         ...        ...        ...       ...  ...   \n",
       "1192       6000         34        0.0         0  ...   \n",
       "1193       2400          0        0.0         0  ...   \n",
       "1194       3420         50        0.0         0  ...   \n",
       "1195       2160          0        0.0         0  ...   \n",
       "1196       4080         63        0.0         0  ...   \n",
       "\n",
       "      targeted_productivity_rmean_1_1  targeted_productivity_rmean_2_1  \\\n",
       "0                                0.00                             0.00   \n",
       "1                                0.75                             0.00   \n",
       "2                                0.00                             0.00   \n",
       "3                                0.75                             0.00   \n",
       "4                                0.00                             0.00   \n",
       "...                               ...                              ...   \n",
       "1192                             0.70                             0.75   \n",
       "1193                             0.80                             0.80   \n",
       "1194                             0.80                             0.80   \n",
       "1195                             0.80                             0.80   \n",
       "1196                             0.80                             0.80   \n",
       "\n",
       "      targeted_productivity_rmean_1_2  targeted_productivity_rmean_2_2  \\\n",
       "0                               0.000                            0.000   \n",
       "1                               0.375                            0.000   \n",
       "2                               0.000                            0.000   \n",
       "3                               0.375                            0.000   \n",
       "4                               0.000                            0.000   \n",
       "...                               ...                              ...   \n",
       "1192                            0.725                            0.725   \n",
       "1193                            0.800                            0.800   \n",
       "1194                            0.800                            0.800   \n",
       "1195                            0.800                            0.800   \n",
       "1196                            0.800                            0.800   \n",
       "\n",
       "      actual_productivity_lag_2  actual_productivity_lag_4  \\\n",
       "0                        0.0000                     0.0000   \n",
       "1                        0.0000                     0.0000   \n",
       "2                        0.0000                     0.0000   \n",
       "3                        0.0000                     0.0000   \n",
       "4                        0.0000                     0.0000   \n",
       "...                         ...                        ...   \n",
       "1192                     0.7505                     0.7000   \n",
       "1193                     0.8000                     0.9604   \n",
       "1194                     0.7583                     0.8000   \n",
       "1195                     0.9200                     0.9030   \n",
       "1196                     0.8003                     0.8003   \n",
       "\n",
       "      actual_productivity_rmean_2_1  actual_productivity_rmean_4_1  \\\n",
       "0                            0.0000                         0.0000   \n",
       "1                            0.0000                         0.0000   \n",
       "2                            0.0000                         0.0000   \n",
       "3                            0.0000                         0.0000   \n",
       "4                            0.0000                         0.0000   \n",
       "...                             ...                            ...   \n",
       "1192                         0.7505                         0.7000   \n",
       "1193                         0.8000                         0.9604   \n",
       "1194                         0.7583                         0.8000   \n",
       "1195                         0.9200                         0.9030   \n",
       "1196                         0.8003                         0.8003   \n",
       "\n",
       "      actual_productivity_rmean_2_2  actual_productivity_rmean_4_2  \n",
       "0                            0.0000                         0.0000  \n",
       "1                            0.0000                         0.0000  \n",
       "2                            0.0000                         0.0000  \n",
       "3                            0.0000                         0.0000  \n",
       "4                            0.0000                         0.0000  \n",
       "...                             ...                            ...  \n",
       "1192                         0.6140                         0.5710  \n",
       "1193                         0.8000                         0.8580  \n",
       "1194                         0.7793                         0.8800  \n",
       "1195                         0.8604                         0.8516  \n",
       "1196                         0.8604                         0.8516  \n",
       "\n",
       "[1197 rows x 28 columns]"
      ]
     },
     "execution_count": 11,
     "metadata": {},
     "output_type": "execute_result"
    }
   ],
   "source": [
    "regression_data"
   ]
  },
  {
   "cell_type": "code",
   "execution_count": 12,
   "id": "9504240c",
   "metadata": {},
   "outputs": [],
   "source": [
    "categorical = np.array(['department', 'team'])"
   ]
  },
  {
   "cell_type": "code",
   "execution_count": 13,
   "id": "0a3a589e",
   "metadata": {},
   "outputs": [],
   "source": [
    "continuous = np.setdiff1d(np.setdiff1d(regression_data.columns,categorical), dep_var)"
   ]
  },
  {
   "cell_type": "code",
   "execution_count": 14,
   "id": "20593c56",
   "metadata": {},
   "outputs": [],
   "source": [
    "continuous = continuous[continuous != 'date']"
   ]
  },
  {
   "cell_type": "code",
   "execution_count": 15,
   "id": "0c4ed1d2",
   "metadata": {},
   "outputs": [],
   "source": [
    "X = regression_data.loc[:,np.union1d(categorical, continuous)]"
   ]
  },
  {
   "cell_type": "code",
   "execution_count": 16,
   "id": "3291a57f",
   "metadata": {},
   "outputs": [],
   "source": [
    "y = regression_data.loc[:,dep_var]*100"
   ]
  },
  {
   "cell_type": "code",
   "execution_count": 15,
   "id": "46ef4c2c",
   "metadata": {},
   "outputs": [],
   "source": [
    "columns = ['task', 'model', 'split', 'C', 'kernel', 'gamma', 'epsilon', 'valid_mean_value', 'predicted_mean_value', 'percentage_difference', 'valid_rsq', 'valid_mae', 'valid_mse', 'valid_rmse']\n",
    "support_vector_regression_results_df = pd.DataFrame(columns=columns)\n",
    "df_rows = 0"
   ]
  },
  {
   "cell_type": "markdown",
   "id": "70c08eab",
   "metadata": {},
   "source": [
    "Now we need to prepare our data and the cross-validation process so that we can start training. As we are dealing with time-series we need to split the data appropriately. We will use 20% of the data for testing."
   ]
  },
  {
   "cell_type": "code",
   "execution_count": 17,
   "id": "8b32b1fa",
   "metadata": {},
   "outputs": [],
   "source": [
    "test_idx = int((0.2*len(X)))"
   ]
  },
  {
   "cell_type": "code",
   "execution_count": 18,
   "id": "af358436",
   "metadata": {},
   "outputs": [],
   "source": [
    "X_train, X_test, y_train, y_test = X.iloc[:len(X)- test_idx, :], X.iloc[len(X)- test_idx:, :], y.iloc[:len(y)- test_idx, :], y.iloc[len(y)- test_idx:, :]"
   ]
  },
  {
   "cell_type": "code",
   "execution_count": 61,
   "id": "57d6c469",
   "metadata": {},
   "outputs": [
    {
     "name": "stdout",
     "output_type": "stream",
     "text": [
      "Starting training\n",
      "Done training\n"
     ]
    }
   ],
   "source": [
    "pd.options.mode.chained_assignment = None  # default='warn'\n",
    "# Cross-Validation Pipeline\n",
    "print('Starting training')\n",
    "# assign the tuned parameters\n",
    "split = 0\n",
    "Cs = [0.5, 5, 10, 15, 20, 25, 30]\n",
    "kernels = ['linear', 'poly', 'rbf', 'sigmoid']\n",
    "gammas = ['scale', 'auto']\n",
    "epsilons = [1, 0.1, 0.01, 0.001]\n",
    "tscv = TimeSeriesSplit(n_splits=5)\n",
    "for train_index, valid_index in tscv.split(X_train):\n",
    "    # Data Split\n",
    "    split += 1\n",
    "    X_train_curr_split = X_train.iloc[train_index]\n",
    "    X_valid_curr_split = X_train.iloc[valid_index]\n",
    "    y_train_curr_split = y_train.iloc[train_index]\n",
    "    y_valid_curr_split = y_train.iloc[valid_index]\n",
    "    # Avoiding data leakage for input values\n",
    "    # We need to encode only categorical variables\n",
    "    enc = preprocessing.OrdinalEncoder(handle_unknown='use_encoded_value', unknown_value=100)\n",
    "    X_train_curr_split.loc[:, categorical] = enc.fit_transform(X_train_curr_split[categorical])\n",
    "    X_valid_curr_split.loc[:, categorical] = enc.transform(X_valid_curr_split[categorical])\n",
    "\n",
    "    y_train_curr_split = y_train_curr_split.values.flatten()\n",
    "    y_valid_curr_split = y_valid_curr_split.values.flatten()\n",
    "    for C in Cs:\n",
    "        for kernel in kernels:\n",
    "            for gamma in gammas:\n",
    "                for epsilon in epsilons:\n",
    "                    model = SVR(C=C,\n",
    "                                kernel=kernel,\n",
    "                                gamma=gamma,\n",
    "                                epsilon=epsilon,\n",
    "                               )\n",
    "\n",
    "                    pipe = make_pipeline(preprocessing.StandardScaler(), \n",
    "                                         model\n",
    "                                            )\n",
    "                    # train the model\n",
    "                    pipe.fit(X_train_curr_split, y_train_curr_split)      \n",
    "                    valid_predictions = pipe.predict(X_valid_curr_split)\n",
    "                    # Obtain metric scores\n",
    "                    valid_mae = mean_absolute_error(y_valid_curr_split, valid_predictions)\n",
    "                    valid_mse = mean_squared_error(y_valid_curr_split, valid_predictions)\n",
    "                    valid_rmse = mean_squared_error(y_valid_curr_split, valid_predictions, squared=False)\n",
    "                    valid_rsq = r2_score(y_valid_curr_split, valid_predictions)\n",
    "                    valid_mean_value = y_valid_curr_split.mean()\n",
    "                    predicted_mean_value = valid_predictions.mean()\n",
    "                    percetange_difference = ((y_valid_curr_split - valid_predictions)/(y_valid_curr_split)).mean()\n",
    "                    support_vector_regression_results_df.loc[df_rows] = ['regression',\n",
    "                                                                         'SVR',\n",
    "                                                                         split,\n",
    "                                                                         C,\n",
    "                                                                         kernel,\n",
    "                                                                         gamma,\n",
    "                                                                         epsilon,\n",
    "                                                                         valid_mean_value,\n",
    "                                                                         predicted_mean_value,\n",
    "                                                                         percetange_difference,\n",
    "                                                                         valid_rsq,\n",
    "                                                                         valid_mae,\n",
    "                                                                         valid_mse,\n",
    "                                                                         valid_rmse\n",
    "                                                                         ]\n",
    "                    # increment the rows variable\n",
    "                    df_rows +=1\n",
    "print('Done training')     "
   ]
  },
  {
   "cell_type": "markdown",
   "id": "27d72140",
   "metadata": {},
   "source": [
    "## Functions"
   ]
  },
  {
   "cell_type": "code",
   "execution_count": 21,
   "id": "0ced4331",
   "metadata": {},
   "outputs": [],
   "source": [
    "def group_seeded_data(data, groupby_columns, droped_cols=['seed', 'split']):\n",
    "    grouped_data = data.groupby(groupby_columns).agg('mean').reset_index().drop(droped_cols, axis=1)\n",
    "    return grouped_data"
   ]
  },
  {
   "cell_type": "code",
   "execution_count": 19,
   "id": "dc6bb570",
   "metadata": {
    "scrolled": true
   },
   "outputs": [
    {
     "data": {
      "text/html": [
       "<div>\n",
       "<style scoped>\n",
       "    .dataframe tbody tr th:only-of-type {\n",
       "        vertical-align: middle;\n",
       "    }\n",
       "\n",
       "    .dataframe tbody tr th {\n",
       "        vertical-align: top;\n",
       "    }\n",
       "\n",
       "    .dataframe thead th {\n",
       "        text-align: right;\n",
       "    }\n",
       "</style>\n",
       "<table border=\"1\" class=\"dataframe\">\n",
       "  <thead>\n",
       "    <tr style=\"text-align: right;\">\n",
       "      <th></th>\n",
       "      <th>task</th>\n",
       "      <th>model</th>\n",
       "      <th>split</th>\n",
       "      <th>C</th>\n",
       "      <th>kernel</th>\n",
       "      <th>gamma</th>\n",
       "      <th>epsilon</th>\n",
       "      <th>valid_mean_value</th>\n",
       "      <th>predicted_mean_value</th>\n",
       "      <th>percentage_difference</th>\n",
       "      <th>valid_rsq</th>\n",
       "      <th>valid_mae</th>\n",
       "      <th>valid_mse</th>\n",
       "      <th>valid_rmse</th>\n",
       "    </tr>\n",
       "  </thead>\n",
       "  <tbody>\n",
       "    <tr>\n",
       "      <th>0</th>\n",
       "      <td>regression</td>\n",
       "      <td>SVR</td>\n",
       "      <td>1</td>\n",
       "      <td>0.5</td>\n",
       "      <td>linear</td>\n",
       "      <td>scale</td>\n",
       "      <td>1.000</td>\n",
       "      <td>73.364780</td>\n",
       "      <td>77.122068</td>\n",
       "      <td>-0.090290</td>\n",
       "      <td>0.092335</td>\n",
       "      <td>6.336570</td>\n",
       "      <td>126.301525</td>\n",
       "      <td>11.238395</td>\n",
       "    </tr>\n",
       "    <tr>\n",
       "      <th>1</th>\n",
       "      <td>regression</td>\n",
       "      <td>SVR</td>\n",
       "      <td>1</td>\n",
       "      <td>0.5</td>\n",
       "      <td>linear</td>\n",
       "      <td>scale</td>\n",
       "      <td>0.100</td>\n",
       "      <td>73.364780</td>\n",
       "      <td>78.042137</td>\n",
       "      <td>-0.103738</td>\n",
       "      <td>0.027989</td>\n",
       "      <td>6.259427</td>\n",
       "      <td>135.255233</td>\n",
       "      <td>11.629928</td>\n",
       "    </tr>\n",
       "    <tr>\n",
       "      <th>2</th>\n",
       "      <td>regression</td>\n",
       "      <td>SVR</td>\n",
       "      <td>1</td>\n",
       "      <td>0.5</td>\n",
       "      <td>linear</td>\n",
       "      <td>scale</td>\n",
       "      <td>0.010</td>\n",
       "      <td>73.364780</td>\n",
       "      <td>78.126834</td>\n",
       "      <td>-0.104913</td>\n",
       "      <td>0.021883</td>\n",
       "      <td>6.277153</td>\n",
       "      <td>136.104998</td>\n",
       "      <td>11.666405</td>\n",
       "    </tr>\n",
       "    <tr>\n",
       "      <th>3</th>\n",
       "      <td>regression</td>\n",
       "      <td>SVR</td>\n",
       "      <td>1</td>\n",
       "      <td>0.5</td>\n",
       "      <td>linear</td>\n",
       "      <td>scale</td>\n",
       "      <td>0.001</td>\n",
       "      <td>73.364780</td>\n",
       "      <td>78.088544</td>\n",
       "      <td>-0.104342</td>\n",
       "      <td>0.025630</td>\n",
       "      <td>6.268000</td>\n",
       "      <td>135.583572</td>\n",
       "      <td>11.644036</td>\n",
       "    </tr>\n",
       "    <tr>\n",
       "      <th>4</th>\n",
       "      <td>regression</td>\n",
       "      <td>SVR</td>\n",
       "      <td>1</td>\n",
       "      <td>0.5</td>\n",
       "      <td>linear</td>\n",
       "      <td>auto</td>\n",
       "      <td>1.000</td>\n",
       "      <td>73.364780</td>\n",
       "      <td>77.122068</td>\n",
       "      <td>-0.090290</td>\n",
       "      <td>0.092335</td>\n",
       "      <td>6.336570</td>\n",
       "      <td>126.301525</td>\n",
       "      <td>11.238395</td>\n",
       "    </tr>\n",
       "    <tr>\n",
       "      <th>...</th>\n",
       "      <td>...</td>\n",
       "      <td>...</td>\n",
       "      <td>...</td>\n",
       "      <td>...</td>\n",
       "      <td>...</td>\n",
       "      <td>...</td>\n",
       "      <td>...</td>\n",
       "      <td>...</td>\n",
       "      <td>...</td>\n",
       "      <td>...</td>\n",
       "      <td>...</td>\n",
       "      <td>...</td>\n",
       "      <td>...</td>\n",
       "      <td>...</td>\n",
       "    </tr>\n",
       "    <tr>\n",
       "      <th>1115</th>\n",
       "      <td>regression</td>\n",
       "      <td>SVR</td>\n",
       "      <td>5</td>\n",
       "      <td>30.0</td>\n",
       "      <td>sigmoid</td>\n",
       "      <td>scale</td>\n",
       "      <td>0.001</td>\n",
       "      <td>73.144654</td>\n",
       "      <td>59.190648</td>\n",
       "      <td>0.139555</td>\n",
       "      <td>-123.801192</td>\n",
       "      <td>72.253560</td>\n",
       "      <td>8420.291677</td>\n",
       "      <td>91.762147</td>\n",
       "    </tr>\n",
       "    <tr>\n",
       "      <th>1116</th>\n",
       "      <td>regression</td>\n",
       "      <td>SVR</td>\n",
       "      <td>5</td>\n",
       "      <td>30.0</td>\n",
       "      <td>sigmoid</td>\n",
       "      <td>auto</td>\n",
       "      <td>1.000</td>\n",
       "      <td>73.144654</td>\n",
       "      <td>58.366897</td>\n",
       "      <td>0.151148</td>\n",
       "      <td>-124.664745</td>\n",
       "      <td>72.513962</td>\n",
       "      <td>8478.555255</td>\n",
       "      <td>92.079071</td>\n",
       "    </tr>\n",
       "    <tr>\n",
       "      <th>1117</th>\n",
       "      <td>regression</td>\n",
       "      <td>SVR</td>\n",
       "      <td>5</td>\n",
       "      <td>30.0</td>\n",
       "      <td>sigmoid</td>\n",
       "      <td>auto</td>\n",
       "      <td>0.100</td>\n",
       "      <td>73.144654</td>\n",
       "      <td>58.754096</td>\n",
       "      <td>0.145819</td>\n",
       "      <td>-123.496352</td>\n",
       "      <td>72.153425</td>\n",
       "      <td>8399.724198</td>\n",
       "      <td>91.650009</td>\n",
       "    </tr>\n",
       "    <tr>\n",
       "      <th>1118</th>\n",
       "      <td>regression</td>\n",
       "      <td>SVR</td>\n",
       "      <td>5</td>\n",
       "      <td>30.0</td>\n",
       "      <td>sigmoid</td>\n",
       "      <td>auto</td>\n",
       "      <td>0.010</td>\n",
       "      <td>73.144654</td>\n",
       "      <td>59.151022</td>\n",
       "      <td>0.140124</td>\n",
       "      <td>-123.772826</td>\n",
       "      <td>72.242348</td>\n",
       "      <td>8418.377777</td>\n",
       "      <td>91.751718</td>\n",
       "    </tr>\n",
       "    <tr>\n",
       "      <th>1119</th>\n",
       "      <td>regression</td>\n",
       "      <td>SVR</td>\n",
       "      <td>5</td>\n",
       "      <td>30.0</td>\n",
       "      <td>sigmoid</td>\n",
       "      <td>auto</td>\n",
       "      <td>0.001</td>\n",
       "      <td>73.144654</td>\n",
       "      <td>59.190648</td>\n",
       "      <td>0.139555</td>\n",
       "      <td>-123.801192</td>\n",
       "      <td>72.253560</td>\n",
       "      <td>8420.291677</td>\n",
       "      <td>91.762147</td>\n",
       "    </tr>\n",
       "  </tbody>\n",
       "</table>\n",
       "<p>1120 rows × 14 columns</p>\n",
       "</div>"
      ],
      "text/plain": [
       "            task model  split     C   kernel  gamma  epsilon  \\\n",
       "0     regression   SVR      1   0.5   linear  scale    1.000   \n",
       "1     regression   SVR      1   0.5   linear  scale    0.100   \n",
       "2     regression   SVR      1   0.5   linear  scale    0.010   \n",
       "3     regression   SVR      1   0.5   linear  scale    0.001   \n",
       "4     regression   SVR      1   0.5   linear   auto    1.000   \n",
       "...          ...   ...    ...   ...      ...    ...      ...   \n",
       "1115  regression   SVR      5  30.0  sigmoid  scale    0.001   \n",
       "1116  regression   SVR      5  30.0  sigmoid   auto    1.000   \n",
       "1117  regression   SVR      5  30.0  sigmoid   auto    0.100   \n",
       "1118  regression   SVR      5  30.0  sigmoid   auto    0.010   \n",
       "1119  regression   SVR      5  30.0  sigmoid   auto    0.001   \n",
       "\n",
       "      valid_mean_value  predicted_mean_value  percentage_difference  \\\n",
       "0            73.364780             77.122068              -0.090290   \n",
       "1            73.364780             78.042137              -0.103738   \n",
       "2            73.364780             78.126834              -0.104913   \n",
       "3            73.364780             78.088544              -0.104342   \n",
       "4            73.364780             77.122068              -0.090290   \n",
       "...                ...                   ...                    ...   \n",
       "1115         73.144654             59.190648               0.139555   \n",
       "1116         73.144654             58.366897               0.151148   \n",
       "1117         73.144654             58.754096               0.145819   \n",
       "1118         73.144654             59.151022               0.140124   \n",
       "1119         73.144654             59.190648               0.139555   \n",
       "\n",
       "       valid_rsq  valid_mae    valid_mse  valid_rmse  \n",
       "0       0.092335   6.336570   126.301525   11.238395  \n",
       "1       0.027989   6.259427   135.255233   11.629928  \n",
       "2       0.021883   6.277153   136.104998   11.666405  \n",
       "3       0.025630   6.268000   135.583572   11.644036  \n",
       "4       0.092335   6.336570   126.301525   11.238395  \n",
       "...          ...        ...          ...         ...  \n",
       "1115 -123.801192  72.253560  8420.291677   91.762147  \n",
       "1116 -124.664745  72.513962  8478.555255   92.079071  \n",
       "1117 -123.496352  72.153425  8399.724198   91.650009  \n",
       "1118 -123.772826  72.242348  8418.377777   91.751718  \n",
       "1119 -123.801192  72.253560  8420.291677   91.762147  \n",
       "\n",
       "[1120 rows x 14 columns]"
      ]
     },
     "execution_count": 19,
     "metadata": {},
     "output_type": "execute_result"
    }
   ],
   "source": [
    "support_vector_regression_results_df"
   ]
  },
  {
   "cell_type": "code",
   "execution_count": 20,
   "id": "e0a4184b",
   "metadata": {},
   "outputs": [],
   "source": [
    "support_vector_regression_results_df.to_csv(results_dir + 'support_vector_regression_results_df.csv')"
   ]
  },
  {
   "cell_type": "markdown",
   "id": "b064a959",
   "metadata": {},
   "source": [
    "Aggregate the values so that we average the results for each split"
   ]
  },
  {
   "cell_type": "code",
   "execution_count": 24,
   "id": "40069a2b",
   "metadata": {},
   "outputs": [],
   "source": [
    "grouped_support_vector_regression_results_df = group_seeded_data(support_vector_regression_results_df, \n",
    "                                                                 ['C', 'kernel','gamma', 'epsilon'],\n",
    "                                                                 ['split']\n",
    "                                                                )"
   ]
  },
  {
   "cell_type": "code",
   "execution_count": 25,
   "id": "2c54398e",
   "metadata": {},
   "outputs": [
    {
     "data": {
      "text/html": [
       "<div>\n",
       "<style scoped>\n",
       "    .dataframe tbody tr th:only-of-type {\n",
       "        vertical-align: middle;\n",
       "    }\n",
       "\n",
       "    .dataframe tbody tr th {\n",
       "        vertical-align: top;\n",
       "    }\n",
       "\n",
       "    .dataframe thead th {\n",
       "        text-align: right;\n",
       "    }\n",
       "</style>\n",
       "<table border=\"1\" class=\"dataframe\">\n",
       "  <thead>\n",
       "    <tr style=\"text-align: right;\">\n",
       "      <th></th>\n",
       "      <th>C</th>\n",
       "      <th>kernel</th>\n",
       "      <th>gamma</th>\n",
       "      <th>epsilon</th>\n",
       "      <th>valid_mean_value</th>\n",
       "      <th>predicted_mean_value</th>\n",
       "      <th>percentage_difference</th>\n",
       "      <th>valid_rsq</th>\n",
       "      <th>valid_mae</th>\n",
       "      <th>valid_mse</th>\n",
       "      <th>valid_rmse</th>\n",
       "    </tr>\n",
       "  </thead>\n",
       "  <tbody>\n",
       "    <tr>\n",
       "      <th>0</th>\n",
       "      <td>0.5</td>\n",
       "      <td>linear</td>\n",
       "      <td>auto</td>\n",
       "      <td>0.001</td>\n",
       "      <td>72.41761</td>\n",
       "      <td>73.728943</td>\n",
       "      <td>-0.049677</td>\n",
       "      <td>0.064877</td>\n",
       "      <td>5.592276</td>\n",
       "      <td>102.773805</td>\n",
       "      <td>9.937988</td>\n",
       "    </tr>\n",
       "    <tr>\n",
       "      <th>1</th>\n",
       "      <td>0.5</td>\n",
       "      <td>linear</td>\n",
       "      <td>auto</td>\n",
       "      <td>0.010</td>\n",
       "      <td>72.41761</td>\n",
       "      <td>73.747793</td>\n",
       "      <td>-0.049945</td>\n",
       "      <td>0.066615</td>\n",
       "      <td>5.586554</td>\n",
       "      <td>102.578448</td>\n",
       "      <td>9.925052</td>\n",
       "    </tr>\n",
       "    <tr>\n",
       "      <th>2</th>\n",
       "      <td>0.5</td>\n",
       "      <td>linear</td>\n",
       "      <td>auto</td>\n",
       "      <td>0.100</td>\n",
       "      <td>72.41761</td>\n",
       "      <td>73.762580</td>\n",
       "      <td>-0.050208</td>\n",
       "      <td>0.066276</td>\n",
       "      <td>5.587580</td>\n",
       "      <td>102.442169</td>\n",
       "      <td>9.922919</td>\n",
       "    </tr>\n",
       "    <tr>\n",
       "      <th>3</th>\n",
       "      <td>0.5</td>\n",
       "      <td>linear</td>\n",
       "      <td>auto</td>\n",
       "      <td>1.000</td>\n",
       "      <td>72.41761</td>\n",
       "      <td>73.155055</td>\n",
       "      <td>-0.041292</td>\n",
       "      <td>0.117811</td>\n",
       "      <td>5.619191</td>\n",
       "      <td>96.704448</td>\n",
       "      <td>9.646327</td>\n",
       "    </tr>\n",
       "    <tr>\n",
       "      <th>4</th>\n",
       "      <td>0.5</td>\n",
       "      <td>linear</td>\n",
       "      <td>scale</td>\n",
       "      <td>0.001</td>\n",
       "      <td>72.41761</td>\n",
       "      <td>73.728943</td>\n",
       "      <td>-0.049677</td>\n",
       "      <td>0.064877</td>\n",
       "      <td>5.592276</td>\n",
       "      <td>102.773805</td>\n",
       "      <td>9.937988</td>\n",
       "    </tr>\n",
       "    <tr>\n",
       "      <th>...</th>\n",
       "      <td>...</td>\n",
       "      <td>...</td>\n",
       "      <td>...</td>\n",
       "      <td>...</td>\n",
       "      <td>...</td>\n",
       "      <td>...</td>\n",
       "      <td>...</td>\n",
       "      <td>...</td>\n",
       "      <td>...</td>\n",
       "      <td>...</td>\n",
       "      <td>...</td>\n",
       "    </tr>\n",
       "    <tr>\n",
       "      <th>219</th>\n",
       "      <td>30.0</td>\n",
       "      <td>sigmoid</td>\n",
       "      <td>auto</td>\n",
       "      <td>1.000</td>\n",
       "      <td>72.41761</td>\n",
       "      <td>60.376971</td>\n",
       "      <td>0.147704</td>\n",
       "      <td>-68.857283</td>\n",
       "      <td>58.503712</td>\n",
       "      <td>7011.870937</td>\n",
       "      <td>77.427703</td>\n",
       "    </tr>\n",
       "    <tr>\n",
       "      <th>220</th>\n",
       "      <td>30.0</td>\n",
       "      <td>sigmoid</td>\n",
       "      <td>scale</td>\n",
       "      <td>0.001</td>\n",
       "      <td>72.41761</td>\n",
       "      <td>83.369022</td>\n",
       "      <td>-0.208615</td>\n",
       "      <td>-82.495076</td>\n",
       "      <td>68.293636</td>\n",
       "      <td>8634.578038</td>\n",
       "      <td>90.290265</td>\n",
       "    </tr>\n",
       "    <tr>\n",
       "      <th>221</th>\n",
       "      <td>30.0</td>\n",
       "      <td>sigmoid</td>\n",
       "      <td>scale</td>\n",
       "      <td>0.010</td>\n",
       "      <td>72.41761</td>\n",
       "      <td>83.366091</td>\n",
       "      <td>-0.208583</td>\n",
       "      <td>-82.496540</td>\n",
       "      <td>68.296017</td>\n",
       "      <td>8635.183121</td>\n",
       "      <td>90.294580</td>\n",
       "    </tr>\n",
       "    <tr>\n",
       "      <th>222</th>\n",
       "      <td>30.0</td>\n",
       "      <td>sigmoid</td>\n",
       "      <td>scale</td>\n",
       "      <td>0.100</td>\n",
       "      <td>72.41761</td>\n",
       "      <td>82.997084</td>\n",
       "      <td>-0.204684</td>\n",
       "      <td>-82.527679</td>\n",
       "      <td>68.428990</td>\n",
       "      <td>8643.052359</td>\n",
       "      <td>90.349703</td>\n",
       "    </tr>\n",
       "    <tr>\n",
       "      <th>223</th>\n",
       "      <td>30.0</td>\n",
       "      <td>sigmoid</td>\n",
       "      <td>scale</td>\n",
       "      <td>1.000</td>\n",
       "      <td>72.41761</td>\n",
       "      <td>82.785068</td>\n",
       "      <td>-0.200853</td>\n",
       "      <td>-82.865383</td>\n",
       "      <td>68.400212</td>\n",
       "      <td>8661.153550</td>\n",
       "      <td>90.445403</td>\n",
       "    </tr>\n",
       "  </tbody>\n",
       "</table>\n",
       "<p>224 rows × 11 columns</p>\n",
       "</div>"
      ],
      "text/plain": [
       "        C   kernel  gamma  epsilon  valid_mean_value  predicted_mean_value  \\\n",
       "0     0.5   linear   auto    0.001          72.41761             73.728943   \n",
       "1     0.5   linear   auto    0.010          72.41761             73.747793   \n",
       "2     0.5   linear   auto    0.100          72.41761             73.762580   \n",
       "3     0.5   linear   auto    1.000          72.41761             73.155055   \n",
       "4     0.5   linear  scale    0.001          72.41761             73.728943   \n",
       "..    ...      ...    ...      ...               ...                   ...   \n",
       "219  30.0  sigmoid   auto    1.000          72.41761             60.376971   \n",
       "220  30.0  sigmoid  scale    0.001          72.41761             83.369022   \n",
       "221  30.0  sigmoid  scale    0.010          72.41761             83.366091   \n",
       "222  30.0  sigmoid  scale    0.100          72.41761             82.997084   \n",
       "223  30.0  sigmoid  scale    1.000          72.41761             82.785068   \n",
       "\n",
       "     percentage_difference  valid_rsq  valid_mae    valid_mse  valid_rmse  \n",
       "0                -0.049677   0.064877   5.592276   102.773805    9.937988  \n",
       "1                -0.049945   0.066615   5.586554   102.578448    9.925052  \n",
       "2                -0.050208   0.066276   5.587580   102.442169    9.922919  \n",
       "3                -0.041292   0.117811   5.619191    96.704448    9.646327  \n",
       "4                -0.049677   0.064877   5.592276   102.773805    9.937988  \n",
       "..                     ...        ...        ...          ...         ...  \n",
       "219               0.147704 -68.857283  58.503712  7011.870937   77.427703  \n",
       "220              -0.208615 -82.495076  68.293636  8634.578038   90.290265  \n",
       "221              -0.208583 -82.496540  68.296017  8635.183121   90.294580  \n",
       "222              -0.204684 -82.527679  68.428990  8643.052359   90.349703  \n",
       "223              -0.200853 -82.865383  68.400212  8661.153550   90.445403  \n",
       "\n",
       "[224 rows x 11 columns]"
      ]
     },
     "execution_count": 25,
     "metadata": {},
     "output_type": "execute_result"
    }
   ],
   "source": [
    "grouped_support_vector_regression_results_df"
   ]
  },
  {
   "cell_type": "code",
   "execution_count": 65,
   "id": "169c88a1",
   "metadata": {},
   "outputs": [],
   "source": [
    "grouped_support_vector_regression_results_df.to_csv(results_dir + 'grouped_support_vector_regression_results_df.csv')"
   ]
  },
  {
   "cell_type": "markdown",
   "id": "2765a05f",
   "metadata": {},
   "source": [
    "## Functions"
   ]
  },
  {
   "cell_type": "code",
   "execution_count": 28,
   "id": "fe304a32",
   "metadata": {},
   "outputs": [],
   "source": [
    "def plot_line(data, x_column = 'C', groupby_column = 'kernel', title='Line graph', title_size=25, axes_size=15, tick_size=12, acc = 'valid_mae'):\n",
    "    grouped_data = data.groupby([groupby_column, x_column]).agg(acc=(acc, 'mean')).reset_index()\n",
    "    \n",
    "    fig, ax = plt.subplots(figsize=(10, 5))\n",
    "    for feat in grouped_data[groupby_column].unique():\n",
    "        feat_data = grouped_data[grouped_data[groupby_column]==feat].copy()\n",
    "        X = feat_data[x_column]\n",
    "        y = feat_data['acc'].copy()\n",
    "        plt.plot(X, y, label=f'{groupby_column}_{feat}')\n",
    "    \n",
    "    acc_label = acc\n",
    "    fig.legend(bbox_to_anchor=(0.9, 0.9))\n",
    "    fig.suptitle(title + f' for {acc} change in regards to {x_column} for each value of {groupby_column}', fontsize=title_size,  y=1.02)\n",
    "    ax.set_xlabel('C', fontsize=axes_size)\n",
    "    ax.set_ylabel(f'{acc_label}'.capitalize(), fontsize=axes_size)\n",
    "    ax.tick_params(axis='x', which='major', labelsize=tick_size)\n",
    "    ax.tick_params(axis='y', which='major', labelsize=tick_size)\n",
    "    plt.show()"
   ]
  },
  {
   "cell_type": "code",
   "execution_count": 29,
   "id": "b296ae44",
   "metadata": {},
   "outputs": [],
   "source": [
    "def plot_difference(y_test, predictions_test, title='Scatter plot', title_size=25, axes_size=15, tick_size=12, acc = 'valid_accuracy'):\n",
    "    fig, ax = plt.subplots(figsize=(10, 5))\n",
    "    plt.scatter(y_test, predictions_test)\n",
    "    min_y = y_test.min()\n",
    "    min_predictions = predictions_test.min()\n",
    "    min_val = np.minimum(min_y, min_predictions)\n",
    "    ax.axline((min_val, min_val), slope=1, color='black')   \n",
    "    \n",
    "    acc_label = acc.split('_')[0]\n",
    "    fig.suptitle(title + f' for expected vs predicted output', fontsize=title_size,  y=1.02)\n",
    "    ax.set_xlabel('Expected output', fontsize=axes_size)\n",
    "    ax.set_ylabel('Predicted output', fontsize=axes_size)\n",
    "    ax.tick_params(axis='x', which='major', labelsize=tick_size)\n",
    "    ax.tick_params(axis='y', which='major', labelsize=tick_size)\n",
    "    plt.show()"
   ]
  },
  {
   "cell_type": "markdown",
   "id": "9156fe0f",
   "metadata": {},
   "source": [
    "## Overal results demonstration"
   ]
  },
  {
   "cell_type": "markdown",
   "id": "5b5acaab",
   "metadata": {},
   "source": [
    "### MAE"
   ]
  },
  {
   "cell_type": "markdown",
   "id": "50f09542",
   "metadata": {},
   "source": [
    "#### kernel"
   ]
  },
  {
   "cell_type": "code",
   "execution_count": 30,
   "id": "03530575",
   "metadata": {},
   "outputs": [
    {
     "data": {
      "image/png": "[encoded data removed]",
      "text/plain": [
       "<Figure size 720x360 with 1 Axes>"
      ]
     },
     "metadata": {
      "needs_background": "light"
     },
     "output_type": "display_data"
    }
   ],
   "source": [
    "plot_line(grouped_support_vector_regression_results_df)"
   ]
  },
  {
   "cell_type": "markdown",
   "id": "5a925c89",
   "metadata": {},
   "source": [
    "#### epsilon"
   ]
  },
  {
   "cell_type": "code",
   "execution_count": 31,
   "id": "021c2351",
   "metadata": {},
   "outputs": [
    {
     "data": {
      "image/png": "[encoded data removed]",
      "text/plain": [
       "<Figure size 720x360 with 1 Axes>"
      ]
     },
     "metadata": {
      "needs_background": "light"
     },
     "output_type": "display_data"
    }
   ],
   "source": [
    "plot_line(grouped_support_vector_regression_results_df, groupby_column='epsilon')"
   ]
  },
  {
   "cell_type": "markdown",
   "id": "27febe40",
   "metadata": {},
   "source": [
    "#### gamma"
   ]
  },
  {
   "cell_type": "code",
   "execution_count": 32,
   "id": "6a08d61a",
   "metadata": {},
   "outputs": [
    {
     "data": {
      "image/png": "[encoded data removed]",
      "text/plain": [
       "<Figure size 720x360 with 1 Axes>"
      ]
     },
     "metadata": {
      "needs_background": "light"
     },
     "output_type": "display_data"
    }
   ],
   "source": [
    "plot_line(grouped_support_vector_regression_results_df, groupby_column='gamma')"
   ]
  },
  {
   "cell_type": "markdown",
   "id": "d9a1aada",
   "metadata": {},
   "source": [
    "### MSE"
   ]
  },
  {
   "cell_type": "markdown",
   "id": "67cb2d19",
   "metadata": {},
   "source": [
    "#### kernel"
   ]
  },
  {
   "cell_type": "code",
   "execution_count": 33,
   "id": "c30f91d0",
   "metadata": {},
   "outputs": [
    {
     "data": {
      "image/png": "[encoded data removed]",
      "text/plain": [
       "<Figure size 720x360 with 1 Axes>"
      ]
     },
     "metadata": {
      "needs_background": "light"
     },
     "output_type": "display_data"
    }
   ],
   "source": [
    "plot_line(grouped_support_vector_regression_results_df, acc='valid_mse')"
   ]
  },
  {
   "cell_type": "markdown",
   "id": "26cb785a",
   "metadata": {},
   "source": [
    "#### epsilon"
   ]
  },
  {
   "cell_type": "code",
   "execution_count": 34,
   "id": "177384cb",
   "metadata": {},
   "outputs": [
    {
     "data": {
      "image/png": "[encoded data removed]",
      "text/plain": [
       "<Figure size 720x360 with 1 Axes>"
      ]
     },
     "metadata": {
      "needs_background": "light"
     },
     "output_type": "display_data"
    }
   ],
   "source": [
    "plot_line(grouped_support_vector_regression_results_df, groupby_column='epsilon', acc='valid_mse')"
   ]
  },
  {
   "cell_type": "markdown",
   "id": "cea48ad3",
   "metadata": {},
   "source": [
    "#### gamma"
   ]
  },
  {
   "cell_type": "code",
   "execution_count": 35,
   "id": "fe8e10e2",
   "metadata": {},
   "outputs": [
    {
     "data": {
      "image/png": "[encoded data removed]",
      "text/plain": [
       "<Figure size 720x360 with 1 Axes>"
      ]
     },
     "metadata": {
      "needs_background": "light"
     },
     "output_type": "display_data"
    }
   ],
   "source": [
    "plot_line(grouped_support_vector_regression_results_df, groupby_column='gamma', acc='valid_mse')"
   ]
  },
  {
   "cell_type": "markdown",
   "id": "339b5179",
   "metadata": {},
   "source": [
    "From the above graphs it can be concluded the SVM models on this data works the best when the value of the C parameter is small. Also, it can be observed that the `poly` kernel does not work well with the data, `epsilon` and `gamma` values do not influence the output that much."
   ]
  },
  {
   "cell_type": "markdown",
   "id": "7b8f94ed",
   "metadata": {},
   "source": [
    "## Build best model"
   ]
  },
  {
   "cell_type": "code",
   "execution_count": 36,
   "id": "badf6fc9",
   "metadata": {},
   "outputs": [
    {
     "data": {
      "text/html": [
       "<div>\n",
       "<style scoped>\n",
       "    .dataframe tbody tr th:only-of-type {\n",
       "        vertical-align: middle;\n",
       "    }\n",
       "\n",
       "    .dataframe tbody tr th {\n",
       "        vertical-align: top;\n",
       "    }\n",
       "\n",
       "    .dataframe thead th {\n",
       "        text-align: right;\n",
       "    }\n",
       "</style>\n",
       "<table border=\"1\" class=\"dataframe\">\n",
       "  <thead>\n",
       "    <tr style=\"text-align: right;\">\n",
       "      <th></th>\n",
       "      <th>C</th>\n",
       "      <th>kernel</th>\n",
       "      <th>gamma</th>\n",
       "      <th>epsilon</th>\n",
       "      <th>valid_mean_value</th>\n",
       "      <th>predicted_mean_value</th>\n",
       "      <th>percentage_difference</th>\n",
       "      <th>valid_rsq</th>\n",
       "      <th>valid_mae</th>\n",
       "      <th>valid_mse</th>\n",
       "      <th>valid_rmse</th>\n",
       "    </tr>\n",
       "  </thead>\n",
       "  <tbody>\n",
       "    <tr>\n",
       "      <th>215</th>\n",
       "      <td>30.0</td>\n",
       "      <td>rbf</td>\n",
       "      <td>scale</td>\n",
       "      <td>1.0</td>\n",
       "      <td>72.41761</td>\n",
       "      <td>72.129978</td>\n",
       "      <td>-0.022756</td>\n",
       "      <td>0.441912</td>\n",
       "      <td>4.665619</td>\n",
       "      <td>59.113038</td>\n",
       "      <td>7.623574</td>\n",
       "    </tr>\n",
       "  </tbody>\n",
       "</table>\n",
       "</div>"
      ],
      "text/plain": [
       "        C kernel  gamma  epsilon  valid_mean_value  predicted_mean_value  \\\n",
       "215  30.0    rbf  scale      1.0          72.41761             72.129978   \n",
       "\n",
       "     percentage_difference  valid_rsq  valid_mae  valid_mse  valid_rmse  \n",
       "215              -0.022756   0.441912   4.665619  59.113038    7.623574  "
      ]
     },
     "execution_count": 36,
     "metadata": {},
     "output_type": "execute_result"
    }
   ],
   "source": [
    "grouped_support_vector_regression_results_df[grouped_support_vector_regression_results_df['valid_rmse'] == grouped_support_vector_regression_results_df['valid_rmse'].min()]"
   ]
  },
  {
   "cell_type": "code",
   "execution_count": 37,
   "id": "6fb7c2fa",
   "metadata": {},
   "outputs": [
    {
     "data": {
      "text/html": [
       "<div>\n",
       "<style scoped>\n",
       "    .dataframe tbody tr th:only-of-type {\n",
       "        vertical-align: middle;\n",
       "    }\n",
       "\n",
       "    .dataframe tbody tr th {\n",
       "        vertical-align: top;\n",
       "    }\n",
       "\n",
       "    .dataframe thead th {\n",
       "        text-align: right;\n",
       "    }\n",
       "</style>\n",
       "<table border=\"1\" class=\"dataframe\">\n",
       "  <thead>\n",
       "    <tr style=\"text-align: right;\">\n",
       "      <th></th>\n",
       "      <th>C</th>\n",
       "      <th>kernel</th>\n",
       "      <th>gamma</th>\n",
       "      <th>epsilon</th>\n",
       "      <th>valid_mean_value</th>\n",
       "      <th>predicted_mean_value</th>\n",
       "      <th>percentage_difference</th>\n",
       "      <th>valid_rsq</th>\n",
       "      <th>valid_mae</th>\n",
       "      <th>valid_mse</th>\n",
       "      <th>valid_rmse</th>\n",
       "    </tr>\n",
       "  </thead>\n",
       "  <tbody>\n",
       "    <tr>\n",
       "      <th>215</th>\n",
       "      <td>30.0</td>\n",
       "      <td>rbf</td>\n",
       "      <td>scale</td>\n",
       "      <td>1.0</td>\n",
       "      <td>72.41761</td>\n",
       "      <td>72.129978</td>\n",
       "      <td>-0.022756</td>\n",
       "      <td>0.441912</td>\n",
       "      <td>4.665619</td>\n",
       "      <td>59.113038</td>\n",
       "      <td>7.623574</td>\n",
       "    </tr>\n",
       "  </tbody>\n",
       "</table>\n",
       "</div>"
      ],
      "text/plain": [
       "        C kernel  gamma  epsilon  valid_mean_value  predicted_mean_value  \\\n",
       "215  30.0    rbf  scale      1.0          72.41761             72.129978   \n",
       "\n",
       "     percentage_difference  valid_rsq  valid_mae  valid_mse  valid_rmse  \n",
       "215              -0.022756   0.441912   4.665619  59.113038    7.623574  "
      ]
     },
     "execution_count": 37,
     "metadata": {},
     "output_type": "execute_result"
    }
   ],
   "source": [
    "grouped_support_vector_regression_results_df[grouped_support_vector_regression_results_df['valid_mse'] == grouped_support_vector_regression_results_df['valid_mse'].min()]"
   ]
  },
  {
   "cell_type": "code",
   "execution_count": 38,
   "id": "be585b02",
   "metadata": {},
   "outputs": [
    {
     "data": {
      "text/html": [
       "<div>\n",
       "<style scoped>\n",
       "    .dataframe tbody tr th:only-of-type {\n",
       "        vertical-align: middle;\n",
       "    }\n",
       "\n",
       "    .dataframe tbody tr th {\n",
       "        vertical-align: top;\n",
       "    }\n",
       "\n",
       "    .dataframe thead th {\n",
       "        text-align: right;\n",
       "    }\n",
       "</style>\n",
       "<table border=\"1\" class=\"dataframe\">\n",
       "  <thead>\n",
       "    <tr style=\"text-align: right;\">\n",
       "      <th></th>\n",
       "      <th>C</th>\n",
       "      <th>kernel</th>\n",
       "      <th>gamma</th>\n",
       "      <th>epsilon</th>\n",
       "      <th>valid_mean_value</th>\n",
       "      <th>predicted_mean_value</th>\n",
       "      <th>percentage_difference</th>\n",
       "      <th>valid_rsq</th>\n",
       "      <th>valid_mae</th>\n",
       "      <th>valid_mse</th>\n",
       "      <th>valid_rmse</th>\n",
       "    </tr>\n",
       "  </thead>\n",
       "  <tbody>\n",
       "    <tr>\n",
       "      <th>112</th>\n",
       "      <td>15.0</td>\n",
       "      <td>rbf</td>\n",
       "      <td>auto</td>\n",
       "      <td>0.001</td>\n",
       "      <td>72.41761</td>\n",
       "      <td>73.198118</td>\n",
       "      <td>-0.040438</td>\n",
       "      <td>0.426827</td>\n",
       "      <td>4.269881</td>\n",
       "      <td>61.501675</td>\n",
       "      <td>7.766972</td>\n",
       "    </tr>\n",
       "  </tbody>\n",
       "</table>\n",
       "</div>"
      ],
      "text/plain": [
       "        C kernel gamma  epsilon  valid_mean_value  predicted_mean_value  \\\n",
       "112  15.0    rbf  auto    0.001          72.41761             73.198118   \n",
       "\n",
       "     percentage_difference  valid_rsq  valid_mae  valid_mse  valid_rmse  \n",
       "112              -0.040438   0.426827   4.269881  61.501675    7.766972  "
      ]
     },
     "execution_count": 38,
     "metadata": {},
     "output_type": "execute_result"
    }
   ],
   "source": [
    "grouped_support_vector_regression_results_df[grouped_support_vector_regression_results_df['valid_mae'] == grouped_support_vector_regression_results_df['valid_mae'].min()]"
   ]
  },
  {
   "cell_type": "code",
   "execution_count": 39,
   "id": "1dd2bc74",
   "metadata": {},
   "outputs": [
    {
     "data": {
      "text/html": [
       "<div>\n",
       "<style scoped>\n",
       "    .dataframe tbody tr th:only-of-type {\n",
       "        vertical-align: middle;\n",
       "    }\n",
       "\n",
       "    .dataframe tbody tr th {\n",
       "        vertical-align: top;\n",
       "    }\n",
       "\n",
       "    .dataframe thead th {\n",
       "        text-align: right;\n",
       "    }\n",
       "</style>\n",
       "<table border=\"1\" class=\"dataframe\">\n",
       "  <thead>\n",
       "    <tr style=\"text-align: right;\">\n",
       "      <th></th>\n",
       "      <th>C</th>\n",
       "      <th>kernel</th>\n",
       "      <th>gamma</th>\n",
       "      <th>epsilon</th>\n",
       "      <th>valid_mean_value</th>\n",
       "      <th>predicted_mean_value</th>\n",
       "      <th>percentage_difference</th>\n",
       "      <th>valid_rsq</th>\n",
       "      <th>valid_mae</th>\n",
       "      <th>valid_mse</th>\n",
       "      <th>valid_rmse</th>\n",
       "    </tr>\n",
       "  </thead>\n",
       "  <tbody>\n",
       "    <tr>\n",
       "      <th>215</th>\n",
       "      <td>30.0</td>\n",
       "      <td>rbf</td>\n",
       "      <td>scale</td>\n",
       "      <td>1.0</td>\n",
       "      <td>72.41761</td>\n",
       "      <td>72.129978</td>\n",
       "      <td>-0.022756</td>\n",
       "      <td>0.441912</td>\n",
       "      <td>4.665619</td>\n",
       "      <td>59.113038</td>\n",
       "      <td>7.623574</td>\n",
       "    </tr>\n",
       "  </tbody>\n",
       "</table>\n",
       "</div>"
      ],
      "text/plain": [
       "        C kernel  gamma  epsilon  valid_mean_value  predicted_mean_value  \\\n",
       "215  30.0    rbf  scale      1.0          72.41761             72.129978   \n",
       "\n",
       "     percentage_difference  valid_rsq  valid_mae  valid_mse  valid_rmse  \n",
       "215              -0.022756   0.441912   4.665619  59.113038    7.623574  "
      ]
     },
     "execution_count": 39,
     "metadata": {},
     "output_type": "execute_result"
    }
   ],
   "source": [
    "grouped_support_vector_regression_results_df[grouped_support_vector_regression_results_df['valid_rsq'] == grouped_support_vector_regression_results_df['valid_rsq'].max()]"
   ]
  },
  {
   "cell_type": "markdown",
   "id": "9dad5db5",
   "metadata": {},
   "source": [
    "We have some conflicting values for the parameters. Given that we will choose the ones taht produce the lowest MAE."
   ]
  },
  {
   "cell_type": "code",
   "execution_count": 7,
   "id": "d1bed256",
   "metadata": {},
   "outputs": [],
   "source": [
    "model = SVR(C=30,\n",
    "            kernel='rbf',\n",
    "            gamma='auto',\n",
    "            epsilon=0.001,\n",
    "           )\n",
    "\n",
    "best_pipe = make_pipeline(preprocessing.StandardScaler(), \n",
    "                          model\n",
    "                          )"
   ]
  },
  {
   "cell_type": "code",
   "execution_count": 19,
   "id": "f9454043",
   "metadata": {},
   "outputs": [
    {
     "name": "stderr",
     "output_type": "stream",
     "text": [
      "C:\\Users\\Lenovo\\AppData\\Local\\Temp\\ipykernel_12412\\2457187115.py:2: SettingWithCopyWarning: \n",
      "A value is trying to be set on a copy of a slice from a DataFrame.\n",
      "Try using .loc[row_indexer,col_indexer] = value instead\n",
      "\n",
      "See the caveats in the documentation: https://pandas.pydata.org/pandas-docs/stable/user_guide/indexing.html#returning-a-view-versus-a-copy\n",
      "  X_train.loc[:, categorical] = enc.fit_transform(X_train[categorical])\n",
      "C:\\Users\\Lenovo\\AppData\\Local\\Temp\\ipykernel_12412\\2457187115.py:3: SettingWithCopyWarning: \n",
      "A value is trying to be set on a copy of a slice from a DataFrame.\n",
      "Try using .loc[row_indexer,col_indexer] = value instead\n",
      "\n",
      "See the caveats in the documentation: https://pandas.pydata.org/pandas-docs/stable/user_guide/indexing.html#returning-a-view-versus-a-copy\n",
      "  X_test.loc[:, categorical] = enc.transform(X_test[categorical])\n"
     ]
    }
   ],
   "source": [
    "enc = preprocessing.OrdinalEncoder(handle_unknown='use_encoded_value', unknown_value=100)\n",
    "X_train.loc[:, categorical] = enc.fit_transform(X_train[categorical])\n",
    "X_test.loc[:, categorical] = enc.transform(X_test[categorical])\n",
    "\n",
    "y_train_enc = y_train.values.flatten()\n",
    "y_test_enc = y_test.values.flatten()"
   ]
  },
  {
   "cell_type": "code",
   "execution_count": 20,
   "id": "83d22f29",
   "metadata": {},
   "outputs": [
    {
     "data": {
      "text/plain": [
       "Pipeline(steps=[('standardscaler', StandardScaler()),\n",
       "                ('svr', SVR(C=30, epsilon=0.001, gamma='auto'))])"
      ]
     },
     "execution_count": 20,
     "metadata": {},
     "output_type": "execute_result"
    }
   ],
   "source": [
    "best_pipe.fit(X_train, y_train_enc)"
   ]
  },
  {
   "cell_type": "markdown",
   "id": "a221f154",
   "metadata": {},
   "source": [
    "Obtain metric scores"
   ]
  },
  {
   "cell_type": "code",
   "execution_count": 21,
   "id": "72be724f",
   "metadata": {},
   "outputs": [],
   "source": [
    "test_predictions = best_pipe.predict(X_test)\n",
    "test_mae = mean_absolute_error(y_test_enc, test_predictions)\n",
    "test_mse = mean_squared_error(y_test_enc, test_predictions)\n",
    "test_rmse = mean_squared_error(y_test_enc, test_predictions, squared=False)\n",
    "test_rsq = r2_score(y_test_enc, test_predictions)"
   ]
  },
  {
   "cell_type": "markdown",
   "id": "35060d0f",
   "metadata": {},
   "source": [
    "### Results on test set"
   ]
  },
  {
   "cell_type": "code",
   "execution_count": 22,
   "id": "e07133e7",
   "metadata": {},
   "outputs": [
    {
     "name": "stdout",
     "output_type": "stream",
     "text": [
      "The MAE score on the test set for the best model is 4.104 \n",
      "\n"
     ]
    }
   ],
   "source": [
    "print(f\"The MAE score on the test set for the best model is {test_mae.round(3)} \\n\")"
   ]
  },
  {
   "cell_type": "code",
   "execution_count": 23,
   "id": "1e37f243",
   "metadata": {},
   "outputs": [
    {
     "name": "stdout",
     "output_type": "stream",
     "text": [
      "The MSE score on the test set for the best model is 45.508 \n",
      "\n"
     ]
    }
   ],
   "source": [
    "print(f\"The MSE score on the test set for the best model is {test_mse.round(3)} \\n\")"
   ]
  },
  {
   "cell_type": "code",
   "execution_count": 24,
   "id": "cf0052cf",
   "metadata": {},
   "outputs": [
    {
     "name": "stdout",
     "output_type": "stream",
     "text": [
      "The RMSE score on the test set for the best model is 6.746 \n",
      "\n"
     ]
    }
   ],
   "source": [
    "print(f\"The RMSE score on the test set for the best model is {test_rmse.round(3)} \\n\")"
   ]
  },
  {
   "cell_type": "code",
   "execution_count": 25,
   "id": "c4335023",
   "metadata": {},
   "outputs": [
    {
     "name": "stdout",
     "output_type": "stream",
     "text": [
      "The Rsq score on the test set for the best model is 0.43 \n",
      "\n"
     ]
    }
   ],
   "source": [
    "print(f\"The Rsq score on the test set for the best model is {test_rsq.round(3)} \\n\")"
   ]
  },
  {
   "cell_type": "code",
   "execution_count": 30,
   "id": "5ee2a578",
   "metadata": {},
   "outputs": [
    {
     "data": {
      "image/png": "[encoded data removed]",
      "text/plain": [
       "<Figure size 720x360 with 1 Axes>"
      ]
     },
     "metadata": {
      "needs_background": "light"
     },
     "output_type": "display_data"
    }
   ],
   "source": [
    "plot_difference(y_test_enc, test_predictions)"
   ]
  },
  {
   "cell_type": "markdown",
   "id": "ad73cc3d",
   "metadata": {},
   "source": [
    "Save the model on disc"
   ]
  },
  {
   "cell_type": "code",
   "execution_count": 27,
   "id": "2d23d1f3",
   "metadata": {},
   "outputs": [],
   "source": [
    "pickle.dump(best_pipe, open(models_dir+model_name, 'wb'))"
   ]
  },
  {
   "cell_type": "markdown",
   "id": "2863a0fc",
   "metadata": {},
   "source": [
    "Load the model from disk"
   ]
  },
  {
   "cell_type": "code",
   "execution_count": 28,
   "id": "cf812e2b",
   "metadata": {},
   "outputs": [],
   "source": [
    "loaded_best_pipe = pickle.load(open(models_dir+model_name, 'rb'))"
   ]
  },
  {
   "cell_type": "code",
   "execution_count": null,
   "id": "d905e407",
   "metadata": {},
   "outputs": [],
   "source": []
  }
 ],
 "metadata": {
  "kernelspec": {
   "display_name": "Python 3 (ipykernel)",
   "language": "python",
   "name": "python3"
  },
  "language_info": {
   "codemirror_mode": {
    "name": "ipython",
    "version": 3
   },
   "file_extension": ".py",
   "mimetype": "text/x-python",
   "name": "python",
   "nbconvert_exporter": "python",
   "pygments_lexer": "ipython3",
   "version": "3.8.8"
  }
 },
 "nbformat": 4,
 "nbformat_minor": 5
}
