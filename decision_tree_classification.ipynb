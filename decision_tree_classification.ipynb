{
 "cells": [
  {
   "cell_type": "markdown",
   "id": "22387cbc",
   "metadata": {},
   "source": [
    "# Data Loading and Imports"
   ]
  },
  {
   "cell_type": "code",
   "execution_count": 1,
   "id": "ab465900",
   "metadata": {},
   "outputs": [],
   "source": [
    "import pandas as pd\n",
    "import matplotlib.pyplot as plt\n",
    "import seaborn as sns\n",
    "import numpy as np\n",
    "from dython import nominal\n",
    "from sklearn.tree import DecisionTreeClassifier\n",
    "from sklearn.model_selection import train_test_split, KFold\n",
    "from sklearn import preprocessing\n",
    "from sklearn.pipeline import make_pipeline\n",
    "from sklearn.metrics import precision_score, recall_score, f1_score, roc_curve, auc, confusion_matrix\n",
    "import pickle"
   ]
  },
  {
   "cell_type": "code",
   "execution_count": 2,
   "id": "3a8509aa",
   "metadata": {},
   "outputs": [],
   "source": [
    "data_dir = './data/'"
   ]
  },
  {
   "cell_type": "code",
   "execution_count": 3,
   "id": "cf9f7a31",
   "metadata": {},
   "outputs": [],
   "source": [
    "results_dir = './data/results/'"
   ]
  },
  {
   "cell_type": "code",
   "execution_count": 4,
   "id": "2ee14d73",
   "metadata": {},
   "outputs": [],
   "source": [
    "models_dir = './models/'"
   ]
  },
  {
   "cell_type": "code",
   "execution_count": 5,
   "id": "1facc565",
   "metadata": {},
   "outputs": [],
   "source": [
    "model_name = 'decision_tree_classification'"
   ]
  },
  {
   "cell_type": "code",
   "execution_count": 6,
   "id": "f6f0095a",
   "metadata": {},
   "outputs": [],
   "source": [
    "classification_data = pd.read_csv(data_dir+'classification_data.csv', index_col=[0])"
   ]
  },
  {
   "cell_type": "markdown",
   "id": "2d91fb03",
   "metadata": {},
   "source": [
    "# Decision Tree (Classification)"
   ]
  },
  {
   "cell_type": "code",
   "execution_count": 7,
   "id": "5bf45272",
   "metadata": {},
   "outputs": [
    {
     "data": {
      "text/html": [
       "<div>\n",
       "<style scoped>\n",
       "    .dataframe tbody tr th:only-of-type {\n",
       "        vertical-align: middle;\n",
       "    }\n",
       "\n",
       "    .dataframe tbody tr th {\n",
       "        vertical-align: top;\n",
       "    }\n",
       "\n",
       "    .dataframe thead th {\n",
       "        text-align: right;\n",
       "    }\n",
       "</style>\n",
       "<table border=\"1\" class=\"dataframe\">\n",
       "  <thead>\n",
       "    <tr style=\"text-align: right;\">\n",
       "      <th></th>\n",
       "      <th>edible</th>\n",
       "      <th>cap-shape</th>\n",
       "      <th>cap-surface</th>\n",
       "      <th>cap-color</th>\n",
       "      <th>bruises</th>\n",
       "      <th>odor</th>\n",
       "      <th>gill-attachment</th>\n",
       "      <th>gill-spacing</th>\n",
       "      <th>gill-size</th>\n",
       "      <th>gill-color</th>\n",
       "      <th>stalk-shape</th>\n",
       "      <th>stalk-root</th>\n",
       "      <th>stalk-surface-above-ring</th>\n",
       "      <th>stalk-surface-below-ring</th>\n",
       "      <th>veil-color</th>\n",
       "      <th>ring-number</th>\n",
       "      <th>ring-type</th>\n",
       "      <th>spore-print-color</th>\n",
       "      <th>population</th>\n",
       "      <th>habitat</th>\n",
       "    </tr>\n",
       "  </thead>\n",
       "  <tbody>\n",
       "    <tr>\n",
       "      <th>0</th>\n",
       "      <td>poisonous</td>\n",
       "      <td>convex</td>\n",
       "      <td>smooth</td>\n",
       "      <td>brown</td>\n",
       "      <td>yes</td>\n",
       "      <td>pungent</td>\n",
       "      <td>free</td>\n",
       "      <td>close</td>\n",
       "      <td>narrow</td>\n",
       "      <td>black</td>\n",
       "      <td>enlarging</td>\n",
       "      <td>equal</td>\n",
       "      <td>smooth</td>\n",
       "      <td>smooth</td>\n",
       "      <td>white</td>\n",
       "      <td>1</td>\n",
       "      <td>pendant</td>\n",
       "      <td>black</td>\n",
       "      <td>scattered</td>\n",
       "      <td>urban</td>\n",
       "    </tr>\n",
       "    <tr>\n",
       "      <th>1</th>\n",
       "      <td>edible</td>\n",
       "      <td>convex</td>\n",
       "      <td>smooth</td>\n",
       "      <td>yellow</td>\n",
       "      <td>yes</td>\n",
       "      <td>almond</td>\n",
       "      <td>free</td>\n",
       "      <td>close</td>\n",
       "      <td>broad</td>\n",
       "      <td>black</td>\n",
       "      <td>enlarging</td>\n",
       "      <td>club</td>\n",
       "      <td>smooth</td>\n",
       "      <td>smooth</td>\n",
       "      <td>white</td>\n",
       "      <td>1</td>\n",
       "      <td>pendant</td>\n",
       "      <td>brown</td>\n",
       "      <td>numerous</td>\n",
       "      <td>grasses</td>\n",
       "    </tr>\n",
       "    <tr>\n",
       "      <th>2</th>\n",
       "      <td>edible</td>\n",
       "      <td>bell</td>\n",
       "      <td>smooth</td>\n",
       "      <td>white</td>\n",
       "      <td>yes</td>\n",
       "      <td>anise</td>\n",
       "      <td>free</td>\n",
       "      <td>close</td>\n",
       "      <td>broad</td>\n",
       "      <td>brown</td>\n",
       "      <td>enlarging</td>\n",
       "      <td>club</td>\n",
       "      <td>smooth</td>\n",
       "      <td>smooth</td>\n",
       "      <td>white</td>\n",
       "      <td>1</td>\n",
       "      <td>pendant</td>\n",
       "      <td>brown</td>\n",
       "      <td>numerous</td>\n",
       "      <td>meadows</td>\n",
       "    </tr>\n",
       "    <tr>\n",
       "      <th>3</th>\n",
       "      <td>poisonous</td>\n",
       "      <td>convex</td>\n",
       "      <td>scaly</td>\n",
       "      <td>white</td>\n",
       "      <td>yes</td>\n",
       "      <td>pungent</td>\n",
       "      <td>free</td>\n",
       "      <td>close</td>\n",
       "      <td>narrow</td>\n",
       "      <td>brown</td>\n",
       "      <td>enlarging</td>\n",
       "      <td>equal</td>\n",
       "      <td>smooth</td>\n",
       "      <td>smooth</td>\n",
       "      <td>white</td>\n",
       "      <td>1</td>\n",
       "      <td>pendant</td>\n",
       "      <td>black</td>\n",
       "      <td>scattered</td>\n",
       "      <td>urban</td>\n",
       "    </tr>\n",
       "    <tr>\n",
       "      <th>4</th>\n",
       "      <td>edible</td>\n",
       "      <td>convex</td>\n",
       "      <td>smooth</td>\n",
       "      <td>gray</td>\n",
       "      <td>no</td>\n",
       "      <td>none</td>\n",
       "      <td>free</td>\n",
       "      <td>crowded</td>\n",
       "      <td>broad</td>\n",
       "      <td>black</td>\n",
       "      <td>tapering</td>\n",
       "      <td>equal</td>\n",
       "      <td>smooth</td>\n",
       "      <td>smooth</td>\n",
       "      <td>white</td>\n",
       "      <td>1</td>\n",
       "      <td>evanescent</td>\n",
       "      <td>brown</td>\n",
       "      <td>abundant</td>\n",
       "      <td>grasses</td>\n",
       "    </tr>\n",
       "    <tr>\n",
       "      <th>...</th>\n",
       "      <td>...</td>\n",
       "      <td>...</td>\n",
       "      <td>...</td>\n",
       "      <td>...</td>\n",
       "      <td>...</td>\n",
       "      <td>...</td>\n",
       "      <td>...</td>\n",
       "      <td>...</td>\n",
       "      <td>...</td>\n",
       "      <td>...</td>\n",
       "      <td>...</td>\n",
       "      <td>...</td>\n",
       "      <td>...</td>\n",
       "      <td>...</td>\n",
       "      <td>...</td>\n",
       "      <td>...</td>\n",
       "      <td>...</td>\n",
       "      <td>...</td>\n",
       "      <td>...</td>\n",
       "      <td>...</td>\n",
       "    </tr>\n",
       "    <tr>\n",
       "      <th>8119</th>\n",
       "      <td>edible</td>\n",
       "      <td>knobbed</td>\n",
       "      <td>smooth</td>\n",
       "      <td>brown</td>\n",
       "      <td>no</td>\n",
       "      <td>none</td>\n",
       "      <td>attached</td>\n",
       "      <td>close</td>\n",
       "      <td>broad</td>\n",
       "      <td>yellow</td>\n",
       "      <td>enlarging</td>\n",
       "      <td>unknown</td>\n",
       "      <td>smooth</td>\n",
       "      <td>smooth</td>\n",
       "      <td>orange</td>\n",
       "      <td>1</td>\n",
       "      <td>pendant</td>\n",
       "      <td>buff</td>\n",
       "      <td>clustered</td>\n",
       "      <td>leaves</td>\n",
       "    </tr>\n",
       "    <tr>\n",
       "      <th>8120</th>\n",
       "      <td>edible</td>\n",
       "      <td>convex</td>\n",
       "      <td>smooth</td>\n",
       "      <td>brown</td>\n",
       "      <td>no</td>\n",
       "      <td>none</td>\n",
       "      <td>attached</td>\n",
       "      <td>close</td>\n",
       "      <td>broad</td>\n",
       "      <td>yellow</td>\n",
       "      <td>enlarging</td>\n",
       "      <td>unknown</td>\n",
       "      <td>smooth</td>\n",
       "      <td>smooth</td>\n",
       "      <td>brown</td>\n",
       "      <td>1</td>\n",
       "      <td>pendant</td>\n",
       "      <td>buff</td>\n",
       "      <td>several</td>\n",
       "      <td>leaves</td>\n",
       "    </tr>\n",
       "    <tr>\n",
       "      <th>8121</th>\n",
       "      <td>edible</td>\n",
       "      <td>flat</td>\n",
       "      <td>smooth</td>\n",
       "      <td>brown</td>\n",
       "      <td>no</td>\n",
       "      <td>none</td>\n",
       "      <td>attached</td>\n",
       "      <td>close</td>\n",
       "      <td>broad</td>\n",
       "      <td>brown</td>\n",
       "      <td>enlarging</td>\n",
       "      <td>unknown</td>\n",
       "      <td>smooth</td>\n",
       "      <td>smooth</td>\n",
       "      <td>orange</td>\n",
       "      <td>1</td>\n",
       "      <td>pendant</td>\n",
       "      <td>buff</td>\n",
       "      <td>clustered</td>\n",
       "      <td>leaves</td>\n",
       "    </tr>\n",
       "    <tr>\n",
       "      <th>8122</th>\n",
       "      <td>poisonous</td>\n",
       "      <td>knobbed</td>\n",
       "      <td>scaly</td>\n",
       "      <td>brown</td>\n",
       "      <td>no</td>\n",
       "      <td>fishy</td>\n",
       "      <td>free</td>\n",
       "      <td>close</td>\n",
       "      <td>narrow</td>\n",
       "      <td>buff</td>\n",
       "      <td>tapering</td>\n",
       "      <td>unknown</td>\n",
       "      <td>smooth</td>\n",
       "      <td>silky</td>\n",
       "      <td>white</td>\n",
       "      <td>1</td>\n",
       "      <td>evanescent</td>\n",
       "      <td>white</td>\n",
       "      <td>several</td>\n",
       "      <td>leaves</td>\n",
       "    </tr>\n",
       "    <tr>\n",
       "      <th>8123</th>\n",
       "      <td>edible</td>\n",
       "      <td>convex</td>\n",
       "      <td>smooth</td>\n",
       "      <td>brown</td>\n",
       "      <td>no</td>\n",
       "      <td>none</td>\n",
       "      <td>attached</td>\n",
       "      <td>close</td>\n",
       "      <td>broad</td>\n",
       "      <td>yellow</td>\n",
       "      <td>enlarging</td>\n",
       "      <td>unknown</td>\n",
       "      <td>smooth</td>\n",
       "      <td>smooth</td>\n",
       "      <td>orange</td>\n",
       "      <td>1</td>\n",
       "      <td>pendant</td>\n",
       "      <td>orange</td>\n",
       "      <td>clustered</td>\n",
       "      <td>leaves</td>\n",
       "    </tr>\n",
       "  </tbody>\n",
       "</table>\n",
       "<p>8124 rows × 20 columns</p>\n",
       "</div>"
      ],
      "text/plain": [
       "         edible cap-shape cap-surface cap-color bruises     odor  \\\n",
       "0     poisonous    convex      smooth     brown     yes  pungent   \n",
       "1        edible    convex      smooth    yellow     yes   almond   \n",
       "2        edible      bell      smooth     white     yes    anise   \n",
       "3     poisonous    convex       scaly     white     yes  pungent   \n",
       "4        edible    convex      smooth      gray      no     none   \n",
       "...         ...       ...         ...       ...     ...      ...   \n",
       "8119     edible   knobbed      smooth     brown      no     none   \n",
       "8120     edible    convex      smooth     brown      no     none   \n",
       "8121     edible      flat      smooth     brown      no     none   \n",
       "8122  poisonous   knobbed       scaly     brown      no    fishy   \n",
       "8123     edible    convex      smooth     brown      no     none   \n",
       "\n",
       "     gill-attachment gill-spacing gill-size gill-color stalk-shape stalk-root  \\\n",
       "0               free        close    narrow      black   enlarging      equal   \n",
       "1               free        close     broad      black   enlarging       club   \n",
       "2               free        close     broad      brown   enlarging       club   \n",
       "3               free        close    narrow      brown   enlarging      equal   \n",
       "4               free      crowded     broad      black    tapering      equal   \n",
       "...              ...          ...       ...        ...         ...        ...   \n",
       "8119        attached        close     broad     yellow   enlarging    unknown   \n",
       "8120        attached        close     broad     yellow   enlarging    unknown   \n",
       "8121        attached        close     broad      brown   enlarging    unknown   \n",
       "8122            free        close    narrow       buff    tapering    unknown   \n",
       "8123        attached        close     broad     yellow   enlarging    unknown   \n",
       "\n",
       "     stalk-surface-above-ring stalk-surface-below-ring veil-color  \\\n",
       "0                      smooth                   smooth      white   \n",
       "1                      smooth                   smooth      white   \n",
       "2                      smooth                   smooth      white   \n",
       "3                      smooth                   smooth      white   \n",
       "4                      smooth                   smooth      white   \n",
       "...                       ...                      ...        ...   \n",
       "8119                   smooth                   smooth     orange   \n",
       "8120                   smooth                   smooth      brown   \n",
       "8121                   smooth                   smooth     orange   \n",
       "8122                   smooth                    silky      white   \n",
       "8123                   smooth                   smooth     orange   \n",
       "\n",
       "      ring-number   ring-type spore-print-color population  habitat  \n",
       "0               1     pendant             black  scattered    urban  \n",
       "1               1     pendant             brown   numerous  grasses  \n",
       "2               1     pendant             brown   numerous  meadows  \n",
       "3               1     pendant             black  scattered    urban  \n",
       "4               1  evanescent             brown   abundant  grasses  \n",
       "...           ...         ...               ...        ...      ...  \n",
       "8119            1     pendant              buff  clustered   leaves  \n",
       "8120            1     pendant              buff    several   leaves  \n",
       "8121            1     pendant              buff  clustered   leaves  \n",
       "8122            1  evanescent             white    several   leaves  \n",
       "8123            1     pendant            orange  clustered   leaves  \n",
       "\n",
       "[8124 rows x 20 columns]"
      ]
     },
     "execution_count": 7,
     "metadata": {},
     "output_type": "execute_result"
    }
   ],
   "source": [
    "classification_data"
   ]
  },
  {
   "cell_type": "code",
   "execution_count": 8,
   "id": "eb442556",
   "metadata": {},
   "outputs": [
    {
     "data": {
      "text/plain": [
       "(8124, 20)"
      ]
     },
     "execution_count": 8,
     "metadata": {},
     "output_type": "execute_result"
    }
   ],
   "source": [
    "classification_data.shape"
   ]
  },
  {
   "cell_type": "code",
   "execution_count": 9,
   "id": "7fb1c2f5",
   "metadata": {},
   "outputs": [],
   "source": [
    "dep_var = 'edible'"
   ]
  },
  {
   "cell_type": "code",
   "execution_count": 10,
   "id": "fe1fef21",
   "metadata": {},
   "outputs": [],
   "source": [
    "X = classification_data.iloc[:,classification_data.columns != dep_var]"
   ]
  },
  {
   "cell_type": "code",
   "execution_count": 11,
   "id": "b3a556e6",
   "metadata": {},
   "outputs": [],
   "source": [
    "y = classification_data[dep_var]"
   ]
  },
  {
   "cell_type": "code",
   "execution_count": 12,
   "id": "a5f4b2e8",
   "metadata": {},
   "outputs": [
    {
     "data": {
      "text/plain": [
       "0       poisonous\n",
       "1          edible\n",
       "2          edible\n",
       "3       poisonous\n",
       "4          edible\n",
       "          ...    \n",
       "8119       edible\n",
       "8120       edible\n",
       "8121       edible\n",
       "8122    poisonous\n",
       "8123       edible\n",
       "Name: edible, Length: 8124, dtype: object"
      ]
     },
     "execution_count": 12,
     "metadata": {},
     "output_type": "execute_result"
    }
   ],
   "source": [
    "y"
   ]
  },
  {
   "cell_type": "code",
   "execution_count": 13,
   "id": "6fe4ac8a",
   "metadata": {},
   "outputs": [],
   "source": [
    "# Random 6-digit seed\n",
    "test_seed = 513370"
   ]
  },
  {
   "cell_type": "code",
   "execution_count": 14,
   "id": "7d452f5f",
   "metadata": {},
   "outputs": [],
   "source": [
    "X_train, X_test, y_train, y_test = train_test_split(X, y, test_size=0.20, random_state=test_seed, stratify=y)"
   ]
  },
  {
   "cell_type": "markdown",
   "id": "5a504bca",
   "metadata": {},
   "source": [
    "Initialise the dataframe that holds the results of the datasets"
   ]
  },
  {
   "cell_type": "code",
   "execution_count": 15,
   "id": "2bb2913e",
   "metadata": {},
   "outputs": [],
   "source": [
    "columns = ['task', 'model', 'seed', 'split', 'criterions', 'max_depth', 'min_samples_split', 'min_samples_leaf', 'max_features', 'train_accuracy', 'valid_accuracy', 'valid_precision', 'valid_recall', 'valid_f1_score', 'valid_auroc']\n",
    "decision_tree_classification_results_df = pd.DataFrame(columns=columns)\n",
    "df_rows = 0"
   ]
  },
  {
   "cell_type": "code",
   "execution_count": 16,
   "id": "2de0694e",
   "metadata": {},
   "outputs": [],
   "source": [
    "# 5 random 6 digit numbers\n",
    "seeds = [660108, 720389, 193768, 586930, 327407]"
   ]
  },
  {
   "cell_type": "markdown",
   "id": "77276259",
   "metadata": {},
   "source": [
    "Now we need to prepare our data and the cross-validation process so that we can start training."
   ]
  },
  {
   "cell_type": "code",
   "execution_count": 17,
   "id": "31403cde",
   "metadata": {
    "scrolled": true
   },
   "outputs": [
    {
     "name": "stdout",
     "output_type": "stream",
     "text": [
      "Starting training for seed 660108\n",
      "Done training for seed 660108\n",
      "Starting training for seed 720389\n",
      "Done training for seed 720389\n",
      "Starting training for seed 193768\n",
      "Done training for seed 193768\n",
      "Starting training for seed 586930\n",
      "Done training for seed 586930\n",
      "Starting training for seed 327407\n",
      "Done training for seed 327407\n"
     ]
    }
   ],
   "source": [
    "pd.options.mode.chained_assignment = None  # default='warn'\n",
    "# Cross-Validation Pipeline\n",
    "for seed in seeds:\n",
    "    print(f'Starting training for seed {seed}')\n",
    "    # assign the tuned parameters\n",
    "    split = 0\n",
    "    criterions = ['gini', 'entropy']\n",
    "    max_depths = [depth for depth in range(5, 65, 5)]\n",
    "    min_samples_splits = [2, 3, 4]\n",
    "    min_samples_leaves = [8, 10, 12]\n",
    "    max_features_n = ['auto', 'sqrt', 'log2']\n",
    "    \n",
    "    X_train, X_test, y_train, y_test = train_test_split(X, y, test_size=0.20, random_state=seed, stratify=y)\n",
    "    for train_index, valid_index in KFold(n_splits=5, shuffle=False).split(X_train):\n",
    "        # Data Split\n",
    "        split += 1\n",
    "        X_train_curr_split = X_train.iloc[train_index]\n",
    "        X_valid_curr_split = X_train.iloc[valid_index]\n",
    "        y_train_curr_split = y_train.iloc[train_index]\n",
    "        y_valid_curr_split = y_train.iloc[valid_index]\n",
    "       \n",
    "        # Avoiding data leakage for input values\n",
    "        enc = preprocessing.OrdinalEncoder(handle_unknown='use_encoded_value', unknown_value=100)\n",
    "        X_train_curr_split = enc.fit_transform(X_train_curr_split)\n",
    "        X_valid_curr_split = enc.transform(X_valid_curr_split)\n",
    "        \n",
    "        # as output varaibles are stratified on, there is not any unknowon variable, therefore no possibility of data leakage\n",
    "        encoder_dict = {'edible': 1,\n",
    "                        'poisonous': 0}\n",
    "        # transform the output into the right format\n",
    "        y_train_curr_split = y_train_curr_split.replace(encoder_dict).values.flatten()\n",
    "        y_valid_curr_split = y_valid_curr_split.replace(encoder_dict).values.flatten()\n",
    "        for criterion in criterions:\n",
    "            for max_depth in max_depths:\n",
    "                for min_samples_split in min_samples_splits:\n",
    "                    for min_samples_leaf in min_samples_leaves:\n",
    "                        for max_features in max_features_n:\n",
    "                            pipe = make_pipeline(preprocessing.StandardScaler(), \n",
    "                                                 DecisionTreeClassifier(criterion=criterion,\n",
    "                                                                        max_depth=max_depth,\n",
    "                                                                        min_samples_split=min_samples_split,\n",
    "                                                                        min_samples_leaf=min_samples_leaf,\n",
    "                                                                        max_features=max_features,\n",
    "                                                                        random_state=seed\n",
    "                                                                       )\n",
    "                                                )\n",
    "                            # train the model\n",
    "                            pipe.fit(X_train_curr_split, y_train_curr_split) \n",
    "                            # Obtain metric scores\n",
    "                            valid_predictions = pipe.predict(X_valid_curr_split)\n",
    "                            valid_prec_score = precision_score(y_valid_curr_split, valid_predictions)\n",
    "                            valid_rec_score = recall_score(y_valid_curr_split, valid_predictions)\n",
    "                            valid_f1_score = f1_score(y_valid_curr_split, valid_predictions)\n",
    "                            fpr, tpr, threshold = roc_curve(y_valid_curr_split, valid_predictions)\n",
    "                            valid_auroc = auc(fpr, tpr)\n",
    "                            valid_accuracy = pipe.score(X_valid_curr_split, y_valid_curr_split)\n",
    "                            train_accuracy = pipe.score(X_train_curr_split, y_train_curr_split)\n",
    "                            decision_tree_classification_results_df.loc[df_rows] = ['classification', \n",
    "                                                                                    'decision tree', \n",
    "                                                                                    seed,\n",
    "                                                                                    split,\n",
    "                                                                                    criterion,\n",
    "                                                                                    max_depth,\n",
    "                                                                                    min_samples_split,\n",
    "                                                                                    min_samples_leaf,\n",
    "                                                                                    max_features,\n",
    "                                                                                    train_accuracy,\n",
    "                                                                                    valid_accuracy,\n",
    "                                                                                    valid_prec_score,\n",
    "                                                                                    valid_rec_score,\n",
    "                                                                                    valid_f1_score,\n",
    "                                                                                    valid_auroc]\n",
    "                            # increment the rows variable\n",
    "                            df_rows +=1\n",
    "    print(f'Done training for seed {seed}')     "
   ]
  },
  {
   "cell_type": "code",
   "execution_count": 17,
   "id": "e136cbc9",
   "metadata": {},
   "outputs": [],
   "source": [
    "def group_seeded_data(data, groupby_columns, droped_cols=['seed', 'split']):\n",
    "    grouped_data = data.groupby(groupby_columns).agg('mean').reset_index().drop(droped_cols, axis=1)\n",
    "    return grouped_data"
   ]
  },
  {
   "cell_type": "code",
   "execution_count": 16,
   "id": "51bddc07",
   "metadata": {},
   "outputs": [
    {
     "data": {
      "text/html": [
       "<div>\n",
       "<style scoped>\n",
       "    .dataframe tbody tr th:only-of-type {\n",
       "        vertical-align: middle;\n",
       "    }\n",
       "\n",
       "    .dataframe tbody tr th {\n",
       "        vertical-align: top;\n",
       "    }\n",
       "\n",
       "    .dataframe thead th {\n",
       "        text-align: right;\n",
       "    }\n",
       "</style>\n",
       "<table border=\"1\" class=\"dataframe\">\n",
       "  <thead>\n",
       "    <tr style=\"text-align: right;\">\n",
       "      <th></th>\n",
       "      <th>task</th>\n",
       "      <th>model</th>\n",
       "      <th>seed</th>\n",
       "      <th>split</th>\n",
       "      <th>criterions</th>\n",
       "      <th>max_depth</th>\n",
       "      <th>min_samples_split</th>\n",
       "      <th>min_samples_leaf</th>\n",
       "      <th>max_features</th>\n",
       "      <th>train_accuracy</th>\n",
       "      <th>valid_accuracy</th>\n",
       "      <th>valid_precision</th>\n",
       "      <th>valid_recall</th>\n",
       "      <th>valid_f1_score</th>\n",
       "      <th>valid_auroc</th>\n",
       "    </tr>\n",
       "  </thead>\n",
       "  <tbody>\n",
       "    <tr>\n",
       "      <th>0</th>\n",
       "      <td>classification</td>\n",
       "      <td>decision tree</td>\n",
       "      <td>660108</td>\n",
       "      <td>1</td>\n",
       "      <td>gini</td>\n",
       "      <td>5</td>\n",
       "      <td>2</td>\n",
       "      <td>8</td>\n",
       "      <td>auto</td>\n",
       "      <td>0.982497</td>\n",
       "      <td>0.976923</td>\n",
       "      <td>0.98538</td>\n",
       "      <td>0.971182</td>\n",
       "      <td>0.978229</td>\n",
       "      <td>0.977340</td>\n",
       "    </tr>\n",
       "    <tr>\n",
       "      <th>1</th>\n",
       "      <td>classification</td>\n",
       "      <td>decision tree</td>\n",
       "      <td>660108</td>\n",
       "      <td>1</td>\n",
       "      <td>gini</td>\n",
       "      <td>5</td>\n",
       "      <td>2</td>\n",
       "      <td>8</td>\n",
       "      <td>sqrt</td>\n",
       "      <td>0.982497</td>\n",
       "      <td>0.976923</td>\n",
       "      <td>0.98538</td>\n",
       "      <td>0.971182</td>\n",
       "      <td>0.978229</td>\n",
       "      <td>0.977340</td>\n",
       "    </tr>\n",
       "    <tr>\n",
       "      <th>2</th>\n",
       "      <td>classification</td>\n",
       "      <td>decision tree</td>\n",
       "      <td>660108</td>\n",
       "      <td>1</td>\n",
       "      <td>gini</td>\n",
       "      <td>5</td>\n",
       "      <td>2</td>\n",
       "      <td>8</td>\n",
       "      <td>log2</td>\n",
       "      <td>0.982497</td>\n",
       "      <td>0.976923</td>\n",
       "      <td>0.98538</td>\n",
       "      <td>0.971182</td>\n",
       "      <td>0.978229</td>\n",
       "      <td>0.977340</td>\n",
       "    </tr>\n",
       "    <tr>\n",
       "      <th>3</th>\n",
       "      <td>classification</td>\n",
       "      <td>decision tree</td>\n",
       "      <td>660108</td>\n",
       "      <td>1</td>\n",
       "      <td>gini</td>\n",
       "      <td>5</td>\n",
       "      <td>2</td>\n",
       "      <td>10</td>\n",
       "      <td>auto</td>\n",
       "      <td>0.982497</td>\n",
       "      <td>0.976923</td>\n",
       "      <td>0.98538</td>\n",
       "      <td>0.971182</td>\n",
       "      <td>0.978229</td>\n",
       "      <td>0.977340</td>\n",
       "    </tr>\n",
       "    <tr>\n",
       "      <th>4</th>\n",
       "      <td>classification</td>\n",
       "      <td>decision tree</td>\n",
       "      <td>660108</td>\n",
       "      <td>1</td>\n",
       "      <td>gini</td>\n",
       "      <td>5</td>\n",
       "      <td>2</td>\n",
       "      <td>10</td>\n",
       "      <td>sqrt</td>\n",
       "      <td>0.982497</td>\n",
       "      <td>0.976923</td>\n",
       "      <td>0.98538</td>\n",
       "      <td>0.971182</td>\n",
       "      <td>0.978229</td>\n",
       "      <td>0.977340</td>\n",
       "    </tr>\n",
       "    <tr>\n",
       "      <th>...</th>\n",
       "      <td>...</td>\n",
       "      <td>...</td>\n",
       "      <td>...</td>\n",
       "      <td>...</td>\n",
       "      <td>...</td>\n",
       "      <td>...</td>\n",
       "      <td>...</td>\n",
       "      <td>...</td>\n",
       "      <td>...</td>\n",
       "      <td>...</td>\n",
       "      <td>...</td>\n",
       "      <td>...</td>\n",
       "      <td>...</td>\n",
       "      <td>...</td>\n",
       "      <td>...</td>\n",
       "    </tr>\n",
       "    <tr>\n",
       "      <th>16195</th>\n",
       "      <td>classification</td>\n",
       "      <td>decision tree</td>\n",
       "      <td>327407</td>\n",
       "      <td>5</td>\n",
       "      <td>entropy</td>\n",
       "      <td>60</td>\n",
       "      <td>4</td>\n",
       "      <td>10</td>\n",
       "      <td>sqrt</td>\n",
       "      <td>0.996154</td>\n",
       "      <td>0.998460</td>\n",
       "      <td>0.99701</td>\n",
       "      <td>1.000000</td>\n",
       "      <td>0.998503</td>\n",
       "      <td>0.998418</td>\n",
       "    </tr>\n",
       "    <tr>\n",
       "      <th>16196</th>\n",
       "      <td>classification</td>\n",
       "      <td>decision tree</td>\n",
       "      <td>327407</td>\n",
       "      <td>5</td>\n",
       "      <td>entropy</td>\n",
       "      <td>60</td>\n",
       "      <td>4</td>\n",
       "      <td>10</td>\n",
       "      <td>log2</td>\n",
       "      <td>0.996154</td>\n",
       "      <td>0.998460</td>\n",
       "      <td>0.99701</td>\n",
       "      <td>1.000000</td>\n",
       "      <td>0.998503</td>\n",
       "      <td>0.998418</td>\n",
       "    </tr>\n",
       "    <tr>\n",
       "      <th>16197</th>\n",
       "      <td>classification</td>\n",
       "      <td>decision tree</td>\n",
       "      <td>327407</td>\n",
       "      <td>5</td>\n",
       "      <td>entropy</td>\n",
       "      <td>60</td>\n",
       "      <td>4</td>\n",
       "      <td>12</td>\n",
       "      <td>auto</td>\n",
       "      <td>0.996154</td>\n",
       "      <td>0.998460</td>\n",
       "      <td>0.99701</td>\n",
       "      <td>1.000000</td>\n",
       "      <td>0.998503</td>\n",
       "      <td>0.998418</td>\n",
       "    </tr>\n",
       "    <tr>\n",
       "      <th>16198</th>\n",
       "      <td>classification</td>\n",
       "      <td>decision tree</td>\n",
       "      <td>327407</td>\n",
       "      <td>5</td>\n",
       "      <td>entropy</td>\n",
       "      <td>60</td>\n",
       "      <td>4</td>\n",
       "      <td>12</td>\n",
       "      <td>sqrt</td>\n",
       "      <td>0.996154</td>\n",
       "      <td>0.998460</td>\n",
       "      <td>0.99701</td>\n",
       "      <td>1.000000</td>\n",
       "      <td>0.998503</td>\n",
       "      <td>0.998418</td>\n",
       "    </tr>\n",
       "    <tr>\n",
       "      <th>16199</th>\n",
       "      <td>classification</td>\n",
       "      <td>decision tree</td>\n",
       "      <td>327407</td>\n",
       "      <td>5</td>\n",
       "      <td>entropy</td>\n",
       "      <td>60</td>\n",
       "      <td>4</td>\n",
       "      <td>12</td>\n",
       "      <td>log2</td>\n",
       "      <td>0.996154</td>\n",
       "      <td>0.998460</td>\n",
       "      <td>0.99701</td>\n",
       "      <td>1.000000</td>\n",
       "      <td>0.998503</td>\n",
       "      <td>0.998418</td>\n",
       "    </tr>\n",
       "  </tbody>\n",
       "</table>\n",
       "<p>16200 rows × 15 columns</p>\n",
       "</div>"
      ],
      "text/plain": [
       "                 task          model    seed  split criterions  max_depth  \\\n",
       "0      classification  decision tree  660108      1       gini          5   \n",
       "1      classification  decision tree  660108      1       gini          5   \n",
       "2      classification  decision tree  660108      1       gini          5   \n",
       "3      classification  decision tree  660108      1       gini          5   \n",
       "4      classification  decision tree  660108      1       gini          5   \n",
       "...               ...            ...     ...    ...        ...        ...   \n",
       "16195  classification  decision tree  327407      5    entropy         60   \n",
       "16196  classification  decision tree  327407      5    entropy         60   \n",
       "16197  classification  decision tree  327407      5    entropy         60   \n",
       "16198  classification  decision tree  327407      5    entropy         60   \n",
       "16199  classification  decision tree  327407      5    entropy         60   \n",
       "\n",
       "       min_samples_split  min_samples_leaf max_features  train_accuracy  \\\n",
       "0                      2                 8         auto        0.982497   \n",
       "1                      2                 8         sqrt        0.982497   \n",
       "2                      2                 8         log2        0.982497   \n",
       "3                      2                10         auto        0.982497   \n",
       "4                      2                10         sqrt        0.982497   \n",
       "...                  ...               ...          ...             ...   \n",
       "16195                  4                10         sqrt        0.996154   \n",
       "16196                  4                10         log2        0.996154   \n",
       "16197                  4                12         auto        0.996154   \n",
       "16198                  4                12         sqrt        0.996154   \n",
       "16199                  4                12         log2        0.996154   \n",
       "\n",
       "       valid_accuracy  valid_precision  valid_recall  valid_f1_score  \\\n",
       "0            0.976923          0.98538      0.971182        0.978229   \n",
       "1            0.976923          0.98538      0.971182        0.978229   \n",
       "2            0.976923          0.98538      0.971182        0.978229   \n",
       "3            0.976923          0.98538      0.971182        0.978229   \n",
       "4            0.976923          0.98538      0.971182        0.978229   \n",
       "...               ...              ...           ...             ...   \n",
       "16195        0.998460          0.99701      1.000000        0.998503   \n",
       "16196        0.998460          0.99701      1.000000        0.998503   \n",
       "16197        0.998460          0.99701      1.000000        0.998503   \n",
       "16198        0.998460          0.99701      1.000000        0.998503   \n",
       "16199        0.998460          0.99701      1.000000        0.998503   \n",
       "\n",
       "       valid_auroc  \n",
       "0         0.977340  \n",
       "1         0.977340  \n",
       "2         0.977340  \n",
       "3         0.977340  \n",
       "4         0.977340  \n",
       "...            ...  \n",
       "16195     0.998418  \n",
       "16196     0.998418  \n",
       "16197     0.998418  \n",
       "16198     0.998418  \n",
       "16199     0.998418  \n",
       "\n",
       "[16200 rows x 15 columns]"
      ]
     },
     "execution_count": 16,
     "metadata": {},
     "output_type": "execute_result"
    }
   ],
   "source": [
    "decision_tree_classification_results_df"
   ]
  },
  {
   "cell_type": "code",
   "execution_count": 20,
   "id": "68094245",
   "metadata": {},
   "outputs": [],
   "source": [
    "pd.options.mode.chained_assignment = 'warn'"
   ]
  },
  {
   "cell_type": "code",
   "execution_count": 21,
   "id": "4612dedb",
   "metadata": {},
   "outputs": [],
   "source": [
    "decision_tree_classification_results_df.to_csv(results_dir + 'decision_tree_classification_results_df.csv')"
   ]
  },
  {
   "cell_type": "markdown",
   "id": "473424e9",
   "metadata": {},
   "source": [
    "Aggregate the values so that we average the results for each random seed"
   ]
  },
  {
   "cell_type": "code",
   "execution_count": 18,
   "id": "d7db0b32",
   "metadata": {},
   "outputs": [],
   "source": [
    "grouped_decision_tree_classification_results_df = group_seeded_data(decision_tree_classification_results_df, \n",
    "                                                                    ['criterions', 'max_depth', 'min_samples_split', 'min_samples_leaf', 'max_features'],\n",
    "                                                                   )"
   ]
  },
  {
   "cell_type": "code",
   "execution_count": 19,
   "id": "291a0296",
   "metadata": {},
   "outputs": [
    {
     "data": {
      "text/html": [
       "<div>\n",
       "<style scoped>\n",
       "    .dataframe tbody tr th:only-of-type {\n",
       "        vertical-align: middle;\n",
       "    }\n",
       "\n",
       "    .dataframe tbody tr th {\n",
       "        vertical-align: top;\n",
       "    }\n",
       "\n",
       "    .dataframe thead th {\n",
       "        text-align: right;\n",
       "    }\n",
       "</style>\n",
       "<table border=\"1\" class=\"dataframe\">\n",
       "  <thead>\n",
       "    <tr style=\"text-align: right;\">\n",
       "      <th></th>\n",
       "      <th>criterions</th>\n",
       "      <th>max_depth</th>\n",
       "      <th>min_samples_split</th>\n",
       "      <th>min_samples_leaf</th>\n",
       "      <th>max_features</th>\n",
       "      <th>train_accuracy</th>\n",
       "      <th>valid_accuracy</th>\n",
       "      <th>valid_precision</th>\n",
       "      <th>valid_recall</th>\n",
       "      <th>valid_f1_score</th>\n",
       "      <th>valid_auroc</th>\n",
       "    </tr>\n",
       "  </thead>\n",
       "  <tbody>\n",
       "    <tr>\n",
       "      <th>0</th>\n",
       "      <td>entropy</td>\n",
       "      <td>5</td>\n",
       "      <td>2</td>\n",
       "      <td>8</td>\n",
       "      <td>auto</td>\n",
       "      <td>0.988698</td>\n",
       "      <td>0.988306</td>\n",
       "      <td>0.993217</td>\n",
       "      <td>0.984228</td>\n",
       "      <td>0.988648</td>\n",
       "      <td>0.988478</td>\n",
       "    </tr>\n",
       "    <tr>\n",
       "      <th>1</th>\n",
       "      <td>entropy</td>\n",
       "      <td>5</td>\n",
       "      <td>2</td>\n",
       "      <td>8</td>\n",
       "      <td>log2</td>\n",
       "      <td>0.988698</td>\n",
       "      <td>0.988306</td>\n",
       "      <td>0.993217</td>\n",
       "      <td>0.984228</td>\n",
       "      <td>0.988648</td>\n",
       "      <td>0.988478</td>\n",
       "    </tr>\n",
       "    <tr>\n",
       "      <th>2</th>\n",
       "      <td>entropy</td>\n",
       "      <td>5</td>\n",
       "      <td>2</td>\n",
       "      <td>8</td>\n",
       "      <td>sqrt</td>\n",
       "      <td>0.988698</td>\n",
       "      <td>0.988306</td>\n",
       "      <td>0.993217</td>\n",
       "      <td>0.984228</td>\n",
       "      <td>0.988648</td>\n",
       "      <td>0.988478</td>\n",
       "    </tr>\n",
       "    <tr>\n",
       "      <th>3</th>\n",
       "      <td>entropy</td>\n",
       "      <td>5</td>\n",
       "      <td>2</td>\n",
       "      <td>10</td>\n",
       "      <td>auto</td>\n",
       "      <td>0.986221</td>\n",
       "      <td>0.985906</td>\n",
       "      <td>0.991051</td>\n",
       "      <td>0.981746</td>\n",
       "      <td>0.986321</td>\n",
       "      <td>0.986079</td>\n",
       "    </tr>\n",
       "    <tr>\n",
       "      <th>4</th>\n",
       "      <td>entropy</td>\n",
       "      <td>5</td>\n",
       "      <td>2</td>\n",
       "      <td>10</td>\n",
       "      <td>log2</td>\n",
       "      <td>0.986221</td>\n",
       "      <td>0.985906</td>\n",
       "      <td>0.991051</td>\n",
       "      <td>0.981746</td>\n",
       "      <td>0.986321</td>\n",
       "      <td>0.986079</td>\n",
       "    </tr>\n",
       "    <tr>\n",
       "      <th>...</th>\n",
       "      <td>...</td>\n",
       "      <td>...</td>\n",
       "      <td>...</td>\n",
       "      <td>...</td>\n",
       "      <td>...</td>\n",
       "      <td>...</td>\n",
       "      <td>...</td>\n",
       "      <td>...</td>\n",
       "      <td>...</td>\n",
       "      <td>...</td>\n",
       "      <td>...</td>\n",
       "    </tr>\n",
       "    <tr>\n",
       "      <th>643</th>\n",
       "      <td>gini</td>\n",
       "      <td>60</td>\n",
       "      <td>4</td>\n",
       "      <td>10</td>\n",
       "      <td>log2</td>\n",
       "      <td>0.996684</td>\n",
       "      <td>0.995907</td>\n",
       "      <td>0.995836</td>\n",
       "      <td>0.996234</td>\n",
       "      <td>0.996027</td>\n",
       "      <td>0.995897</td>\n",
       "    </tr>\n",
       "    <tr>\n",
       "      <th>644</th>\n",
       "      <td>gini</td>\n",
       "      <td>60</td>\n",
       "      <td>4</td>\n",
       "      <td>10</td>\n",
       "      <td>sqrt</td>\n",
       "      <td>0.996684</td>\n",
       "      <td>0.995907</td>\n",
       "      <td>0.995836</td>\n",
       "      <td>0.996234</td>\n",
       "      <td>0.996027</td>\n",
       "      <td>0.995897</td>\n",
       "    </tr>\n",
       "    <tr>\n",
       "      <th>645</th>\n",
       "      <td>gini</td>\n",
       "      <td>60</td>\n",
       "      <td>4</td>\n",
       "      <td>12</td>\n",
       "      <td>auto</td>\n",
       "      <td>0.996276</td>\n",
       "      <td>0.995291</td>\n",
       "      <td>0.995859</td>\n",
       "      <td>0.995037</td>\n",
       "      <td>0.995437</td>\n",
       "      <td>0.995278</td>\n",
       "    </tr>\n",
       "    <tr>\n",
       "      <th>646</th>\n",
       "      <td>gini</td>\n",
       "      <td>60</td>\n",
       "      <td>4</td>\n",
       "      <td>12</td>\n",
       "      <td>log2</td>\n",
       "      <td>0.996276</td>\n",
       "      <td>0.995291</td>\n",
       "      <td>0.995859</td>\n",
       "      <td>0.995037</td>\n",
       "      <td>0.995437</td>\n",
       "      <td>0.995278</td>\n",
       "    </tr>\n",
       "    <tr>\n",
       "      <th>647</th>\n",
       "      <td>gini</td>\n",
       "      <td>60</td>\n",
       "      <td>4</td>\n",
       "      <td>12</td>\n",
       "      <td>sqrt</td>\n",
       "      <td>0.996276</td>\n",
       "      <td>0.995291</td>\n",
       "      <td>0.995859</td>\n",
       "      <td>0.995037</td>\n",
       "      <td>0.995437</td>\n",
       "      <td>0.995278</td>\n",
       "    </tr>\n",
       "  </tbody>\n",
       "</table>\n",
       "<p>648 rows × 11 columns</p>\n",
       "</div>"
      ],
      "text/plain": [
       "    criterions  max_depth  min_samples_split  min_samples_leaf max_features  \\\n",
       "0      entropy          5                  2                 8         auto   \n",
       "1      entropy          5                  2                 8         log2   \n",
       "2      entropy          5                  2                 8         sqrt   \n",
       "3      entropy          5                  2                10         auto   \n",
       "4      entropy          5                  2                10         log2   \n",
       "..         ...        ...                ...               ...          ...   \n",
       "643       gini         60                  4                10         log2   \n",
       "644       gini         60                  4                10         sqrt   \n",
       "645       gini         60                  4                12         auto   \n",
       "646       gini         60                  4                12         log2   \n",
       "647       gini         60                  4                12         sqrt   \n",
       "\n",
       "     train_accuracy  valid_accuracy  valid_precision  valid_recall  \\\n",
       "0          0.988698        0.988306         0.993217      0.984228   \n",
       "1          0.988698        0.988306         0.993217      0.984228   \n",
       "2          0.988698        0.988306         0.993217      0.984228   \n",
       "3          0.986221        0.985906         0.991051      0.981746   \n",
       "4          0.986221        0.985906         0.991051      0.981746   \n",
       "..              ...             ...              ...           ...   \n",
       "643        0.996684        0.995907         0.995836      0.996234   \n",
       "644        0.996684        0.995907         0.995836      0.996234   \n",
       "645        0.996276        0.995291         0.995859      0.995037   \n",
       "646        0.996276        0.995291         0.995859      0.995037   \n",
       "647        0.996276        0.995291         0.995859      0.995037   \n",
       "\n",
       "     valid_f1_score  valid_auroc  \n",
       "0          0.988648     0.988478  \n",
       "1          0.988648     0.988478  \n",
       "2          0.988648     0.988478  \n",
       "3          0.986321     0.986079  \n",
       "4          0.986321     0.986079  \n",
       "..              ...          ...  \n",
       "643        0.996027     0.995897  \n",
       "644        0.996027     0.995897  \n",
       "645        0.995437     0.995278  \n",
       "646        0.995437     0.995278  \n",
       "647        0.995437     0.995278  \n",
       "\n",
       "[648 rows x 11 columns]"
      ]
     },
     "execution_count": 19,
     "metadata": {},
     "output_type": "execute_result"
    }
   ],
   "source": [
    "grouped_decision_tree_classification_results_df"
   ]
  },
  {
   "cell_type": "code",
   "execution_count": 23,
   "id": "cdb965fd",
   "metadata": {},
   "outputs": [],
   "source": [
    "grouped_decision_tree_classification_results_df.to_csv(results_dir + 'grouped_decision_tree_classification_results_df.csv')"
   ]
  },
  {
   "cell_type": "markdown",
   "id": "1c42ddb2",
   "metadata": {},
   "source": [
    "## Functions"
   ]
  },
  {
   "cell_type": "code",
   "execution_count": 20,
   "id": "6caad731",
   "metadata": {},
   "outputs": [],
   "source": [
    "def plot_train_test_accuracy(data, by_column='max_depth', title='Line Graph', title_size=25, axes_size=15, tick_size=12, acc = 'valid_accuracy'):\n",
    "    grouped_data = data.groupby([by_column]).agg(train_accuracy=('train_accuracy', 'mean'),\n",
    "                                                 valid_accuracy=('valid_accuracy', 'mean')).reset_index()\n",
    "\n",
    "    fig, ax = plt.subplots(figsize=(10, 5))\n",
    "    plt.plot(grouped_data[by_column],\n",
    "             grouped_data['train_accuracy'], \n",
    "             label = 'train_accuracy')\n",
    "    plt.plot(grouped_data[by_column],\n",
    "             grouped_data['valid_accuracy'], \n",
    "             label = 'valid_accuracy')\n",
    "    plt.legend()\n",
    "    acc_label = acc.split('_')[0]\n",
    "    fig.suptitle(title + f' for valid and train accuracies', fontsize=title_size,  y=1.02)\n",
    "    ax.set_xlabel('Max depth', fontsize=axes_size)\n",
    "    ax.set_ylabel('Accuracy'.capitalize(), fontsize=axes_size)\n",
    "    ax.tick_params(axis='x', which='major', labelsize=tick_size, labelrotation=90)\n",
    "    ax.tick_params(axis='y', which='major', labelsize=tick_size)\n",
    "    plt.show()"
   ]
  },
  {
   "cell_type": "code",
   "execution_count": 21,
   "id": "bac378f5",
   "metadata": {},
   "outputs": [],
   "source": [
    "def plot_bar_for_criterion(data, criterion_type, title='Bar Graph', title_size=25, axes_size=15, tick_size=12, acc = 'valid_accuracy'):\n",
    "    data_criterion = data[data['criterions'] == criterion_type].copy()\n",
    "    grouped_data = data_criterion.groupby(['min_samples_split', 'min_samples_leaf', 'max_features']).agg(train_accuracy=('train_accuracy', 'mean'),\n",
    "                                                                                                         valid_accuracy=('valid_accuracy', 'mean'),\n",
    "                                                                                                         valid_precision=('valid_precision', 'mean'),\n",
    "                                                                                                         valid_recall=('valid_recall', 'mean'),\n",
    "                                                                                                         valid_f1_score=('valid_f1_score', 'mean'),\n",
    "                                                                                                         valid_auroc=('valid_auroc', 'mean')).reset_index()\n",
    "    fig, ax = plt.subplots(figsize=(10, 5))\n",
    "    labels = []\n",
    "    for row in grouped_data.index:\n",
    "        label = str(grouped_data.loc[row, 'min_samples_split']) + '_' + str(grouped_data.loc[row, 'min_samples_leaf']) + '_' + str(grouped_data.loc[row, 'max_features'])\n",
    "        labels.append(label)\n",
    "    plt.bar([row for row in grouped_data.index],\n",
    "            grouped_data.loc[:, acc], \n",
    "            tick_label = labels)\n",
    "    acc_label = acc.split('_')[0]\n",
    "    fig.suptitle(title + f' for {criterion_type} criterion with {acc} as values', fontsize=title_size,  y=1.02)\n",
    "    ax.set_xlabel('min_samples_split, min_samples_leaf, max_features', fontsize=axes_size)\n",
    "    ax.set_ylabel(f'{acc_label} accuracy'.capitalize(), fontsize=axes_size)\n",
    "    ax.tick_params(axis='x', which='major', labelsize=tick_size, labelrotation=90)\n",
    "    ax.tick_params(axis='y', which='major', labelsize=tick_size)\n",
    "    plt.show()"
   ]
  },
  {
   "cell_type": "code",
   "execution_count": 23,
   "id": "08fa117d",
   "metadata": {},
   "outputs": [],
   "source": [
    "def plot_line(data, x_column='C', groupby_column = 'penalty', title='Line graph', title_size=25, axes_size=15, tick_size=12, acc = 'valid_accuracy'):\n",
    "    grouped_data = data.groupby([x_column, groupby_column]).agg(acc=(acc, 'mean')).reset_index()\n",
    "\n",
    "    fig, ax = plt.subplots(figsize=(10, 5))\n",
    "    for feat in grouped_data[groupby_column].unique():\n",
    "        feat_data = grouped_data[grouped_data[groupby_column]==feat].copy()\n",
    "        X = feat_data[x_column]\n",
    "        y = feat_data['acc'].copy()\n",
    "        plt.plot(X, y, label=f'{groupby_column}_{feat}')\n",
    "    \n",
    "    acc_label = acc\n",
    "    fig.legend(bbox_to_anchor=(0.9, 0.9))\n",
    "    fig.suptitle(title + f' for {acc} change in regards to {x_column} for each value of {groupby_column}', fontsize=title_size,  y=1.02)\n",
    "    ax.set_xlabel(f'{x_column}', fontsize=axes_size)\n",
    "    ax.set_ylabel(f'{acc_label}'.capitalize(), fontsize=axes_size)\n",
    "    ax.set_xticks(grouped_data[x_column].unique())  # Set label locations.\n",
    "    ax.tick_params(axis='x', which='major', labelsize=tick_size)\n",
    "    ax.tick_params(axis='y', which='major', labelsize=tick_size)\n",
    "    plt.show()"
   ]
  },
  {
   "cell_type": "code",
   "execution_count": 58,
   "id": "b4c10595",
   "metadata": {},
   "outputs": [],
   "source": [
    "def plot_conf_matrix(y_test, test_predictions, tick_size=12):\n",
    "    conf_matrix = confusion_matrix(y_test, test_predictions)\n",
    "    fig, ax = plt.subplots(figsize=(15, 10))\n",
    "    sns.heatmap(conf_matrix, annot=True,linewidths=0.5,linecolor=\"red\", fmt=\".0f\")\n",
    "    plt.xlabel(\"Predicted\")\n",
    "    plt.ylabel(\"Actual\")\n",
    "    ax.tick_params(axis='x', which='major', labelsize=tick_size)\n",
    "    ax.tick_params(axis='y', which='major', labelsize=tick_size, labelrotation=90)\n",
    "    plt.show()"
   ]
  },
  {
   "cell_type": "markdown",
   "id": "2393df4b",
   "metadata": {},
   "source": [
    "## Overal results demonstration"
   ]
  },
  {
   "cell_type": "code",
   "execution_count": 28,
   "id": "558914be",
   "metadata": {},
   "outputs": [
    {
     "data": {
      "image/png": "[encoded data removed]",
      "text/plain": [
       "<Figure size 720x360 with 1 Axes>"
      ]
     },
     "metadata": {
      "needs_background": "light"
     },
     "output_type": "display_data"
    }
   ],
   "source": [
    "plot_train_test_accuracy(grouped_decision_tree_classification_results_df)"
   ]
  },
  {
   "cell_type": "markdown",
   "id": "bbd76929",
   "metadata": {},
   "source": [
    "There is a high risk of overfitting when an arbitrarily big number for max_depth is chosen. Although, there seems to be no need to use a tree which is deeper than 10 nodes, it does not seem to overfitt the training data."
   ]
  },
  {
   "cell_type": "code",
   "execution_count": 29,
   "id": "ed30eecf",
   "metadata": {
    "scrolled": true
   },
   "outputs": [
    {
     "data": {
      "image/png": "[encoded data removed]",
      "text/plain": [
       "<Figure size 720x360 with 1 Axes>"
      ]
     },
     "metadata": {
      "needs_background": "light"
     },
     "output_type": "display_data"
    },
    {
     "data": {
      "image/png": "[encoded data removed]",
      "text/plain": [
       "<Figure size 720x360 with 1 Axes>"
      ]
     },
     "metadata": {
      "needs_background": "light"
     },
     "output_type": "display_data"
    }
   ],
   "source": [
    "for criterion in decision_tree_classification_results_df.criterions.unique():\n",
    "    plot_bar_for_criterion(grouped_decision_tree_classification_results_df, criterion)"
   ]
  },
  {
   "cell_type": "code",
   "execution_count": 30,
   "id": "49098e61",
   "metadata": {
    "scrolled": true
   },
   "outputs": [
    {
     "data": {
      "image/png": "[encoded data removed]",
      "text/plain": [
       "<Figure size 720x360 with 1 Axes>"
      ]
     },
     "metadata": {
      "needs_background": "light"
     },
     "output_type": "display_data"
    },
    {
     "data": {
      "image/png": "[encoded data removed]",
      "text/plain": [
       "<Figure size 720x360 with 1 Axes>"
      ]
     },
     "metadata": {
      "needs_background": "light"
     },
     "output_type": "display_data"
    }
   ],
   "source": [
    "for criterion in decision_tree_classification_results_df.criterions.unique():\n",
    "    plot_bar_for_criterion(grouped_decision_tree_classification_results_df, criterion, acc='valid_recall')"
   ]
  },
  {
   "cell_type": "markdown",
   "id": "2ea97e23",
   "metadata": {},
   "source": [
    "It can be seen that simillarly to max_depth, the other hyperparameters have very little impact on the metrics measured on the validation set."
   ]
  },
  {
   "cell_type": "markdown",
   "id": "6f43339c",
   "metadata": {},
   "source": [
    "------------"
   ]
  },
  {
   "cell_type": "code",
   "execution_count": 33,
   "id": "c4536127",
   "metadata": {},
   "outputs": [
    {
     "data": {
      "image/png": "[encoded data removed]",
      "text/plain": [
       "<Figure size 720x360 with 1 Axes>"
      ]
     },
     "metadata": {
      "needs_background": "light"
     },
     "output_type": "display_data"
    }
   ],
   "source": [
    "plot_line(grouped_decision_tree_classification_results_df, x_column='max_depth', groupby_column='min_samples_leaf', acc='valid_precision')"
   ]
  },
  {
   "cell_type": "code",
   "execution_count": 34,
   "id": "bd2a32d8",
   "metadata": {},
   "outputs": [
    {
     "data": {
      "image/png": "[encoded data removed]",
      "text/plain": [
       "<Figure size 720x360 with 1 Axes>"
      ]
     },
     "metadata": {
      "needs_background": "light"
     },
     "output_type": "display_data"
    }
   ],
   "source": [
    "plot_line(grouped_decision_tree_classification_results_df, x_column='max_depth', groupby_column='min_samples_leaf', acc='valid_recall')"
   ]
  },
  {
   "cell_type": "code",
   "execution_count": 35,
   "id": "e7f0e53b",
   "metadata": {},
   "outputs": [
    {
     "data": {
      "image/png": "[encoded data removed]",
      "text/plain": [
       "<Figure size 720x360 with 1 Axes>"
      ]
     },
     "metadata": {
      "needs_background": "light"
     },
     "output_type": "display_data"
    }
   ],
   "source": [
    "plot_line(grouped_decision_tree_classification_results_df, x_column='max_depth', groupby_column='min_samples_leaf', acc='valid_accuracy')"
   ]
  },
  {
   "cell_type": "markdown",
   "id": "31a86f68",
   "metadata": {},
   "source": [
    "-----------------"
   ]
  },
  {
   "cell_type": "markdown",
   "id": "7289b3f7",
   "metadata": {},
   "source": [
    "As it was made clear in the EDA in the other notebook, data is distributed equally, therefore all of the above metrics are good model evaluators. However, when we are dealing with edible and poisonous mushrooms it is important to not mistake a poisonous for an edible mushroom (the opposite is not that important), therefore precision is the most important metric."
   ]
  },
  {
   "cell_type": "code",
   "execution_count": 44,
   "id": "ded610f0",
   "metadata": {},
   "outputs": [
    {
     "data": {
      "text/html": [
       "<div>\n",
       "<style scoped>\n",
       "    .dataframe tbody tr th:only-of-type {\n",
       "        vertical-align: middle;\n",
       "    }\n",
       "\n",
       "    .dataframe tbody tr th {\n",
       "        vertical-align: top;\n",
       "    }\n",
       "\n",
       "    .dataframe thead th {\n",
       "        text-align: right;\n",
       "    }\n",
       "</style>\n",
       "<table border=\"1\" class=\"dataframe\">\n",
       "  <thead>\n",
       "    <tr style=\"text-align: right;\">\n",
       "      <th></th>\n",
       "      <th>criterions</th>\n",
       "      <th>max_depth</th>\n",
       "      <th>min_samples_split</th>\n",
       "      <th>min_samples_leaf</th>\n",
       "      <th>max_features</th>\n",
       "      <th>train_accuracy</th>\n",
       "      <th>valid_accuracy</th>\n",
       "      <th>valid_precision</th>\n",
       "      <th>valid_recall</th>\n",
       "      <th>valid_f1_score</th>\n",
       "      <th>valid_auroc</th>\n",
       "    </tr>\n",
       "  </thead>\n",
       "  <tbody>\n",
       "    <tr>\n",
       "      <th>351</th>\n",
       "      <td>gini</td>\n",
       "      <td>10</td>\n",
       "      <td>2</td>\n",
       "      <td>8</td>\n",
       "      <td>auto</td>\n",
       "      <td>0.997707</td>\n",
       "      <td>0.997015</td>\n",
       "      <td>0.997514</td>\n",
       "      <td>0.996727</td>\n",
       "      <td>0.997112</td>\n",
       "      <td>0.997024</td>\n",
       "    </tr>\n",
       "    <tr>\n",
       "      <th>352</th>\n",
       "      <td>gini</td>\n",
       "      <td>10</td>\n",
       "      <td>2</td>\n",
       "      <td>8</td>\n",
       "      <td>log2</td>\n",
       "      <td>0.997707</td>\n",
       "      <td>0.997015</td>\n",
       "      <td>0.997514</td>\n",
       "      <td>0.996727</td>\n",
       "      <td>0.997112</td>\n",
       "      <td>0.997024</td>\n",
       "    </tr>\n",
       "    <tr>\n",
       "      <th>353</th>\n",
       "      <td>gini</td>\n",
       "      <td>10</td>\n",
       "      <td>2</td>\n",
       "      <td>8</td>\n",
       "      <td>sqrt</td>\n",
       "      <td>0.997707</td>\n",
       "      <td>0.997015</td>\n",
       "      <td>0.997514</td>\n",
       "      <td>0.996727</td>\n",
       "      <td>0.997112</td>\n",
       "      <td>0.997024</td>\n",
       "    </tr>\n",
       "    <tr>\n",
       "      <th>360</th>\n",
       "      <td>gini</td>\n",
       "      <td>10</td>\n",
       "      <td>3</td>\n",
       "      <td>8</td>\n",
       "      <td>auto</td>\n",
       "      <td>0.997707</td>\n",
       "      <td>0.997015</td>\n",
       "      <td>0.997514</td>\n",
       "      <td>0.996727</td>\n",
       "      <td>0.997112</td>\n",
       "      <td>0.997024</td>\n",
       "    </tr>\n",
       "    <tr>\n",
       "      <th>361</th>\n",
       "      <td>gini</td>\n",
       "      <td>10</td>\n",
       "      <td>3</td>\n",
       "      <td>8</td>\n",
       "      <td>log2</td>\n",
       "      <td>0.997707</td>\n",
       "      <td>0.997015</td>\n",
       "      <td>0.997514</td>\n",
       "      <td>0.996727</td>\n",
       "      <td>0.997112</td>\n",
       "      <td>0.997024</td>\n",
       "    </tr>\n",
       "    <tr>\n",
       "      <th>...</th>\n",
       "      <td>...</td>\n",
       "      <td>...</td>\n",
       "      <td>...</td>\n",
       "      <td>...</td>\n",
       "      <td>...</td>\n",
       "      <td>...</td>\n",
       "      <td>...</td>\n",
       "      <td>...</td>\n",
       "      <td>...</td>\n",
       "      <td>...</td>\n",
       "      <td>...</td>\n",
       "    </tr>\n",
       "    <tr>\n",
       "      <th>631</th>\n",
       "      <td>gini</td>\n",
       "      <td>60</td>\n",
       "      <td>3</td>\n",
       "      <td>8</td>\n",
       "      <td>log2</td>\n",
       "      <td>0.997707</td>\n",
       "      <td>0.997015</td>\n",
       "      <td>0.997514</td>\n",
       "      <td>0.996727</td>\n",
       "      <td>0.997112</td>\n",
       "      <td>0.997024</td>\n",
       "    </tr>\n",
       "    <tr>\n",
       "      <th>632</th>\n",
       "      <td>gini</td>\n",
       "      <td>60</td>\n",
       "      <td>3</td>\n",
       "      <td>8</td>\n",
       "      <td>sqrt</td>\n",
       "      <td>0.997707</td>\n",
       "      <td>0.997015</td>\n",
       "      <td>0.997514</td>\n",
       "      <td>0.996727</td>\n",
       "      <td>0.997112</td>\n",
       "      <td>0.997024</td>\n",
       "    </tr>\n",
       "    <tr>\n",
       "      <th>639</th>\n",
       "      <td>gini</td>\n",
       "      <td>60</td>\n",
       "      <td>4</td>\n",
       "      <td>8</td>\n",
       "      <td>auto</td>\n",
       "      <td>0.997707</td>\n",
       "      <td>0.997015</td>\n",
       "      <td>0.997514</td>\n",
       "      <td>0.996727</td>\n",
       "      <td>0.997112</td>\n",
       "      <td>0.997024</td>\n",
       "    </tr>\n",
       "    <tr>\n",
       "      <th>640</th>\n",
       "      <td>gini</td>\n",
       "      <td>60</td>\n",
       "      <td>4</td>\n",
       "      <td>8</td>\n",
       "      <td>log2</td>\n",
       "      <td>0.997707</td>\n",
       "      <td>0.997015</td>\n",
       "      <td>0.997514</td>\n",
       "      <td>0.996727</td>\n",
       "      <td>0.997112</td>\n",
       "      <td>0.997024</td>\n",
       "    </tr>\n",
       "    <tr>\n",
       "      <th>641</th>\n",
       "      <td>gini</td>\n",
       "      <td>60</td>\n",
       "      <td>4</td>\n",
       "      <td>8</td>\n",
       "      <td>sqrt</td>\n",
       "      <td>0.997707</td>\n",
       "      <td>0.997015</td>\n",
       "      <td>0.997514</td>\n",
       "      <td>0.996727</td>\n",
       "      <td>0.997112</td>\n",
       "      <td>0.997024</td>\n",
       "    </tr>\n",
       "  </tbody>\n",
       "</table>\n",
       "<p>99 rows × 11 columns</p>\n",
       "</div>"
      ],
      "text/plain": [
       "    criterions  max_depth  min_samples_split  min_samples_leaf max_features  \\\n",
       "351       gini         10                  2                 8         auto   \n",
       "352       gini         10                  2                 8         log2   \n",
       "353       gini         10                  2                 8         sqrt   \n",
       "360       gini         10                  3                 8         auto   \n",
       "361       gini         10                  3                 8         log2   \n",
       "..         ...        ...                ...               ...          ...   \n",
       "631       gini         60                  3                 8         log2   \n",
       "632       gini         60                  3                 8         sqrt   \n",
       "639       gini         60                  4                 8         auto   \n",
       "640       gini         60                  4                 8         log2   \n",
       "641       gini         60                  4                 8         sqrt   \n",
       "\n",
       "     train_accuracy  valid_accuracy  valid_precision  valid_recall  \\\n",
       "351        0.997707        0.997015         0.997514      0.996727   \n",
       "352        0.997707        0.997015         0.997514      0.996727   \n",
       "353        0.997707        0.997015         0.997514      0.996727   \n",
       "360        0.997707        0.997015         0.997514      0.996727   \n",
       "361        0.997707        0.997015         0.997514      0.996727   \n",
       "..              ...             ...              ...           ...   \n",
       "631        0.997707        0.997015         0.997514      0.996727   \n",
       "632        0.997707        0.997015         0.997514      0.996727   \n",
       "639        0.997707        0.997015         0.997514      0.996727   \n",
       "640        0.997707        0.997015         0.997514      0.996727   \n",
       "641        0.997707        0.997015         0.997514      0.996727   \n",
       "\n",
       "     valid_f1_score  valid_auroc  \n",
       "351        0.997112     0.997024  \n",
       "352        0.997112     0.997024  \n",
       "353        0.997112     0.997024  \n",
       "360        0.997112     0.997024  \n",
       "361        0.997112     0.997024  \n",
       "..              ...          ...  \n",
       "631        0.997112     0.997024  \n",
       "632        0.997112     0.997024  \n",
       "639        0.997112     0.997024  \n",
       "640        0.997112     0.997024  \n",
       "641        0.997112     0.997024  \n",
       "\n",
       "[99 rows x 11 columns]"
      ]
     },
     "execution_count": 44,
     "metadata": {},
     "output_type": "execute_result"
    }
   ],
   "source": [
    "grouped_decision_tree_classification_results_df[grouped_decision_tree_classification_results_df['valid_precision'] == grouped_decision_tree_classification_results_df['valid_precision'].max()]"
   ]
  },
  {
   "cell_type": "markdown",
   "id": "dd62f499",
   "metadata": {},
   "source": [
    "Now we need to save the best model and test it on the test data."
   ]
  },
  {
   "cell_type": "code",
   "execution_count": 47,
   "id": "88064531",
   "metadata": {},
   "outputs": [],
   "source": [
    "best_model = DecisionTreeClassifier(max_depth=10,\n",
    "                                    criterion = 'gini',\n",
    "                                    min_samples_split=2,\n",
    "                                    min_samples_leaf=8,\n",
    "                                    max_features='log2')"
   ]
  },
  {
   "cell_type": "code",
   "execution_count": 48,
   "id": "f8f4712f",
   "metadata": {},
   "outputs": [],
   "source": [
    "# Avoiding data leakage for input values\n",
    "enc = preprocessing.OrdinalEncoder(handle_unknown='use_encoded_value', unknown_value=100)\n",
    "X_train_enc = enc.fit_transform(X_train)\n",
    "X_test_enc = enc.transform(X_test)\n",
    "\n",
    "# as output varaibles are stratified on, there is not any unknowon variable, therefore no possibility of data leakage\n",
    "encoder_dict = {'edible': 1,\n",
    "                'poisonous': 0}\n",
    "# transform the output into the right format\n",
    "y_train_enc = y_train.replace(encoder_dict).values.flatten()\n",
    "y_test_enc = y_test.replace(encoder_dict).values.flatten()"
   ]
  },
  {
   "cell_type": "code",
   "execution_count": 49,
   "id": "7ac5ec86",
   "metadata": {},
   "outputs": [],
   "source": [
    "best_pipe = make_pipeline(preprocessing.StandardScaler(), \n",
    "                          best_model)"
   ]
  },
  {
   "cell_type": "markdown",
   "id": "c04bf3db",
   "metadata": {},
   "source": [
    "Train the model"
   ]
  },
  {
   "cell_type": "code",
   "execution_count": 50,
   "id": "7f53cfe6",
   "metadata": {},
   "outputs": [],
   "source": [
    "best_pipe = best_pipe.fit(X_train_enc, y_train_enc) "
   ]
  },
  {
   "cell_type": "markdown",
   "id": "d77fb1ce",
   "metadata": {},
   "source": [
    "# Obtain metric scores"
   ]
  },
  {
   "cell_type": "code",
   "execution_count": 51,
   "id": "afac6e08",
   "metadata": {},
   "outputs": [],
   "source": [
    "test_predictions = best_pipe.predict(X_test_enc)\n",
    "test_prec_score = precision_score(y_test_enc, test_predictions)\n",
    "test_rec_score = recall_score(y_test_enc, test_predictions)\n",
    "test_f1_score = f1_score(y_test_enc, test_predictions)\n",
    "fpr, tpr, threshold = roc_curve(y_test_enc, test_predictions)\n",
    "test_auroc = auc(fpr, tpr)\n",
    "test_accuracy = best_pipe.score(X_test_enc, y_test_enc)\n",
    "train_accuracy = best_pipe.score(X_train_enc, y_train_enc)"
   ]
  },
  {
   "cell_type": "markdown",
   "id": "b688925f",
   "metadata": {},
   "source": [
    "### Results on test set"
   ]
  },
  {
   "cell_type": "code",
   "execution_count": 52,
   "id": "9cd340ef",
   "metadata": {},
   "outputs": [
    {
     "name": "stdout",
     "output_type": "stream",
     "text": [
      "The predicion score on the test set for the best model is 1.0 \n",
      "\n"
     ]
    }
   ],
   "source": [
    "print(f\"The predicion score on the test set for the best model is {test_prec_score.round(3)} \\n\")"
   ]
  },
  {
   "cell_type": "code",
   "execution_count": 53,
   "id": "0ed6e925",
   "metadata": {},
   "outputs": [
    {
     "name": "stdout",
     "output_type": "stream",
     "text": [
      "The recall score on the test set for the best model is 1.0 \n",
      "\n"
     ]
    }
   ],
   "source": [
    "print(f\"The recall score on the test set for the best model is {test_rec_score.round(3)} \\n\")"
   ]
  },
  {
   "cell_type": "code",
   "execution_count": 54,
   "id": "79dae558",
   "metadata": {},
   "outputs": [
    {
     "name": "stdout",
     "output_type": "stream",
     "text": [
      "The f1-score on the test set for the best model is 1.0 \n",
      "\n"
     ]
    }
   ],
   "source": [
    "print(f\"The f1-score on the test set for the best model is {test_f1_score.round(3)} \\n\")"
   ]
  },
  {
   "cell_type": "code",
   "execution_count": 55,
   "id": "fafee854",
   "metadata": {},
   "outputs": [
    {
     "name": "stdout",
     "output_type": "stream",
     "text": [
      "The auroc score on the test set for the best model is 1.0 \n",
      "\n"
     ]
    }
   ],
   "source": [
    "print(f\"The auroc score on the test set for the best model is {test_auroc.round(3)} \\n\")"
   ]
  },
  {
   "cell_type": "code",
   "execution_count": 56,
   "id": "03528cd0",
   "metadata": {},
   "outputs": [
    {
     "name": "stdout",
     "output_type": "stream",
     "text": [
      "The accuracy on the test set for the best model is 1.0 \n",
      "\n"
     ]
    }
   ],
   "source": [
    "print(f\"The accuracy on the test set for the best model is {test_accuracy.round(3)} \\n\")"
   ]
  },
  {
   "cell_type": "code",
   "execution_count": 59,
   "id": "8b89a8c7",
   "metadata": {},
   "outputs": [
    {
     "data": {
      "image/png": "[encoded data removed]",
      "text/plain": [
       "<Figure size 1080x720 with 2 Axes>"
      ]
     },
     "metadata": {
      "needs_background": "light"
     },
     "output_type": "display_data"
    }
   ],
   "source": [
    "plot_conf_matrix(y_test_enc, test_predictions)"
   ]
  },
  {
   "cell_type": "markdown",
   "id": "4f2d881c",
   "metadata": {},
   "source": [
    "Save the model on disc"
   ]
  },
  {
   "cell_type": "code",
   "execution_count": 60,
   "id": "8f67aa3b",
   "metadata": {},
   "outputs": [],
   "source": [
    "pickle.dump(best_pipe, open(models_dir+model_name, 'wb'))"
   ]
  },
  {
   "cell_type": "markdown",
   "id": "80f4c3c8",
   "metadata": {},
   "source": [
    "Load the model from disk"
   ]
  },
  {
   "cell_type": "code",
   "execution_count": 61,
   "id": "6c466f21",
   "metadata": {},
   "outputs": [],
   "source": [
    "loaded_best_pipe = pickle.load(open(models_dir+model_name, 'rb'))"
   ]
  },
  {
   "cell_type": "code",
   "execution_count": null,
   "id": "7d71d96a",
   "metadata": {},
   "outputs": [],
   "source": []
  }
 ],
 "metadata": {
  "kernelspec": {
   "display_name": "Python 3 (ipykernel)",
   "language": "python",
   "name": "python3"
  },
  "language_info": {
   "codemirror_mode": {
    "name": "ipython",
    "version": 3
   },
   "file_extension": ".py",
   "mimetype": "text/x-python",
   "name": "python",
   "nbconvert_exporter": "python",
   "pygments_lexer": "ipython3",
   "version": "3.8.8"
  }
 },
 "nbformat": 4,
 "nbformat_minor": 5
}
