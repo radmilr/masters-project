{
 "cells": [
  {
   "cell_type": "markdown",
   "id": "c979f3de",
   "metadata": {},
   "source": [
    "# Data Loading and Imports"
   ]
  },
  {
   "cell_type": "code",
   "execution_count": 1,
   "id": "3dd3a00f",
   "metadata": {},
   "outputs": [],
   "source": [
    "import pandas as pd\n",
    "import matplotlib.pyplot as plt\n",
    "import seaborn as sns\n",
    "import numpy as np\n",
    "from dython import nominal\n",
    "from sklearn.linear_model import LinearRegression\n",
    "from sklearn.model_selection import train_test_split, TimeSeriesSplit\n",
    "from sklearn import preprocessing\n",
    "from sklearn.pipeline import make_pipeline\n",
    "from sklearn.metrics import mean_absolute_error, mean_squared_error, r2_score\n",
    "from sklearn.feature_selection import RFE\n",
    "import pickle"
   ]
  },
  {
   "cell_type": "code",
   "execution_count": 2,
   "id": "ae7201e6",
   "metadata": {},
   "outputs": [],
   "source": [
    "data_dir = './data/'"
   ]
  },
  {
   "cell_type": "code",
   "execution_count": 3,
   "id": "fc33f723",
   "metadata": {},
   "outputs": [],
   "source": [
    "results_dir = './data/results/'"
   ]
  },
  {
   "cell_type": "code",
   "execution_count": 4,
   "id": "24b35f2c",
   "metadata": {},
   "outputs": [],
   "source": [
    "models_dir = './models/'"
   ]
  },
  {
   "cell_type": "code",
   "execution_count": 5,
   "id": "906aff38",
   "metadata": {},
   "outputs": [],
   "source": [
    "model_name = 'linear_regression'"
   ]
  },
  {
   "cell_type": "code",
   "execution_count": 6,
   "id": "9400abdb",
   "metadata": {},
   "outputs": [],
   "source": [
    "regression_data = pd.read_csv(data_dir+'regression_data.csv', index_col=[0])"
   ]
  },
  {
   "cell_type": "markdown",
   "id": "91f81b04",
   "metadata": {},
   "source": [
    "# Linear Regression (Regression)"
   ]
  },
  {
   "cell_type": "markdown",
   "id": "27a24f9a",
   "metadata": {},
   "source": [
    "Sort the dataset so we can drop the date column"
   ]
  },
  {
   "cell_type": "code",
   "execution_count": 7,
   "id": "609da162",
   "metadata": {},
   "outputs": [],
   "source": [
    "regression_data = regression_data.sort_values(by=['date', 'team', 'department']).reset_index(drop=True)"
   ]
  },
  {
   "cell_type": "code",
   "execution_count": 8,
   "id": "e0667f1c",
   "metadata": {},
   "outputs": [],
   "source": [
    "dep_var = ['targeted_productivity']"
   ]
  },
  {
   "cell_type": "code",
   "execution_count": 9,
   "id": "aec9131f",
   "metadata": {},
   "outputs": [
    {
     "data": {
      "text/html": [
       "<div>\n",
       "<style scoped>\n",
       "    .dataframe tbody tr th:only-of-type {\n",
       "        vertical-align: middle;\n",
       "    }\n",
       "\n",
       "    .dataframe tbody tr th {\n",
       "        vertical-align: top;\n",
       "    }\n",
       "\n",
       "    .dataframe thead th {\n",
       "        text-align: right;\n",
       "    }\n",
       "</style>\n",
       "<table border=\"1\" class=\"dataframe\">\n",
       "  <thead>\n",
       "    <tr style=\"text-align: right;\">\n",
       "      <th></th>\n",
       "      <th>date</th>\n",
       "      <th>department</th>\n",
       "      <th>team</th>\n",
       "      <th>targeted_productivity</th>\n",
       "      <th>smv</th>\n",
       "      <th>wip</th>\n",
       "      <th>over_time</th>\n",
       "      <th>incentive</th>\n",
       "      <th>idle_time</th>\n",
       "      <th>idle_men</th>\n",
       "      <th>...</th>\n",
       "      <th>targeted_productivity_rmean_1_1</th>\n",
       "      <th>targeted_productivity_rmean_2_1</th>\n",
       "      <th>targeted_productivity_rmean_1_2</th>\n",
       "      <th>targeted_productivity_rmean_2_2</th>\n",
       "      <th>actual_productivity_lag_2</th>\n",
       "      <th>actual_productivity_lag_4</th>\n",
       "      <th>actual_productivity_rmean_2_1</th>\n",
       "      <th>actual_productivity_rmean_4_1</th>\n",
       "      <th>actual_productivity_rmean_2_2</th>\n",
       "      <th>actual_productivity_rmean_4_2</th>\n",
       "    </tr>\n",
       "  </thead>\n",
       "  <tbody>\n",
       "    <tr>\n",
       "      <th>0</th>\n",
       "      <td>2015-01-01</td>\n",
       "      <td>finishing</td>\n",
       "      <td>1</td>\n",
       "      <td>0.75</td>\n",
       "      <td>3.94</td>\n",
       "      <td>0.0</td>\n",
       "      <td>960</td>\n",
       "      <td>0</td>\n",
       "      <td>0.0</td>\n",
       "      <td>0</td>\n",
       "      <td>...</td>\n",
       "      <td>0.00</td>\n",
       "      <td>0.00</td>\n",
       "      <td>0.000</td>\n",
       "      <td>0.000</td>\n",
       "      <td>0.0000</td>\n",
       "      <td>0.0000</td>\n",
       "      <td>0.0000</td>\n",
       "      <td>0.0000</td>\n",
       "      <td>0.0000</td>\n",
       "      <td>0.0000</td>\n",
       "    </tr>\n",
       "    <tr>\n",
       "      <th>1</th>\n",
       "      <td>2015-01-01</td>\n",
       "      <td>sweing</td>\n",
       "      <td>1</td>\n",
       "      <td>0.75</td>\n",
       "      <td>28.08</td>\n",
       "      <td>681.0</td>\n",
       "      <td>6900</td>\n",
       "      <td>45</td>\n",
       "      <td>0.0</td>\n",
       "      <td>0</td>\n",
       "      <td>...</td>\n",
       "      <td>0.75</td>\n",
       "      <td>0.00</td>\n",
       "      <td>0.375</td>\n",
       "      <td>0.000</td>\n",
       "      <td>0.0000</td>\n",
       "      <td>0.0000</td>\n",
       "      <td>0.0000</td>\n",
       "      <td>0.0000</td>\n",
       "      <td>0.0000</td>\n",
       "      <td>0.0000</td>\n",
       "    </tr>\n",
       "    <tr>\n",
       "      <th>2</th>\n",
       "      <td>2015-01-01</td>\n",
       "      <td>finishing</td>\n",
       "      <td>2</td>\n",
       "      <td>0.75</td>\n",
       "      <td>3.94</td>\n",
       "      <td>0.0</td>\n",
       "      <td>960</td>\n",
       "      <td>0</td>\n",
       "      <td>0.0</td>\n",
       "      <td>0</td>\n",
       "      <td>...</td>\n",
       "      <td>0.00</td>\n",
       "      <td>0.00</td>\n",
       "      <td>0.000</td>\n",
       "      <td>0.000</td>\n",
       "      <td>0.0000</td>\n",
       "      <td>0.0000</td>\n",
       "      <td>0.0000</td>\n",
       "      <td>0.0000</td>\n",
       "      <td>0.0000</td>\n",
       "      <td>0.0000</td>\n",
       "    </tr>\n",
       "    <tr>\n",
       "      <th>3</th>\n",
       "      <td>2015-01-01</td>\n",
       "      <td>sweing</td>\n",
       "      <td>2</td>\n",
       "      <td>0.75</td>\n",
       "      <td>19.88</td>\n",
       "      <td>733.0</td>\n",
       "      <td>6000</td>\n",
       "      <td>34</td>\n",
       "      <td>0.0</td>\n",
       "      <td>0</td>\n",
       "      <td>...</td>\n",
       "      <td>0.75</td>\n",
       "      <td>0.00</td>\n",
       "      <td>0.375</td>\n",
       "      <td>0.000</td>\n",
       "      <td>0.0000</td>\n",
       "      <td>0.0000</td>\n",
       "      <td>0.0000</td>\n",
       "      <td>0.0000</td>\n",
       "      <td>0.0000</td>\n",
       "      <td>0.0000</td>\n",
       "    </tr>\n",
       "    <tr>\n",
       "      <th>4</th>\n",
       "      <td>2015-01-01</td>\n",
       "      <td>sweing</td>\n",
       "      <td>3</td>\n",
       "      <td>0.75</td>\n",
       "      <td>28.08</td>\n",
       "      <td>795.0</td>\n",
       "      <td>6900</td>\n",
       "      <td>45</td>\n",
       "      <td>0.0</td>\n",
       "      <td>0</td>\n",
       "      <td>...</td>\n",
       "      <td>0.00</td>\n",
       "      <td>0.00</td>\n",
       "      <td>0.000</td>\n",
       "      <td>0.000</td>\n",
       "      <td>0.0000</td>\n",
       "      <td>0.0000</td>\n",
       "      <td>0.0000</td>\n",
       "      <td>0.0000</td>\n",
       "      <td>0.0000</td>\n",
       "      <td>0.0000</td>\n",
       "    </tr>\n",
       "    <tr>\n",
       "      <th>...</th>\n",
       "      <td>...</td>\n",
       "      <td>...</td>\n",
       "      <td>...</td>\n",
       "      <td>...</td>\n",
       "      <td>...</td>\n",
       "      <td>...</td>\n",
       "      <td>...</td>\n",
       "      <td>...</td>\n",
       "      <td>...</td>\n",
       "      <td>...</td>\n",
       "      <td>...</td>\n",
       "      <td>...</td>\n",
       "      <td>...</td>\n",
       "      <td>...</td>\n",
       "      <td>...</td>\n",
       "      <td>...</td>\n",
       "      <td>...</td>\n",
       "      <td>...</td>\n",
       "      <td>...</td>\n",
       "      <td>...</td>\n",
       "      <td>...</td>\n",
       "    </tr>\n",
       "    <tr>\n",
       "      <th>1192</th>\n",
       "      <td>2015-03-11</td>\n",
       "      <td>sweing</td>\n",
       "      <td>10</td>\n",
       "      <td>0.75</td>\n",
       "      <td>21.81</td>\n",
       "      <td>1674.0</td>\n",
       "      <td>6000</td>\n",
       "      <td>34</td>\n",
       "      <td>0.0</td>\n",
       "      <td>0</td>\n",
       "      <td>...</td>\n",
       "      <td>0.70</td>\n",
       "      <td>0.75</td>\n",
       "      <td>0.725</td>\n",
       "      <td>0.725</td>\n",
       "      <td>0.7505</td>\n",
       "      <td>0.7000</td>\n",
       "      <td>0.7505</td>\n",
       "      <td>0.7000</td>\n",
       "      <td>0.6140</td>\n",
       "      <td>0.5710</td>\n",
       "    </tr>\n",
       "    <tr>\n",
       "      <th>1193</th>\n",
       "      <td>2015-03-11</td>\n",
       "      <td>finishing</td>\n",
       "      <td>11</td>\n",
       "      <td>0.80</td>\n",
       "      <td>2.90</td>\n",
       "      <td>0.0</td>\n",
       "      <td>2400</td>\n",
       "      <td>0</td>\n",
       "      <td>0.0</td>\n",
       "      <td>0</td>\n",
       "      <td>...</td>\n",
       "      <td>0.80</td>\n",
       "      <td>0.80</td>\n",
       "      <td>0.800</td>\n",
       "      <td>0.800</td>\n",
       "      <td>0.8000</td>\n",
       "      <td>0.9604</td>\n",
       "      <td>0.8000</td>\n",
       "      <td>0.9604</td>\n",
       "      <td>0.8000</td>\n",
       "      <td>0.8580</td>\n",
       "    </tr>\n",
       "    <tr>\n",
       "      <th>1194</th>\n",
       "      <td>2015-03-11</td>\n",
       "      <td>sweing</td>\n",
       "      <td>11</td>\n",
       "      <td>0.80</td>\n",
       "      <td>11.41</td>\n",
       "      <td>560.0</td>\n",
       "      <td>3420</td>\n",
       "      <td>50</td>\n",
       "      <td>0.0</td>\n",
       "      <td>0</td>\n",
       "      <td>...</td>\n",
       "      <td>0.80</td>\n",
       "      <td>0.80</td>\n",
       "      <td>0.800</td>\n",
       "      <td>0.800</td>\n",
       "      <td>0.7583</td>\n",
       "      <td>0.8000</td>\n",
       "      <td>0.7583</td>\n",
       "      <td>0.8000</td>\n",
       "      <td>0.7793</td>\n",
       "      <td>0.8800</td>\n",
       "    </tr>\n",
       "    <tr>\n",
       "      <th>1195</th>\n",
       "      <td>2015-03-11</td>\n",
       "      <td>finishing</td>\n",
       "      <td>12</td>\n",
       "      <td>0.80</td>\n",
       "      <td>4.60</td>\n",
       "      <td>0.0</td>\n",
       "      <td>2160</td>\n",
       "      <td>0</td>\n",
       "      <td>0.0</td>\n",
       "      <td>0</td>\n",
       "      <td>...</td>\n",
       "      <td>0.80</td>\n",
       "      <td>0.80</td>\n",
       "      <td>0.800</td>\n",
       "      <td>0.800</td>\n",
       "      <td>0.9200</td>\n",
       "      <td>0.9030</td>\n",
       "      <td>0.9200</td>\n",
       "      <td>0.9030</td>\n",
       "      <td>0.8604</td>\n",
       "      <td>0.8516</td>\n",
       "    </tr>\n",
       "    <tr>\n",
       "      <th>1196</th>\n",
       "      <td>2015-03-11</td>\n",
       "      <td>sweing</td>\n",
       "      <td>12</td>\n",
       "      <td>0.80</td>\n",
       "      <td>15.26</td>\n",
       "      <td>470.0</td>\n",
       "      <td>4080</td>\n",
       "      <td>63</td>\n",
       "      <td>0.0</td>\n",
       "      <td>0</td>\n",
       "      <td>...</td>\n",
       "      <td>0.80</td>\n",
       "      <td>0.80</td>\n",
       "      <td>0.800</td>\n",
       "      <td>0.800</td>\n",
       "      <td>0.8003</td>\n",
       "      <td>0.8003</td>\n",
       "      <td>0.8003</td>\n",
       "      <td>0.8003</td>\n",
       "      <td>0.8604</td>\n",
       "      <td>0.8516</td>\n",
       "    </tr>\n",
       "  </tbody>\n",
       "</table>\n",
       "<p>1197 rows × 28 columns</p>\n",
       "</div>"
      ],
      "text/plain": [
       "            date  department  team  targeted_productivity    smv     wip  \\\n",
       "0     2015-01-01  finishing      1                   0.75   3.94     0.0   \n",
       "1     2015-01-01      sweing     1                   0.75  28.08   681.0   \n",
       "2     2015-01-01  finishing      2                   0.75   3.94     0.0   \n",
       "3     2015-01-01      sweing     2                   0.75  19.88   733.0   \n",
       "4     2015-01-01      sweing     3                   0.75  28.08   795.0   \n",
       "...          ...         ...   ...                    ...    ...     ...   \n",
       "1192  2015-03-11      sweing    10                   0.75  21.81  1674.0   \n",
       "1193  2015-03-11   finishing    11                   0.80   2.90     0.0   \n",
       "1194  2015-03-11      sweing    11                   0.80  11.41   560.0   \n",
       "1195  2015-03-11   finishing    12                   0.80   4.60     0.0   \n",
       "1196  2015-03-11      sweing    12                   0.80  15.26   470.0   \n",
       "\n",
       "      over_time  incentive  idle_time  idle_men  ...  \\\n",
       "0           960          0        0.0         0  ...   \n",
       "1          6900         45        0.0         0  ...   \n",
       "2           960          0        0.0         0  ...   \n",
       "3          6000         34        0.0         0  ...   \n",
       "4          6900         45        0.0         0  ...   \n",
       "...         ...        ...        ...       ...  ...   \n",
       "1192       6000         34        0.0         0  ...   \n",
       "1193       2400          0        0.0         0  ...   \n",
       "1194       3420         50        0.0         0  ...   \n",
       "1195       2160          0        0.0         0  ...   \n",
       "1196       4080         63        0.0         0  ...   \n",
       "\n",
       "      targeted_productivity_rmean_1_1  targeted_productivity_rmean_2_1  \\\n",
       "0                                0.00                             0.00   \n",
       "1                                0.75                             0.00   \n",
       "2                                0.00                             0.00   \n",
       "3                                0.75                             0.00   \n",
       "4                                0.00                             0.00   \n",
       "...                               ...                              ...   \n",
       "1192                             0.70                             0.75   \n",
       "1193                             0.80                             0.80   \n",
       "1194                             0.80                             0.80   \n",
       "1195                             0.80                             0.80   \n",
       "1196                             0.80                             0.80   \n",
       "\n",
       "      targeted_productivity_rmean_1_2  targeted_productivity_rmean_2_2  \\\n",
       "0                               0.000                            0.000   \n",
       "1                               0.375                            0.000   \n",
       "2                               0.000                            0.000   \n",
       "3                               0.375                            0.000   \n",
       "4                               0.000                            0.000   \n",
       "...                               ...                              ...   \n",
       "1192                            0.725                            0.725   \n",
       "1193                            0.800                            0.800   \n",
       "1194                            0.800                            0.800   \n",
       "1195                            0.800                            0.800   \n",
       "1196                            0.800                            0.800   \n",
       "\n",
       "      actual_productivity_lag_2  actual_productivity_lag_4  \\\n",
       "0                        0.0000                     0.0000   \n",
       "1                        0.0000                     0.0000   \n",
       "2                        0.0000                     0.0000   \n",
       "3                        0.0000                     0.0000   \n",
       "4                        0.0000                     0.0000   \n",
       "...                         ...                        ...   \n",
       "1192                     0.7505                     0.7000   \n",
       "1193                     0.8000                     0.9604   \n",
       "1194                     0.7583                     0.8000   \n",
       "1195                     0.9200                     0.9030   \n",
       "1196                     0.8003                     0.8003   \n",
       "\n",
       "      actual_productivity_rmean_2_1  actual_productivity_rmean_4_1  \\\n",
       "0                            0.0000                         0.0000   \n",
       "1                            0.0000                         0.0000   \n",
       "2                            0.0000                         0.0000   \n",
       "3                            0.0000                         0.0000   \n",
       "4                            0.0000                         0.0000   \n",
       "...                             ...                            ...   \n",
       "1192                         0.7505                         0.7000   \n",
       "1193                         0.8000                         0.9604   \n",
       "1194                         0.7583                         0.8000   \n",
       "1195                         0.9200                         0.9030   \n",
       "1196                         0.8003                         0.8003   \n",
       "\n",
       "      actual_productivity_rmean_2_2  actual_productivity_rmean_4_2  \n",
       "0                            0.0000                         0.0000  \n",
       "1                            0.0000                         0.0000  \n",
       "2                            0.0000                         0.0000  \n",
       "3                            0.0000                         0.0000  \n",
       "4                            0.0000                         0.0000  \n",
       "...                             ...                            ...  \n",
       "1192                         0.6140                         0.5710  \n",
       "1193                         0.8000                         0.8580  \n",
       "1194                         0.7793                         0.8800  \n",
       "1195                         0.8604                         0.8516  \n",
       "1196                         0.8604                         0.8516  \n",
       "\n",
       "[1197 rows x 28 columns]"
      ]
     },
     "execution_count": 9,
     "metadata": {},
     "output_type": "execute_result"
    }
   ],
   "source": [
    "regression_data"
   ]
  },
  {
   "cell_type": "code",
   "execution_count": 10,
   "id": "9504240c",
   "metadata": {},
   "outputs": [],
   "source": [
    "categorical = np.array(['department', 'team'])"
   ]
  },
  {
   "cell_type": "code",
   "execution_count": 11,
   "id": "0a3a589e",
   "metadata": {},
   "outputs": [],
   "source": [
    "continuous = np.setdiff1d(np.setdiff1d(regression_data.columns,categorical), dep_var)"
   ]
  },
  {
   "cell_type": "code",
   "execution_count": 12,
   "id": "20593c56",
   "metadata": {},
   "outputs": [],
   "source": [
    "continuous = continuous[continuous != 'date']"
   ]
  },
  {
   "cell_type": "code",
   "execution_count": 13,
   "id": "0c4ed1d2",
   "metadata": {},
   "outputs": [],
   "source": [
    "X = regression_data.loc[:,np.union1d(categorical, continuous)]"
   ]
  },
  {
   "cell_type": "code",
   "execution_count": 14,
   "id": "3291a57f",
   "metadata": {},
   "outputs": [],
   "source": [
    "y = regression_data.loc[:,dep_var]*100"
   ]
  },
  {
   "cell_type": "code",
   "execution_count": 15,
   "id": "46ef4c2c",
   "metadata": {},
   "outputs": [],
   "source": [
    "columns = ['task', 'model', 'split', 'number_of_features', 'valid_mean_value', 'predicted_mean_value', 'percentage_difference', 'valid_rsq', 'valid_mae', 'valid_mse', 'valid_rmse']\n",
    "linear_regression_results_df = pd.DataFrame(columns=columns)\n",
    "df_rows = 0"
   ]
  },
  {
   "cell_type": "markdown",
   "id": "70c08eab",
   "metadata": {},
   "source": [
    "Now we need to prepare our data and the cross-validation process so that we can start training. As we are dealing with time-series we need to split the data appropriately. We will use 20% of the data for testing."
   ]
  },
  {
   "cell_type": "code",
   "execution_count": 16,
   "id": "8b32b1fa",
   "metadata": {},
   "outputs": [],
   "source": [
    "test_idx = int((0.2*len(X)))"
   ]
  },
  {
   "cell_type": "code",
   "execution_count": 17,
   "id": "af358436",
   "metadata": {},
   "outputs": [],
   "source": [
    "X_train, X_test, y_train, y_test = X.iloc[:len(X)- test_idx, :], X.iloc[len(X)- test_idx:, :], y.iloc[:len(y)- test_idx, :], y.iloc[len(y)- test_idx:, :]"
   ]
  },
  {
   "cell_type": "code",
   "execution_count": 18,
   "id": "cc0c9872",
   "metadata": {},
   "outputs": [],
   "source": [
    "pd.options.mode.chained_assignment = None  # default='warn'\n",
    "# Cross-Validation Pipeline\n",
    "# assign the tuned parameters\n",
    "split = 0\n",
    "tscv = TimeSeriesSplit(n_splits=5)\n",
    "for train_index, valid_index in tscv.split(X_train):\n",
    "    # Data Split\n",
    "    split += 1\n",
    "    X_train_curr_split = X_train.iloc[train_index]\n",
    "    X_valid_curr_split = X_train.iloc[valid_index]\n",
    "    y_train_curr_split = y_train.iloc[train_index]\n",
    "    y_valid_curr_split = y_train.iloc[valid_index]\n",
    "    # Avoiding data leakage for input values\n",
    "    # We need to encode only categorical variables\n",
    "    enc = preprocessing.OrdinalEncoder(handle_unknown='use_encoded_value', unknown_value=100)\n",
    "    X_train_curr_split.loc[:, categorical] = enc.fit_transform(X_train_curr_split[categorical])\n",
    "    X_valid_curr_split.loc[:, categorical] = enc.transform(X_valid_curr_split[categorical])\n",
    "    \n",
    "    y_train_curr_split = y_train_curr_split.values.flatten()\n",
    "    y_valid_curr_split = y_valid_curr_split.values.flatten()\n",
    "    for features in range(2, X_train_curr_split.shape[1]):\n",
    "        rfe = RFE(estimator=LinearRegression(fit_intercept=True), n_features_to_select=features)\n",
    "        pipe = make_pipeline(rfe,\n",
    "                             preprocessing.StandardScaler(), \n",
    "                             LinearRegression(fit_intercept=True),\n",
    "                            )\n",
    "        # train the model\n",
    "        pipe.fit(X_train_curr_split, y_train_curr_split)\n",
    "        valid_predictions = pipe.predict(X_valid_curr_split)\n",
    "        # Obtain metric scores\n",
    "        valid_mae = mean_absolute_error(y_valid_curr_split, valid_predictions)\n",
    "        valid_mse = mean_squared_error(y_valid_curr_split, valid_predictions)\n",
    "        valid_rmse = mean_squared_error(y_valid_curr_split, valid_predictions, squared=False)\n",
    "        valid_rsq = r2_score(y_valid_curr_split, valid_predictions)\n",
    "        valid_mean_value = y_valid_curr_split.mean()\n",
    "        predicted_mean_value = valid_predictions.mean()\n",
    "        percetange_difference = ((y_valid_curr_split - valid_predictions)/(y_valid_curr_split)).mean()\n",
    "        linear_regression_results_df.loc[df_rows] = ['regression',\n",
    "                                                     'linear regression',\n",
    "                                                     split,\n",
    "                                                     features,\n",
    "                                                     valid_mean_value,\n",
    "                                                     predicted_mean_value,\n",
    "                                                     percetange_difference,\n",
    "                                                     valid_rsq,\n",
    "                                                     valid_mae,\n",
    "                                                     valid_mse,\n",
    "                                                     valid_rmse\n",
    "                                                    ]\n",
    "        # increment the rows variable\n",
    "        df_rows +=1"
   ]
  },
  {
   "cell_type": "code",
   "execution_count": 19,
   "id": "f0f31df5",
   "metadata": {},
   "outputs": [],
   "source": [
    "pd.options.mode.chained_assignment = 'warn'"
   ]
  },
  {
   "cell_type": "markdown",
   "id": "5d573664",
   "metadata": {},
   "source": [
    "## Functions"
   ]
  },
  {
   "cell_type": "code",
   "execution_count": 20,
   "id": "ec9b5755",
   "metadata": {},
   "outputs": [],
   "source": [
    "def group_seeded_data(data, groupby_columns, droped_cols=['seed', 'split']):\n",
    "    grouped_data = data.groupby(groupby_columns).agg('mean').reset_index().drop(droped_cols, axis=1)\n",
    "    return grouped_data"
   ]
  },
  {
   "cell_type": "code",
   "execution_count": 21,
   "id": "e8fc1241",
   "metadata": {
    "scrolled": true
   },
   "outputs": [
    {
     "data": {
      "text/html": [
       "<div>\n",
       "<style scoped>\n",
       "    .dataframe tbody tr th:only-of-type {\n",
       "        vertical-align: middle;\n",
       "    }\n",
       "\n",
       "    .dataframe tbody tr th {\n",
       "        vertical-align: top;\n",
       "    }\n",
       "\n",
       "    .dataframe thead th {\n",
       "        text-align: right;\n",
       "    }\n",
       "</style>\n",
       "<table border=\"1\" class=\"dataframe\">\n",
       "  <thead>\n",
       "    <tr style=\"text-align: right;\">\n",
       "      <th></th>\n",
       "      <th>task</th>\n",
       "      <th>model</th>\n",
       "      <th>split</th>\n",
       "      <th>number_of_features</th>\n",
       "      <th>valid_mean_value</th>\n",
       "      <th>predicted_mean_value</th>\n",
       "      <th>percentage_difference</th>\n",
       "      <th>valid_rsq</th>\n",
       "      <th>valid_mae</th>\n",
       "      <th>valid_mse</th>\n",
       "      <th>valid_rmse</th>\n",
       "    </tr>\n",
       "  </thead>\n",
       "  <tbody>\n",
       "    <tr>\n",
       "      <th>0</th>\n",
       "      <td>regression</td>\n",
       "      <td>linear regression</td>\n",
       "      <td>1</td>\n",
       "      <td>2</td>\n",
       "      <td>73.364780</td>\n",
       "      <td>77.312804</td>\n",
       "      <td>-0.096818</td>\n",
       "      <td>-0.072205</td>\n",
       "      <td>7.392356</td>\n",
       "      <td>149.197309</td>\n",
       "      <td>12.214635</td>\n",
       "    </tr>\n",
       "    <tr>\n",
       "      <th>1</th>\n",
       "      <td>regression</td>\n",
       "      <td>linear regression</td>\n",
       "      <td>1</td>\n",
       "      <td>3</td>\n",
       "      <td>73.364780</td>\n",
       "      <td>77.382660</td>\n",
       "      <td>-0.097746</td>\n",
       "      <td>-0.078326</td>\n",
       "      <td>7.423663</td>\n",
       "      <td>150.048956</td>\n",
       "      <td>12.249447</td>\n",
       "    </tr>\n",
       "    <tr>\n",
       "      <th>2</th>\n",
       "      <td>regression</td>\n",
       "      <td>linear regression</td>\n",
       "      <td>1</td>\n",
       "      <td>4</td>\n",
       "      <td>73.364780</td>\n",
       "      <td>77.388603</td>\n",
       "      <td>-0.097811</td>\n",
       "      <td>-0.077659</td>\n",
       "      <td>7.415147</td>\n",
       "      <td>149.956147</td>\n",
       "      <td>12.245658</td>\n",
       "    </tr>\n",
       "    <tr>\n",
       "      <th>3</th>\n",
       "      <td>regression</td>\n",
       "      <td>linear regression</td>\n",
       "      <td>1</td>\n",
       "      <td>5</td>\n",
       "      <td>73.364780</td>\n",
       "      <td>77.355312</td>\n",
       "      <td>-0.097310</td>\n",
       "      <td>-0.074219</td>\n",
       "      <td>7.420968</td>\n",
       "      <td>149.477593</td>\n",
       "      <td>12.226103</td>\n",
       "    </tr>\n",
       "    <tr>\n",
       "      <th>4</th>\n",
       "      <td>regression</td>\n",
       "      <td>linear regression</td>\n",
       "      <td>1</td>\n",
       "      <td>6</td>\n",
       "      <td>73.364780</td>\n",
       "      <td>76.319495</td>\n",
       "      <td>-0.079571</td>\n",
       "      <td>0.029031</td>\n",
       "      <td>7.058758</td>\n",
       "      <td>135.110258</td>\n",
       "      <td>11.623694</td>\n",
       "    </tr>\n",
       "    <tr>\n",
       "      <th>...</th>\n",
       "      <td>...</td>\n",
       "      <td>...</td>\n",
       "      <td>...</td>\n",
       "      <td>...</td>\n",
       "      <td>...</td>\n",
       "      <td>...</td>\n",
       "      <td>...</td>\n",
       "      <td>...</td>\n",
       "      <td>...</td>\n",
       "      <td>...</td>\n",
       "      <td>...</td>\n",
       "    </tr>\n",
       "    <tr>\n",
       "      <th>115</th>\n",
       "      <td>regression</td>\n",
       "      <td>linear regression</td>\n",
       "      <td>5</td>\n",
       "      <td>21</td>\n",
       "      <td>73.144654</td>\n",
       "      <td>67.354555</td>\n",
       "      <td>0.067636</td>\n",
       "      <td>-0.954703</td>\n",
       "      <td>9.700300</td>\n",
       "      <td>131.883115</td>\n",
       "      <td>11.484037</td>\n",
       "    </tr>\n",
       "    <tr>\n",
       "      <th>116</th>\n",
       "      <td>regression</td>\n",
       "      <td>linear regression</td>\n",
       "      <td>5</td>\n",
       "      <td>22</td>\n",
       "      <td>73.144654</td>\n",
       "      <td>68.187132</td>\n",
       "      <td>0.055645</td>\n",
       "      <td>-0.704707</td>\n",
       "      <td>8.866142</td>\n",
       "      <td>115.015971</td>\n",
       "      <td>10.724550</td>\n",
       "    </tr>\n",
       "    <tr>\n",
       "      <th>117</th>\n",
       "      <td>regression</td>\n",
       "      <td>linear regression</td>\n",
       "      <td>5</td>\n",
       "      <td>23</td>\n",
       "      <td>73.144654</td>\n",
       "      <td>68.181857</td>\n",
       "      <td>0.055718</td>\n",
       "      <td>-0.704847</td>\n",
       "      <td>8.871535</td>\n",
       "      <td>115.025420</td>\n",
       "      <td>10.724990</td>\n",
       "    </tr>\n",
       "    <tr>\n",
       "      <th>118</th>\n",
       "      <td>regression</td>\n",
       "      <td>linear regression</td>\n",
       "      <td>5</td>\n",
       "      <td>24</td>\n",
       "      <td>73.144654</td>\n",
       "      <td>68.170303</td>\n",
       "      <td>0.055906</td>\n",
       "      <td>-0.702096</td>\n",
       "      <td>8.868972</td>\n",
       "      <td>114.839827</td>\n",
       "      <td>10.716335</td>\n",
       "    </tr>\n",
       "    <tr>\n",
       "      <th>119</th>\n",
       "      <td>regression</td>\n",
       "      <td>linear regression</td>\n",
       "      <td>5</td>\n",
       "      <td>25</td>\n",
       "      <td>73.144654</td>\n",
       "      <td>67.890732</td>\n",
       "      <td>0.059909</td>\n",
       "      <td>-0.836439</td>\n",
       "      <td>9.262096</td>\n",
       "      <td>123.903913</td>\n",
       "      <td>11.131213</td>\n",
       "    </tr>\n",
       "  </tbody>\n",
       "</table>\n",
       "<p>120 rows × 11 columns</p>\n",
       "</div>"
      ],
      "text/plain": [
       "           task              model  split  number_of_features  \\\n",
       "0    regression  linear regression      1                   2   \n",
       "1    regression  linear regression      1                   3   \n",
       "2    regression  linear regression      1                   4   \n",
       "3    regression  linear regression      1                   5   \n",
       "4    regression  linear regression      1                   6   \n",
       "..          ...                ...    ...                 ...   \n",
       "115  regression  linear regression      5                  21   \n",
       "116  regression  linear regression      5                  22   \n",
       "117  regression  linear regression      5                  23   \n",
       "118  regression  linear regression      5                  24   \n",
       "119  regression  linear regression      5                  25   \n",
       "\n",
       "     valid_mean_value  predicted_mean_value  percentage_difference  valid_rsq  \\\n",
       "0           73.364780             77.312804              -0.096818  -0.072205   \n",
       "1           73.364780             77.382660              -0.097746  -0.078326   \n",
       "2           73.364780             77.388603              -0.097811  -0.077659   \n",
       "3           73.364780             77.355312              -0.097310  -0.074219   \n",
       "4           73.364780             76.319495              -0.079571   0.029031   \n",
       "..                ...                   ...                    ...        ...   \n",
       "115         73.144654             67.354555               0.067636  -0.954703   \n",
       "116         73.144654             68.187132               0.055645  -0.704707   \n",
       "117         73.144654             68.181857               0.055718  -0.704847   \n",
       "118         73.144654             68.170303               0.055906  -0.702096   \n",
       "119         73.144654             67.890732               0.059909  -0.836439   \n",
       "\n",
       "     valid_mae   valid_mse  valid_rmse  \n",
       "0     7.392356  149.197309   12.214635  \n",
       "1     7.423663  150.048956   12.249447  \n",
       "2     7.415147  149.956147   12.245658  \n",
       "3     7.420968  149.477593   12.226103  \n",
       "4     7.058758  135.110258   11.623694  \n",
       "..         ...         ...         ...  \n",
       "115   9.700300  131.883115   11.484037  \n",
       "116   8.866142  115.015971   10.724550  \n",
       "117   8.871535  115.025420   10.724990  \n",
       "118   8.868972  114.839827   10.716335  \n",
       "119   9.262096  123.903913   11.131213  \n",
       "\n",
       "[120 rows x 11 columns]"
      ]
     },
     "execution_count": 21,
     "metadata": {},
     "output_type": "execute_result"
    }
   ],
   "source": [
    "linear_regression_results_df"
   ]
  },
  {
   "cell_type": "code",
   "execution_count": 19,
   "id": "d5e597d2",
   "metadata": {},
   "outputs": [],
   "source": [
    "linear_regression_results_df.to_csv(results_dir + 'linear_regression_results_df.csv')"
   ]
  },
  {
   "cell_type": "markdown",
   "id": "4f5321a0",
   "metadata": {},
   "source": [
    "Aggregate the values so that we average the results for each split"
   ]
  },
  {
   "cell_type": "code",
   "execution_count": 23,
   "id": "0fd085e0",
   "metadata": {},
   "outputs": [],
   "source": [
    "grouped_linear_regression_results_df = group_seeded_data(linear_regression_results_df, \n",
    "                                                         ['number_of_features'],\n",
    "                                                         ['split']\n",
    "                                                         )"
   ]
  },
  {
   "cell_type": "code",
   "execution_count": 24,
   "id": "2cd9c7b8",
   "metadata": {
    "scrolled": true
   },
   "outputs": [
    {
     "data": {
      "text/html": [
       "<div>\n",
       "<style scoped>\n",
       "    .dataframe tbody tr th:only-of-type {\n",
       "        vertical-align: middle;\n",
       "    }\n",
       "\n",
       "    .dataframe tbody tr th {\n",
       "        vertical-align: top;\n",
       "    }\n",
       "\n",
       "    .dataframe thead th {\n",
       "        text-align: right;\n",
       "    }\n",
       "</style>\n",
       "<table border=\"1\" class=\"dataframe\">\n",
       "  <thead>\n",
       "    <tr style=\"text-align: right;\">\n",
       "      <th></th>\n",
       "      <th>number_of_features</th>\n",
       "      <th>valid_mean_value</th>\n",
       "      <th>predicted_mean_value</th>\n",
       "      <th>percentage_difference</th>\n",
       "      <th>valid_rsq</th>\n",
       "      <th>valid_mae</th>\n",
       "      <th>valid_mse</th>\n",
       "      <th>valid_rmse</th>\n",
       "    </tr>\n",
       "  </thead>\n",
       "  <tbody>\n",
       "    <tr>\n",
       "      <th>0</th>\n",
       "      <td>2</td>\n",
       "      <td>72.41761</td>\n",
       "      <td>74.659105</td>\n",
       "      <td>-0.070478</td>\n",
       "      <td>0.074526</td>\n",
       "      <td>6.178487</td>\n",
       "      <td>99.642719</td>\n",
       "      <td>9.876473</td>\n",
       "    </tr>\n",
       "    <tr>\n",
       "      <th>1</th>\n",
       "      <td>3</td>\n",
       "      <td>72.41761</td>\n",
       "      <td>74.687269</td>\n",
       "      <td>-0.070115</td>\n",
       "      <td>0.098934</td>\n",
       "      <td>6.014236</td>\n",
       "      <td>96.558137</td>\n",
       "      <td>9.719988</td>\n",
       "    </tr>\n",
       "    <tr>\n",
       "      <th>2</th>\n",
       "      <td>4</td>\n",
       "      <td>72.41761</td>\n",
       "      <td>74.702573</td>\n",
       "      <td>-0.069924</td>\n",
       "      <td>0.111109</td>\n",
       "      <td>5.899571</td>\n",
       "      <td>95.127047</td>\n",
       "      <td>9.642918</td>\n",
       "    </tr>\n",
       "    <tr>\n",
       "      <th>3</th>\n",
       "      <td>5</td>\n",
       "      <td>72.41761</td>\n",
       "      <td>74.668912</td>\n",
       "      <td>-0.069416</td>\n",
       "      <td>0.110058</td>\n",
       "      <td>5.915964</td>\n",
       "      <td>94.984329</td>\n",
       "      <td>9.639451</td>\n",
       "    </tr>\n",
       "    <tr>\n",
       "      <th>4</th>\n",
       "      <td>6</td>\n",
       "      <td>72.41761</td>\n",
       "      <td>74.084372</td>\n",
       "      <td>-0.057117</td>\n",
       "      <td>0.221471</td>\n",
       "      <td>5.620456</td>\n",
       "      <td>83.790710</td>\n",
       "      <td>9.040597</td>\n",
       "    </tr>\n",
       "    <tr>\n",
       "      <th>5</th>\n",
       "      <td>7</td>\n",
       "      <td>72.41761</td>\n",
       "      <td>73.975090</td>\n",
       "      <td>-0.055365</td>\n",
       "      <td>0.221076</td>\n",
       "      <td>5.627676</td>\n",
       "      <td>83.995032</td>\n",
       "      <td>9.044876</td>\n",
       "    </tr>\n",
       "    <tr>\n",
       "      <th>6</th>\n",
       "      <td>8</td>\n",
       "      <td>72.41761</td>\n",
       "      <td>73.538304</td>\n",
       "      <td>-0.047984</td>\n",
       "      <td>0.211821</td>\n",
       "      <td>5.783762</td>\n",
       "      <td>84.997245</td>\n",
       "      <td>9.098507</td>\n",
       "    </tr>\n",
       "    <tr>\n",
       "      <th>7</th>\n",
       "      <td>9</td>\n",
       "      <td>72.41761</td>\n",
       "      <td>73.478467</td>\n",
       "      <td>-0.046527</td>\n",
       "      <td>0.214727</td>\n",
       "      <td>5.859601</td>\n",
       "      <td>84.433934</td>\n",
       "      <td>9.079578</td>\n",
       "    </tr>\n",
       "    <tr>\n",
       "      <th>8</th>\n",
       "      <td>10</td>\n",
       "      <td>72.41761</td>\n",
       "      <td>73.463475</td>\n",
       "      <td>-0.046217</td>\n",
       "      <td>0.214615</td>\n",
       "      <td>5.864895</td>\n",
       "      <td>84.448303</td>\n",
       "      <td>9.080360</td>\n",
       "    </tr>\n",
       "    <tr>\n",
       "      <th>9</th>\n",
       "      <td>11</td>\n",
       "      <td>72.41761</td>\n",
       "      <td>71.651139</td>\n",
       "      <td>-0.020114</td>\n",
       "      <td>0.185374</td>\n",
       "      <td>6.153501</td>\n",
       "      <td>86.181487</td>\n",
       "      <td>9.191966</td>\n",
       "    </tr>\n",
       "    <tr>\n",
       "      <th>10</th>\n",
       "      <td>12</td>\n",
       "      <td>72.41761</td>\n",
       "      <td>71.109748</td>\n",
       "      <td>-0.012405</td>\n",
       "      <td>0.197864</td>\n",
       "      <td>6.286242</td>\n",
       "      <td>84.224850</td>\n",
       "      <td>9.117258</td>\n",
       "    </tr>\n",
       "    <tr>\n",
       "      <th>11</th>\n",
       "      <td>13</td>\n",
       "      <td>72.41761</td>\n",
       "      <td>70.038551</td>\n",
       "      <td>0.003936</td>\n",
       "      <td>0.184013</td>\n",
       "      <td>6.712980</td>\n",
       "      <td>85.825071</td>\n",
       "      <td>9.208782</td>\n",
       "    </tr>\n",
       "    <tr>\n",
       "      <th>12</th>\n",
       "      <td>14</td>\n",
       "      <td>72.41761</td>\n",
       "      <td>70.035462</td>\n",
       "      <td>0.004002</td>\n",
       "      <td>0.182766</td>\n",
       "      <td>6.729087</td>\n",
       "      <td>86.030239</td>\n",
       "      <td>9.219653</td>\n",
       "    </tr>\n",
       "    <tr>\n",
       "      <th>13</th>\n",
       "      <td>15</td>\n",
       "      <td>72.41761</td>\n",
       "      <td>69.557052</td>\n",
       "      <td>0.010881</td>\n",
       "      <td>0.182212</td>\n",
       "      <td>6.867194</td>\n",
       "      <td>86.101562</td>\n",
       "      <td>9.222847</td>\n",
       "    </tr>\n",
       "    <tr>\n",
       "      <th>14</th>\n",
       "      <td>16</td>\n",
       "      <td>72.41761</td>\n",
       "      <td>68.369743</td>\n",
       "      <td>0.027875</td>\n",
       "      <td>0.030459</td>\n",
       "      <td>7.759651</td>\n",
       "      <td>98.796728</td>\n",
       "      <td>9.897162</td>\n",
       "    </tr>\n",
       "    <tr>\n",
       "      <th>15</th>\n",
       "      <td>17</td>\n",
       "      <td>72.41761</td>\n",
       "      <td>68.490053</td>\n",
       "      <td>0.026211</td>\n",
       "      <td>-0.043449</td>\n",
       "      <td>7.816382</td>\n",
       "      <td>109.490156</td>\n",
       "      <td>10.332122</td>\n",
       "    </tr>\n",
       "    <tr>\n",
       "      <th>16</th>\n",
       "      <td>18</td>\n",
       "      <td>72.41761</td>\n",
       "      <td>69.433434</td>\n",
       "      <td>0.015366</td>\n",
       "      <td>-0.830528</td>\n",
       "      <td>8.034876</td>\n",
       "      <td>210.651990</td>\n",
       "      <td>12.807482</td>\n",
       "    </tr>\n",
       "    <tr>\n",
       "      <th>17</th>\n",
       "      <td>19</td>\n",
       "      <td>72.41761</td>\n",
       "      <td>69.279818</td>\n",
       "      <td>0.017906</td>\n",
       "      <td>-0.856239</td>\n",
       "      <td>8.070150</td>\n",
       "      <td>213.142807</td>\n",
       "      <td>12.862693</td>\n",
       "    </tr>\n",
       "    <tr>\n",
       "      <th>18</th>\n",
       "      <td>20</td>\n",
       "      <td>72.41761</td>\n",
       "      <td>69.326259</td>\n",
       "      <td>0.017318</td>\n",
       "      <td>-0.787793</td>\n",
       "      <td>8.019276</td>\n",
       "      <td>204.141277</td>\n",
       "      <td>12.695456</td>\n",
       "    </tr>\n",
       "    <tr>\n",
       "      <th>19</th>\n",
       "      <td>21</td>\n",
       "      <td>72.41761</td>\n",
       "      <td>69.995408</td>\n",
       "      <td>0.007734</td>\n",
       "      <td>-0.815271</td>\n",
       "      <td>8.008381</td>\n",
       "      <td>202.514894</td>\n",
       "      <td>12.759646</td>\n",
       "    </tr>\n",
       "    <tr>\n",
       "      <th>20</th>\n",
       "      <td>22</td>\n",
       "      <td>72.41761</td>\n",
       "      <td>70.167275</td>\n",
       "      <td>0.005291</td>\n",
       "      <td>-0.750728</td>\n",
       "      <td>7.836096</td>\n",
       "      <td>197.523940</td>\n",
       "      <td>12.552511</td>\n",
       "    </tr>\n",
       "    <tr>\n",
       "      <th>21</th>\n",
       "      <td>23</td>\n",
       "      <td>72.41761</td>\n",
       "      <td>70.585594</td>\n",
       "      <td>-0.000379</td>\n",
       "      <td>-1.758690</td>\n",
       "      <td>8.186289</td>\n",
       "      <td>327.102828</td>\n",
       "      <td>14.683233</td>\n",
       "    </tr>\n",
       "    <tr>\n",
       "      <th>22</th>\n",
       "      <td>24</td>\n",
       "      <td>72.41761</td>\n",
       "      <td>70.590099</td>\n",
       "      <td>-0.000483</td>\n",
       "      <td>-1.750268</td>\n",
       "      <td>8.178937</td>\n",
       "      <td>326.053731</td>\n",
       "      <td>14.667328</td>\n",
       "    </tr>\n",
       "    <tr>\n",
       "      <th>23</th>\n",
       "      <td>25</td>\n",
       "      <td>72.41761</td>\n",
       "      <td>70.579858</td>\n",
       "      <td>-0.000265</td>\n",
       "      <td>-1.726474</td>\n",
       "      <td>8.213942</td>\n",
       "      <td>321.353525</td>\n",
       "      <td>14.658400</td>\n",
       "    </tr>\n",
       "  </tbody>\n",
       "</table>\n",
       "</div>"
      ],
      "text/plain": [
       "    number_of_features  valid_mean_value  predicted_mean_value  \\\n",
       "0                    2          72.41761             74.659105   \n",
       "1                    3          72.41761             74.687269   \n",
       "2                    4          72.41761             74.702573   \n",
       "3                    5          72.41761             74.668912   \n",
       "4                    6          72.41761             74.084372   \n",
       "5                    7          72.41761             73.975090   \n",
       "6                    8          72.41761             73.538304   \n",
       "7                    9          72.41761             73.478467   \n",
       "8                   10          72.41761             73.463475   \n",
       "9                   11          72.41761             71.651139   \n",
       "10                  12          72.41761             71.109748   \n",
       "11                  13          72.41761             70.038551   \n",
       "12                  14          72.41761             70.035462   \n",
       "13                  15          72.41761             69.557052   \n",
       "14                  16          72.41761             68.369743   \n",
       "15                  17          72.41761             68.490053   \n",
       "16                  18          72.41761             69.433434   \n",
       "17                  19          72.41761             69.279818   \n",
       "18                  20          72.41761             69.326259   \n",
       "19                  21          72.41761             69.995408   \n",
       "20                  22          72.41761             70.167275   \n",
       "21                  23          72.41761             70.585594   \n",
       "22                  24          72.41761             70.590099   \n",
       "23                  25          72.41761             70.579858   \n",
       "\n",
       "    percentage_difference  valid_rsq  valid_mae   valid_mse  valid_rmse  \n",
       "0               -0.070478   0.074526   6.178487   99.642719    9.876473  \n",
       "1               -0.070115   0.098934   6.014236   96.558137    9.719988  \n",
       "2               -0.069924   0.111109   5.899571   95.127047    9.642918  \n",
       "3               -0.069416   0.110058   5.915964   94.984329    9.639451  \n",
       "4               -0.057117   0.221471   5.620456   83.790710    9.040597  \n",
       "5               -0.055365   0.221076   5.627676   83.995032    9.044876  \n",
       "6               -0.047984   0.211821   5.783762   84.997245    9.098507  \n",
       "7               -0.046527   0.214727   5.859601   84.433934    9.079578  \n",
       "8               -0.046217   0.214615   5.864895   84.448303    9.080360  \n",
       "9               -0.020114   0.185374   6.153501   86.181487    9.191966  \n",
       "10              -0.012405   0.197864   6.286242   84.224850    9.117258  \n",
       "11               0.003936   0.184013   6.712980   85.825071    9.208782  \n",
       "12               0.004002   0.182766   6.729087   86.030239    9.219653  \n",
       "13               0.010881   0.182212   6.867194   86.101562    9.222847  \n",
       "14               0.027875   0.030459   7.759651   98.796728    9.897162  \n",
       "15               0.026211  -0.043449   7.816382  109.490156   10.332122  \n",
       "16               0.015366  -0.830528   8.034876  210.651990   12.807482  \n",
       "17               0.017906  -0.856239   8.070150  213.142807   12.862693  \n",
       "18               0.017318  -0.787793   8.019276  204.141277   12.695456  \n",
       "19               0.007734  -0.815271   8.008381  202.514894   12.759646  \n",
       "20               0.005291  -0.750728   7.836096  197.523940   12.552511  \n",
       "21              -0.000379  -1.758690   8.186289  327.102828   14.683233  \n",
       "22              -0.000483  -1.750268   8.178937  326.053731   14.667328  \n",
       "23              -0.000265  -1.726474   8.213942  321.353525   14.658400  "
      ]
     },
     "execution_count": 24,
     "metadata": {},
     "output_type": "execute_result"
    }
   ],
   "source": [
    "grouped_linear_regression_results_df"
   ]
  },
  {
   "cell_type": "code",
   "execution_count": 23,
   "id": "742bb011",
   "metadata": {},
   "outputs": [],
   "source": [
    "grouped_linear_regression_results_df.to_csv(results_dir + 'grouped_linear_regression_results_df.csv')"
   ]
  },
  {
   "cell_type": "markdown",
   "id": "3f860d98",
   "metadata": {},
   "source": [
    "## Functions"
   ]
  },
  {
   "cell_type": "code",
   "execution_count": 42,
   "id": "72bdca9d",
   "metadata": {},
   "outputs": [],
   "source": [
    "def plot_line(data, x_column = 'number_of_features', title='Line graph', title_size=25, axes_size=15, tick_size=12, acc = 'valid_accuracy'):\n",
    "    X = data[x_column].copy()\n",
    "    y = data[acc].copy()\n",
    "    fig, ax = plt.subplots(figsize=(10, 5))\n",
    "    plt.plot(X, y)\n",
    "    \n",
    "    acc_label = acc.split('_')[0]\n",
    "    fig.suptitle(title + f' for {acc} metric score for {x_column} combinations', fontsize=title_size,  y=1.02)\n",
    "    ax.set_xlabel(f'{x_column}', fontsize=axes_size)\n",
    "    ax.set_ylabel(f'{acc}'.capitalize(), fontsize=axes_size)\n",
    "    ax.tick_params(axis='x', which='major', labelsize=tick_size)\n",
    "    ax.tick_params(axis='y', which='major', labelsize=tick_size)\n",
    "    plt.show()"
   ]
  },
  {
   "cell_type": "code",
   "execution_count": 50,
   "id": "1cbb4922",
   "metadata": {},
   "outputs": [],
   "source": [
    "def plot_difference(y_test, predictions_test, title='Scatter plot', title_size=25, axes_size=15, tick_size=12, acc = 'valid_accuracy'):\n",
    "    fig, ax = plt.subplots(figsize=(10, 5))\n",
    "    plt.scatter(y_test, predictions_test)\n",
    "    min_y = y_test.min()\n",
    "    min_predictions = predictions_test.min()\n",
    "    min_val = np.minimum(min_y, min_predictions)\n",
    "    ax.axline((min_val, min_val), slope=1, color='black')   \n",
    "    \n",
    "    acc_label = acc.split('_')[0]\n",
    "    fig.suptitle(title + f' for expected vs predicted output', fontsize=title_size,  y=1.02)\n",
    "    ax.set_xlabel('Expected output', fontsize=axes_size)\n",
    "    ax.set_ylabel('Predicted output', fontsize=axes_size)\n",
    "    ax.tick_params(axis='x', which='major', labelsize=tick_size)\n",
    "    ax.tick_params(axis='y', which='major', labelsize=tick_size)\n",
    "    plt.show()"
   ]
  },
  {
   "cell_type": "markdown",
   "id": "fa858ff1",
   "metadata": {},
   "source": [
    "## Overal results demonstration"
   ]
  },
  {
   "cell_type": "markdown",
   "id": "cf58e610",
   "metadata": {},
   "source": [
    "### Valid percentage difference for number of features"
   ]
  },
  {
   "cell_type": "code",
   "execution_count": 43,
   "id": "2c142077",
   "metadata": {
    "scrolled": true
   },
   "outputs": [
    {
     "data": {
      "image/png": "[encoded data removed]",
      "text/plain": [
       "<Figure size 720x360 with 1 Axes>"
      ]
     },
     "metadata": {
      "needs_background": "light"
     },
     "output_type": "display_data"
    }
   ],
   "source": [
    "plot_line(grouped_linear_regression_results_df, acc='percentage_difference')"
   ]
  },
  {
   "cell_type": "markdown",
   "id": "62c508d3",
   "metadata": {},
   "source": [
    "### Valid Rsq for number of features"
   ]
  },
  {
   "cell_type": "code",
   "execution_count": 44,
   "id": "f9775d81",
   "metadata": {
    "scrolled": true
   },
   "outputs": [
    {
     "data": {
      "image/png": "[encoded data removed]",
      "text/plain": [
       "<Figure size 720x360 with 1 Axes>"
      ]
     },
     "metadata": {
      "needs_background": "light"
     },
     "output_type": "display_data"
    }
   ],
   "source": [
    "plot_line(grouped_linear_regression_results_df, acc='valid_rsq')"
   ]
  },
  {
   "cell_type": "markdown",
   "id": "dafa22c5",
   "metadata": {},
   "source": [
    "### Valid MAE for number of features"
   ]
  },
  {
   "cell_type": "code",
   "execution_count": 47,
   "id": "13bb752f",
   "metadata": {
    "scrolled": true
   },
   "outputs": [
    {
     "data": {
      "image/png": "[encoded data removed]",
      "text/plain": [
       "<Figure size 720x360 with 1 Axes>"
      ]
     },
     "metadata": {
      "needs_background": "light"
     },
     "output_type": "display_data"
    }
   ],
   "source": [
    "plot_line(grouped_linear_regression_results_df, acc='valid_mae')"
   ]
  },
  {
   "cell_type": "markdown",
   "id": "7c38cdfe",
   "metadata": {},
   "source": [
    "### Valid MSE for number of features"
   ]
  },
  {
   "cell_type": "code",
   "execution_count": 49,
   "id": "e2de0cbd",
   "metadata": {},
   "outputs": [
    {
     "data": {
      "image/png": "[encoded data removed]",
      "text/plain": [
       "<Figure size 720x360 with 1 Axes>"
      ]
     },
     "metadata": {
      "needs_background": "light"
     },
     "output_type": "display_data"
    }
   ],
   "source": [
    "plot_line(grouped_linear_regression_results_df, acc='valid_mse')"
   ]
  },
  {
   "cell_type": "markdown",
   "id": "789309c8",
   "metadata": {},
   "source": [
    "### Valid RMSE for number of features"
   ]
  },
  {
   "cell_type": "code",
   "execution_count": 50,
   "id": "aa799b7f",
   "metadata": {},
   "outputs": [
    {
     "data": {
      "image/png": "[encoded data removed]",
      "text/plain": [
       "<Figure size 720x360 with 1 Axes>"
      ]
     },
     "metadata": {
      "needs_background": "light"
     },
     "output_type": "display_data"
    }
   ],
   "source": [
    "plot_line(grouped_linear_regression_results_df, acc='valid_rmse')"
   ]
  },
  {
   "cell_type": "markdown",
   "id": "56cdd16f",
   "metadata": {},
   "source": [
    "## Build best model"
   ]
  },
  {
   "cell_type": "markdown",
   "id": "98c82090",
   "metadata": {},
   "source": [
    "From the above line graphs it can be observed that MAE, MSE, RMSE (best when the value is close to 0) achieve their best results when the number of features is in between 5 and 10. Rsq metric (best when closeto 1) achieve its best score in similar region - 5 to 15. After a closer look in the dataset it is made clear that the best results are achieved when the number of features is 6."
   ]
  },
  {
   "cell_type": "code",
   "execution_count": 56,
   "id": "2437925b",
   "metadata": {},
   "outputs": [
    {
     "data": {
      "text/html": [
       "<div>\n",
       "<style scoped>\n",
       "    .dataframe tbody tr th:only-of-type {\n",
       "        vertical-align: middle;\n",
       "    }\n",
       "\n",
       "    .dataframe tbody tr th {\n",
       "        vertical-align: top;\n",
       "    }\n",
       "\n",
       "    .dataframe thead th {\n",
       "        text-align: right;\n",
       "    }\n",
       "</style>\n",
       "<table border=\"1\" class=\"dataframe\">\n",
       "  <thead>\n",
       "    <tr style=\"text-align: right;\">\n",
       "      <th></th>\n",
       "      <th>number_of_features</th>\n",
       "      <th>percentage_difference</th>\n",
       "      <th>valid_rsq</th>\n",
       "      <th>valid_mae</th>\n",
       "      <th>valid_mse</th>\n",
       "      <th>valid_rmse</th>\n",
       "    </tr>\n",
       "  </thead>\n",
       "  <tbody>\n",
       "    <tr>\n",
       "      <th>4</th>\n",
       "      <td>6</td>\n",
       "      <td>-0.057117</td>\n",
       "      <td>0.221471</td>\n",
       "      <td>5.620456</td>\n",
       "      <td>83.79071</td>\n",
       "      <td>9.040597</td>\n",
       "    </tr>\n",
       "  </tbody>\n",
       "</table>\n",
       "</div>"
      ],
      "text/plain": [
       "   number_of_features  percentage_difference  valid_rsq  valid_mae  valid_mse  \\\n",
       "4                   6              -0.057117   0.221471   5.620456   83.79071   \n",
       "\n",
       "   valid_rmse  \n",
       "4    9.040597  "
      ]
     },
     "execution_count": 56,
     "metadata": {},
     "output_type": "execute_result"
    }
   ],
   "source": [
    "grouped_linear_regression_results_df[grouped_linear_regression_results_df['valid_rmse'] == grouped_linear_regression_results_df['valid_rmse'].min()]"
   ]
  },
  {
   "cell_type": "code",
   "execution_count": 57,
   "id": "075430d6",
   "metadata": {},
   "outputs": [
    {
     "data": {
      "text/html": [
       "<div>\n",
       "<style scoped>\n",
       "    .dataframe tbody tr th:only-of-type {\n",
       "        vertical-align: middle;\n",
       "    }\n",
       "\n",
       "    .dataframe tbody tr th {\n",
       "        vertical-align: top;\n",
       "    }\n",
       "\n",
       "    .dataframe thead th {\n",
       "        text-align: right;\n",
       "    }\n",
       "</style>\n",
       "<table border=\"1\" class=\"dataframe\">\n",
       "  <thead>\n",
       "    <tr style=\"text-align: right;\">\n",
       "      <th></th>\n",
       "      <th>number_of_features</th>\n",
       "      <th>percentage_difference</th>\n",
       "      <th>valid_rsq</th>\n",
       "      <th>valid_mae</th>\n",
       "      <th>valid_mse</th>\n",
       "      <th>valid_rmse</th>\n",
       "    </tr>\n",
       "  </thead>\n",
       "  <tbody>\n",
       "    <tr>\n",
       "      <th>4</th>\n",
       "      <td>6</td>\n",
       "      <td>-0.057117</td>\n",
       "      <td>0.221471</td>\n",
       "      <td>5.620456</td>\n",
       "      <td>83.79071</td>\n",
       "      <td>9.040597</td>\n",
       "    </tr>\n",
       "  </tbody>\n",
       "</table>\n",
       "</div>"
      ],
      "text/plain": [
       "   number_of_features  percentage_difference  valid_rsq  valid_mae  valid_mse  \\\n",
       "4                   6              -0.057117   0.221471   5.620456   83.79071   \n",
       "\n",
       "   valid_rmse  \n",
       "4    9.040597  "
      ]
     },
     "execution_count": 57,
     "metadata": {},
     "output_type": "execute_result"
    }
   ],
   "source": [
    "grouped_linear_regression_results_df[grouped_linear_regression_results_df['valid_mse'] == grouped_linear_regression_results_df['valid_mse'].min()]"
   ]
  },
  {
   "cell_type": "code",
   "execution_count": 58,
   "id": "bb1fc86d",
   "metadata": {},
   "outputs": [
    {
     "data": {
      "text/html": [
       "<div>\n",
       "<style scoped>\n",
       "    .dataframe tbody tr th:only-of-type {\n",
       "        vertical-align: middle;\n",
       "    }\n",
       "\n",
       "    .dataframe tbody tr th {\n",
       "        vertical-align: top;\n",
       "    }\n",
       "\n",
       "    .dataframe thead th {\n",
       "        text-align: right;\n",
       "    }\n",
       "</style>\n",
       "<table border=\"1\" class=\"dataframe\">\n",
       "  <thead>\n",
       "    <tr style=\"text-align: right;\">\n",
       "      <th></th>\n",
       "      <th>number_of_features</th>\n",
       "      <th>percentage_difference</th>\n",
       "      <th>valid_rsq</th>\n",
       "      <th>valid_mae</th>\n",
       "      <th>valid_mse</th>\n",
       "      <th>valid_rmse</th>\n",
       "    </tr>\n",
       "  </thead>\n",
       "  <tbody>\n",
       "    <tr>\n",
       "      <th>4</th>\n",
       "      <td>6</td>\n",
       "      <td>-0.057117</td>\n",
       "      <td>0.221471</td>\n",
       "      <td>5.620456</td>\n",
       "      <td>83.79071</td>\n",
       "      <td>9.040597</td>\n",
       "    </tr>\n",
       "  </tbody>\n",
       "</table>\n",
       "</div>"
      ],
      "text/plain": [
       "   number_of_features  percentage_difference  valid_rsq  valid_mae  valid_mse  \\\n",
       "4                   6              -0.057117   0.221471   5.620456   83.79071   \n",
       "\n",
       "   valid_rmse  \n",
       "4    9.040597  "
      ]
     },
     "execution_count": 58,
     "metadata": {},
     "output_type": "execute_result"
    }
   ],
   "source": [
    "grouped_linear_regression_results_df[grouped_linear_regression_results_df['valid_mae'] == grouped_linear_regression_results_df['valid_mae'].min()]"
   ]
  },
  {
   "cell_type": "code",
   "execution_count": 59,
   "id": "ea2aa057",
   "metadata": {},
   "outputs": [
    {
     "data": {
      "text/html": [
       "<div>\n",
       "<style scoped>\n",
       "    .dataframe tbody tr th:only-of-type {\n",
       "        vertical-align: middle;\n",
       "    }\n",
       "\n",
       "    .dataframe tbody tr th {\n",
       "        vertical-align: top;\n",
       "    }\n",
       "\n",
       "    .dataframe thead th {\n",
       "        text-align: right;\n",
       "    }\n",
       "</style>\n",
       "<table border=\"1\" class=\"dataframe\">\n",
       "  <thead>\n",
       "    <tr style=\"text-align: right;\">\n",
       "      <th></th>\n",
       "      <th>number_of_features</th>\n",
       "      <th>percentage_difference</th>\n",
       "      <th>valid_rsq</th>\n",
       "      <th>valid_mae</th>\n",
       "      <th>valid_mse</th>\n",
       "      <th>valid_rmse</th>\n",
       "    </tr>\n",
       "  </thead>\n",
       "  <tbody>\n",
       "    <tr>\n",
       "      <th>4</th>\n",
       "      <td>6</td>\n",
       "      <td>-0.057117</td>\n",
       "      <td>0.221471</td>\n",
       "      <td>5.620456</td>\n",
       "      <td>83.79071</td>\n",
       "      <td>9.040597</td>\n",
       "    </tr>\n",
       "  </tbody>\n",
       "</table>\n",
       "</div>"
      ],
      "text/plain": [
       "   number_of_features  percentage_difference  valid_rsq  valid_mae  valid_mse  \\\n",
       "4                   6              -0.057117   0.221471   5.620456   83.79071   \n",
       "\n",
       "   valid_rmse  \n",
       "4    9.040597  "
      ]
     },
     "execution_count": 59,
     "metadata": {},
     "output_type": "execute_result"
    }
   ],
   "source": [
    "grouped_linear_regression_results_df[grouped_linear_regression_results_df['valid_rsq'] == grouped_linear_regression_results_df['valid_rsq'].max()]"
   ]
  },
  {
   "cell_type": "markdown",
   "id": "7cb45f72",
   "metadata": {},
   "source": [
    "Now we need to save the best model and test it on the test data."
   ]
  },
  {
   "cell_type": "code",
   "execution_count": 60,
   "id": "dc368a59",
   "metadata": {},
   "outputs": [],
   "source": [
    "rfe = RFE(estimator=LinearRegression(fit_intercept=True), n_features_to_select=6)"
   ]
  },
  {
   "cell_type": "code",
   "execution_count": 61,
   "id": "0e9b3c07",
   "metadata": {},
   "outputs": [],
   "source": [
    "best_pipe = make_pipeline(rfe,\n",
    "                     preprocessing.StandardScaler(), \n",
    "                     LinearRegression(fit_intercept=True),\n",
    "                    )"
   ]
  },
  {
   "cell_type": "markdown",
   "id": "202c283e",
   "metadata": {},
   "source": [
    "Preprocess the data"
   ]
  },
  {
   "cell_type": "code",
   "execution_count": 62,
   "id": "238d451b",
   "metadata": {},
   "outputs": [
    {
     "name": "stderr",
     "output_type": "stream",
     "text": [
      "C:\\Users\\Lenovo\\AppData\\Local\\Temp\\ipykernel_7268\\2457187115.py:2: SettingWithCopyWarning: \n",
      "A value is trying to be set on a copy of a slice from a DataFrame.\n",
      "Try using .loc[row_indexer,col_indexer] = value instead\n",
      "\n",
      "See the caveats in the documentation: https://pandas.pydata.org/pandas-docs/stable/user_guide/indexing.html#returning-a-view-versus-a-copy\n",
      "  X_train.loc[:, categorical] = enc.fit_transform(X_train[categorical])\n",
      "C:\\Users\\Lenovo\\AppData\\Local\\Temp\\ipykernel_7268\\2457187115.py:3: SettingWithCopyWarning: \n",
      "A value is trying to be set on a copy of a slice from a DataFrame.\n",
      "Try using .loc[row_indexer,col_indexer] = value instead\n",
      "\n",
      "See the caveats in the documentation: https://pandas.pydata.org/pandas-docs/stable/user_guide/indexing.html#returning-a-view-versus-a-copy\n",
      "  X_test.loc[:, categorical] = enc.transform(X_test[categorical])\n"
     ]
    }
   ],
   "source": [
    "enc = preprocessing.OrdinalEncoder(handle_unknown='use_encoded_value', unknown_value=100)\n",
    "X_train.loc[:, categorical] = enc.fit_transform(X_train[categorical])\n",
    "X_test.loc[:, categorical] = enc.transform(X_test[categorical])\n",
    "\n",
    "y_train_enc = y_train.values.flatten()\n",
    "y_test_enc = y_test.values.flatten()"
   ]
  },
  {
   "cell_type": "markdown",
   "id": "de640753",
   "metadata": {},
   "source": [
    "Fit the model"
   ]
  },
  {
   "cell_type": "code",
   "execution_count": 63,
   "id": "9f5fbfdd",
   "metadata": {
    "scrolled": true
   },
   "outputs": [
    {
     "data": {
      "text/plain": [
       "Pipeline(steps=[('rfe',\n",
       "                 RFE(estimator=LinearRegression(), n_features_to_select=6)),\n",
       "                ('standardscaler', StandardScaler()),\n",
       "                ('linearregression', LinearRegression())])"
      ]
     },
     "execution_count": 63,
     "metadata": {},
     "output_type": "execute_result"
    }
   ],
   "source": [
    "best_pipe.fit(X_train, y_train_enc)"
   ]
  },
  {
   "cell_type": "markdown",
   "id": "742ac9d5",
   "metadata": {},
   "source": [
    "Obtain metric scores"
   ]
  },
  {
   "cell_type": "code",
   "execution_count": 64,
   "id": "9b087a38",
   "metadata": {},
   "outputs": [],
   "source": [
    "test_predictions = best_pipe.predict(X_test)\n",
    "test_mae = mean_absolute_error(y_test_enc, test_predictions)\n",
    "test_mse = mean_squared_error(y_test_enc, test_predictions)\n",
    "test_rmse = mean_squared_error(y_test_enc, test_predictions, squared=False)\n",
    "test_rsq = r2_score(y_test_enc, test_predictions)"
   ]
  },
  {
   "cell_type": "markdown",
   "id": "7cf14a93",
   "metadata": {},
   "source": [
    "### Results on test set"
   ]
  },
  {
   "cell_type": "code",
   "execution_count": 65,
   "id": "df13536f",
   "metadata": {},
   "outputs": [
    {
     "name": "stdout",
     "output_type": "stream",
     "text": [
      "The MAE score on the test set for the best model is 4.27 \n",
      "\n"
     ]
    }
   ],
   "source": [
    "print(f\"The MAE score on the test set for the best model is {test_mae.round(3)} \\n\")"
   ]
  },
  {
   "cell_type": "code",
   "execution_count": 66,
   "id": "a0762be5",
   "metadata": {},
   "outputs": [
    {
     "name": "stdout",
     "output_type": "stream",
     "text": [
      "The MSE score on the test set for the best model is 45.038 \n",
      "\n"
     ]
    }
   ],
   "source": [
    "print(f\"The MSE score on the test set for the best model is {test_mse.round(3)} \\n\")"
   ]
  },
  {
   "cell_type": "code",
   "execution_count": 67,
   "id": "4023e5b9",
   "metadata": {},
   "outputs": [
    {
     "name": "stdout",
     "output_type": "stream",
     "text": [
      "The RMSE score on the test set for the best model is 6.711 \n",
      "\n"
     ]
    }
   ],
   "source": [
    "print(f\"The RMSE score on the test set for the best model is {test_rmse.round(3)} \\n\")"
   ]
  },
  {
   "cell_type": "code",
   "execution_count": 68,
   "id": "dbf55307",
   "metadata": {
    "scrolled": false
   },
   "outputs": [
    {
     "name": "stdout",
     "output_type": "stream",
     "text": [
      "The Rsq score on the test set for the best model is 0.436 \n",
      "\n"
     ]
    }
   ],
   "source": [
    "print(f\"The Rsq score on the test set for the best model is {test_rsq.round(3)} \\n\")"
   ]
  },
  {
   "cell_type": "code",
   "execution_count": 69,
   "id": "c7d8ac0f",
   "metadata": {
    "scrolled": false
   },
   "outputs": [
    {
     "data": {
      "image/png": "[encoded data removed]",
      "text/plain": [
       "<Figure size 720x360 with 1 Axes>"
      ]
     },
     "metadata": {
      "needs_background": "light"
     },
     "output_type": "display_data"
    }
   ],
   "source": [
    "plot_difference(y_test_enc, test_predictions)"
   ]
  },
  {
   "cell_type": "markdown",
   "id": "5683b62e",
   "metadata": {},
   "source": [
    "Save the model on disc"
   ]
  },
  {
   "cell_type": "code",
   "execution_count": 70,
   "id": "c734b366",
   "metadata": {},
   "outputs": [],
   "source": [
    "pickle.dump(best_pipe, open(models_dir+model_name, 'wb'))"
   ]
  },
  {
   "cell_type": "markdown",
   "id": "f23c9d86",
   "metadata": {},
   "source": [
    "Load the model from disk"
   ]
  },
  {
   "cell_type": "code",
   "execution_count": 71,
   "id": "3c787a56",
   "metadata": {},
   "outputs": [],
   "source": [
    "loaded_best_pipe = pickle.load(open(models_dir+model_name, 'rb'))"
   ]
  },
  {
   "cell_type": "code",
   "execution_count": null,
   "id": "1a93e0b5",
   "metadata": {},
   "outputs": [],
   "source": []
  }
 ],
 "metadata": {
  "kernelspec": {
   "display_name": "Python 3 (ipykernel)",
   "language": "python",
   "name": "python3"
  },
  "language_info": {
   "codemirror_mode": {
    "name": "ipython",
    "version": 3
   },
   "file_extension": ".py",
   "mimetype": "text/x-python",
   "name": "python",
   "nbconvert_exporter": "python",
   "pygments_lexer": "ipython3",
   "version": "3.8.8"
  }
 },
 "nbformat": 4,
 "nbformat_minor": 5
}
